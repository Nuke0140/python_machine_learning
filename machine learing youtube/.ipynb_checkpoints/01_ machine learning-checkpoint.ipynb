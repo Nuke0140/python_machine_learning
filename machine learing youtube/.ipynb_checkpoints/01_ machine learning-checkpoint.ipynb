{
 "cells": [
  {
   "cell_type": "markdown",
   "id": "cbff5d48",
   "metadata": {},
   "source": [
    "###\n",
    "###### machine learing is set of techniques to make computer  better at doing things that humans (traditioally) can do better then machine \n",
    "\n",
    "###### machine learning involves making machine  learn things like humans do \n",
    "###### Set of techiniques to extract knowledege  from avaible data use that knowledge to make decisions \n",
    "\n",
    "- machine learing  ([Deep learing], [mathematical model])\n",
    "- \n"
   ]
  },
  {
   "cell_type": "code",
   "execution_count": null,
   "id": "cbb201d1",
   "metadata": {},
   "outputs": [],
   "source": []
  },
  {
   "cell_type": "code",
   "execution_count": null,
   "id": "621634b8",
   "metadata": {},
   "outputs": [],
   "source": []
  },
  {
   "cell_type": "code",
   "execution_count": null,
   "id": "52f4640a",
   "metadata": {},
   "outputs": [],
   "source": []
  },
  {
   "cell_type": "code",
   "execution_count": null,
   "id": "3620555b",
   "metadata": {},
   "outputs": [],
   "source": []
  },
  {
   "cell_type": "code",
   "execution_count": null,
   "id": "2d553fb1",
   "metadata": {},
   "outputs": [],
   "source": []
  },
  {
   "cell_type": "code",
   "execution_count": null,
   "id": "1904354d",
   "metadata": {},
   "outputs": [],
   "source": []
  }
 ],
 "metadata": {
  "kernelspec": {
   "display_name": "Python 3 (ipykernel)",
   "language": "python",
   "name": "python3"
  },
  "language_info": {
   "codemirror_mode": {
    "name": "ipython",
    "version": 3
   },
   "file_extension": ".py",
   "mimetype": "text/x-python",
   "name": "python",
   "nbconvert_exporter": "python",
   "pygments_lexer": "ipython3",
   "version": "3.9.7"
  }
 },
 "nbformat": 4,
 "nbformat_minor": 5
}
