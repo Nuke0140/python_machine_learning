{
 "cells": [
  {
   "cell_type": "markdown",
   "id": "0ba5c6ba",
   "metadata": {},
   "source": [
    "# logistic regression \n",
    "\n",
    "--- \n",
    "- Logistice regession is one og the technique used for classification \n",
    "\n",
    "\n",
    "--- \n",
    "\n",
    "- - classification types \n",
    "\n",
    "- 1. will customer buy life insurance ( 1. yes  2. No)\n",
    "- 2. Which party a person is going to vote for (1. democratic 2. Repubican 3. Indepedent )\n",
    "- 3. Binary classifcation \n",
    "\n",
    "\n",
    "---\n",
    "- Sigmoid or Logit Function "
   ]
  },
  {
   "cell_type": "code",
   "execution_count": null,
   "id": "1f53cd33",
   "metadata": {},
   "outputs": [],
   "source": [
    "#lets code \n",
    "import pandas as pd \n",
    "from matplotlib import pyplot as plt \n",
    "%matplotlib inline \n",
    "\n",
    "import seaborn as sns"
   ]
  },
  {
   "cell_type": "code",
   "execution_count": null,
   "id": "273fc1c1",
   "metadata": {},
   "outputs": [],
   "source": [
    "df = pd.read_csv(\"insurance_data.csv\")"
   ]
  },
  {
   "cell_type": "code",
   "execution_count": null,
   "id": "254991ab",
   "metadata": {},
   "outputs": [],
   "source": [
    "df.head()"
   ]
  },
  {
   "cell_type": "code",
   "execution_count": null,
   "id": "71e389a6",
   "metadata": {},
   "outputs": [],
   "source": [
    "x = df.age"
   ]
  },
  {
   "cell_type": "code",
   "execution_count": null,
   "id": "9333c838",
   "metadata": {},
   "outputs": [],
   "source": [
    "x"
   ]
  },
  {
   "cell_type": "code",
   "execution_count": null,
   "id": "9c81a7b5",
   "metadata": {},
   "outputs": [],
   "source": [
    "y = df.bought_insuracne"
   ]
  },
  {
   "cell_type": "code",
   "execution_count": null,
   "id": "c690c2d8",
   "metadata": {},
   "outputs": [],
   "source": []
  },
  {
   "cell_type": "code",
   "execution_count": null,
   "id": "57dae106",
   "metadata": {},
   "outputs": [],
   "source": [
    "# sactter plot \n",
    "plt.scatter(df.age,df.bought_insuracne, marker='+',color='red')"
   ]
  },
  {
   "cell_type": "code",
   "execution_count": null,
   "id": "c39691f9",
   "metadata": {},
   "outputs": [],
   "source": [
    "df.head()"
   ]
  },
  {
   "cell_type": "code",
   "execution_count": null,
   "id": "e3001533",
   "metadata": {},
   "outputs": [],
   "source": [
    "df=pd.read_csv('HR_comma_sep.csv')"
   ]
  },
  {
   "cell_type": "code",
   "execution_count": null,
   "id": "50bf0ce5",
   "metadata": {},
   "outputs": [],
   "source": [
    "df.head()"
   ]
  },
  {
   "cell_type": "markdown",
   "id": "93c0ffef",
   "metadata": {},
   "source": [
    " # Exercise \n",
    " \n",
    " - 1 . Now do some exploratory data snalysis to figure out whch variavles have and direct clear impact on employee retention (i.e whether they leave the company or continue to work) \n",
    " - 2 plot bar charts showing impact of employee salaries on retention \n",
    " - 3. plot bar chart showing regression between department and employee retention \n",
    " - 4. now bild logistci regression model using variables that were narrowed down in step 1 \n",
    " - 5 . measure the accurancy of the model \n",
    " \n",
    " "
   ]
  },
  {
   "cell_type": "code",
   "execution_count": null,
   "id": "107933ee",
   "metadata": {},
   "outputs": [],
   "source": [
    "plt.scatter(df.satisfaction_level,df.average_montly_hours, marker='+',color='red')\n",
    "plt.title(\"satisfaction_level with no hours  \")"
   ]
  },
  {
   "cell_type": "code",
   "execution_count": null,
   "id": "43791b16",
   "metadata": {},
   "outputs": [],
   "source": [
    "plt.bar"
   ]
  },
  {
   "cell_type": "code",
   "execution_count": null,
   "id": "50318e90",
   "metadata": {},
   "outputs": [],
   "source": [
    "\n",
    "sns.barplot(x = \"left\", y = \"salary\", data = df)\n",
    "plt.show()\n"
   ]
  },
  {
   "cell_type": "code",
   "execution_count": null,
   "id": "22c7864e",
   "metadata": {},
   "outputs": [],
   "source": []
  },
  {
   "cell_type": "code",
   "execution_count": null,
   "id": "5a50dacb",
   "metadata": {},
   "outputs": [],
   "source": [
    "# basiccally low salary people leaving our c\n"
   ]
  },
  {
   "cell_type": "code",
   "execution_count": null,
   "id": "2b843865",
   "metadata": {},
   "outputs": [],
   "source": [
    "\n",
    "sns.catplot(x = \"number_project\", y = \"salary\", data = df)\n",
    "plt.show()\n"
   ]
  },
  {
   "cell_type": "code",
   "execution_count": null,
   "id": "e87f3d01",
   "metadata": {},
   "outputs": [],
   "source": [
    "sns.catplot(x=\"number_project\", kind=\"salary\", palette=\"ch:.25\", data=df)\n",
    "plt.show()"
   ]
  },
  {
   "cell_type": "code",
   "execution_count": null,
   "id": "7eb175fe",
   "metadata": {},
   "outputs": [],
   "source": [
    "from sklearn.model_selectionction import train_test_split"
   ]
  },
  {
   "cell_type": "code",
   "execution_count": null,
   "id": "9b4f3cbb",
   "metadata": {},
   "outputs": [],
   "source": [
    "x_train,x_test,y_train,y_test=train_test_split(df[[]])"
   ]
  },
  {
   "cell_type": "code",
   "execution_count": null,
   "id": "c6fc4ff0",
   "metadata": {},
   "outputs": [],
   "source": []
  },
  {
   "cell_type": "code",
   "execution_count": null,
   "id": "4bd09211",
   "metadata": {},
   "outputs": [],
   "source": []
  },
  {
   "cell_type": "code",
   "execution_count": null,
   "id": "e54f336a",
   "metadata": {},
   "outputs": [],
   "source": []
  }
 ],
 "metadata": {
  "kernelspec": {
   "display_name": "Python 3",
   "language": "python",
   "name": "python3"
  },
  "language_info": {
   "codemirror_mode": {
    "name": "ipython",
    "version": 3
   },
   "file_extension": ".py",
   "mimetype": "text/x-python",
   "name": "python",
   "nbconvert_exporter": "python",
   "pygments_lexer": "ipython3",
   "version": "3.9.7"
  }
 },
 "nbformat": 4,
 "nbformat_minor": 5
}
