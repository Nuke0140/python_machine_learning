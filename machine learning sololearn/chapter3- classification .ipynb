{
 "cells": [
  {
   "cell_type": "markdown",
   "id": "1f2299d0",
   "metadata": {},
   "source": [
    "# Classification \n",
    "\n",
    "----\n",
    "\n",
    "- classification is a task that requires the use of machine learning algorithms to learn how to assign a class label to given data \n",
    "\n",
    "- "
   ]
  },
  {
   "cell_type": "code",
   "execution_count": 1,
   "id": "940b44f0",
   "metadata": {},
   "outputs": [],
   "source": [
    "from sklearn .datasets import fetch_openml"
   ]
  },
  {
   "cell_type": "code",
   "execution_count": 13,
   "id": "20221697",
   "metadata": {},
   "outputs": [],
   "source": [
    "#mnist=fetch_openml('minist_764',version=1)#\n",
    "#mnist.keys()\n"
   ]
  },
  {
   "cell_type": "code",
   "execution_count": 5,
   "id": "052a5954",
   "metadata": {},
   "outputs": [],
   "source": [
    "import pandas as pd "
   ]
  },
  {
   "cell_type": "code",
   "execution_count": 6,
   "id": "aff07797",
   "metadata": {},
   "outputs": [],
   "source": [
    "d= pd.date_range('11.sep-2017','17-sep-2017',freq='2D')\n"
   ]
  },
  {
   "cell_type": "code",
   "execution_count": 7,
   "id": "b1b8b8eb",
   "metadata": {},
   "outputs": [
    {
     "data": {
      "text/plain": [
       "1"
      ]
     },
     "execution_count": 7,
     "metadata": {},
     "output_type": "execute_result"
    }
   ],
   "source": [
    "len(d[d.isin(pd.to_datetime(['12-09-2017','15-09-2017']))])"
   ]
  },
  {
   "cell_type": "code",
   "execution_count": null,
   "id": "7d3ca509",
   "metadata": {
    "scrolled": true
   },
   "outputs": [],
   "source": [
    " "
   ]
  },
  {
   "cell_type": "code",
   "execution_count": 15,
   "id": "7e33514f",
   "metadata": {},
   "outputs": [],
   "source": []
  },
  {
   "cell_type": "code",
   "execution_count": null,
   "id": "c4758f3f",
   "metadata": {},
   "outputs": [],
   "source": []
  },
  {
   "cell_type": "code",
   "execution_count": null,
   "id": "fdb383c9",
   "metadata": {},
   "outputs": [],
   "source": []
  },
  {
   "cell_type": "code",
   "execution_count": null,
   "id": "fcc21230",
   "metadata": {},
   "outputs": [],
   "source": []
  },
  {
   "cell_type": "code",
   "execution_count": null,
   "id": "88f450a9",
   "metadata": {},
   "outputs": [],
   "source": []
  },
  {
   "cell_type": "code",
   "execution_count": null,
   "id": "d293e4bf",
   "metadata": {},
   "outputs": [],
   "source": []
  },
  {
   "cell_type": "code",
   "execution_count": null,
   "id": "bba91099",
   "metadata": {},
   "outputs": [],
   "source": []
  }
 ],
 "metadata": {
  "kernelspec": {
   "display_name": "Python 3 (ipykernel)",
   "language": "python",
   "name": "python3"
  },
  "language_info": {
   "codemirror_mode": {
    "name": "ipython",
    "version": 3
   },
   "file_extension": ".py",
   "mimetype": "text/x-python",
   "name": "python",
   "nbconvert_exporter": "python",
   "pygments_lexer": "ipython3",
   "version": "3.9.7"
  }
 },
 "nbformat": 4,
 "nbformat_minor": 5
}
