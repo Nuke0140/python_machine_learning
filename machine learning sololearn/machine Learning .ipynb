{
 "cells": [
  {
   "cell_type": "code",
   "execution_count": 41,
   "id": "ac9fb112",
   "metadata": {},
   "outputs": [
    {
     "name": "stdout",
     "output_type": "stream",
     "text": [
      "hello NUke the boss killer \n"
     ]
    }
   ],
   "source": [
    "a = \"hello NUke \"\n",
    "b=\"the boss killer \"\n",
    "print(a+b)"
   ]
  },
  {
   "cell_type": "markdown",
   "id": "f58c42ca",
   "metadata": {},
   "source": [
    "# Reading in  your data \n",
    "\n",
    " we will workig with data of titanic passegers "
   ]
  },
  {
   "cell_type": "code",
   "execution_count": 42,
   "id": "58301c70",
   "metadata": {},
   "outputs": [],
   "source": [
    "import pandas as pd \n",
    "df = pd.read_csv('titanic.csv')"
   ]
  },
  {
   "cell_type": "code",
   "execution_count": 43,
   "id": "7d849629",
   "metadata": {
    "scrolled": true
   },
   "outputs": [
    {
     "name": "stdout",
     "output_type": "stream",
     "text": [
      "   Survived  Pclass     Sex   Age  Siblings/Spouses  Parents/Children     Fare\n",
      "0         0       3    male  22.0                 1                 0   7.2500\n",
      "1         1       1  female  38.0                 1                 0  71.2833\n",
      "2         1       3  female  26.0                 0                 0   7.9250\n",
      "3         1       1  female  35.0                 1                 0  53.1000\n",
      "4         0       3    male  35.0                 0                 0   8.0500\n"
     ]
    }
   ],
   "source": [
    "print(df.head())"
   ]
  },
  {
   "cell_type": "markdown",
   "id": "653bddcf",
   "metadata": {},
   "source": [
    "Generally data is stroed in CSV(Comma-Separated Valus) files which we can easily read in with pandas read_csv funciton. the head method return the first 5 rows \n"
   ]
  },
  {
   "cell_type": "markdown",
   "id": "84fa65be",
   "metadata": {},
   "source": [
    "# Summarize the data \n",
    "\n",
    " in pandas we can use the describe method . it return a table of statistics about the colums \n",
    " "
   ]
  },
  {
   "cell_type": "code",
   "execution_count": 44,
   "id": "06042da8",
   "metadata": {},
   "outputs": [
    {
     "name": "stdout",
     "output_type": "stream",
     "text": [
      "         Survived      Pclass         Age  Siblings/Spouses  Parents/Children  \\\n",
      "count  887.000000  887.000000  887.000000        887.000000        887.000000   \n",
      "mean     0.385569    2.305524   29.471443          0.525366          0.383315   \n",
      "std      0.487004    0.836662   14.121908          1.104669          0.807466   \n",
      "min      0.000000    1.000000    0.420000          0.000000          0.000000   \n",
      "25%      0.000000    2.000000   20.250000          0.000000          0.000000   \n",
      "50%      0.000000    3.000000   28.000000          0.000000          0.000000   \n",
      "75%      1.000000    3.000000   38.000000          1.000000          0.000000   \n",
      "max      1.000000    3.000000   80.000000          8.000000          6.000000   \n",
      "\n",
      "            Fare  \n",
      "count  887.00000  \n",
      "mean    32.30542  \n",
      "std     49.78204  \n",
      "min      0.00000  \n",
      "25%      7.92500  \n",
      "50%     14.45420  \n",
      "75%     31.13750  \n",
      "max    512.32920  \n"
     ]
    }
   ],
   "source": [
    "print (df.describe())"
   ]
  },
  {
   "cell_type": "markdown",
   "id": "249caf4a",
   "metadata": {},
   "source": [
    "# lets review what each of these statistics means :\n",
    "\n",
    "- Count :  this is the number of rows that have value . in out case every passenger has value  for each colums so the \n",
    "           the value is 887 (total number of passenger ) \n",
    "- Mean  :   Recall that the mean is the standard average \n",
    "- std   : This is short for standard deviation . this is measure of how dispersed the data is \n",
    "- min   : the smallest value \n",
    "- 25%   : The 25th percentile \n",
    "- 50%   : the 50th percentile, also knowwn  as the median.\n",
    "- 75%   : the 75th percentile \n",
    "- Max   : The largest value "
   ]
  },
  {
   "cell_type": "markdown",
   "id": "1dd6546c",
   "metadata": {},
   "source": [
    "WE use pandas describe  method to start bulding some intuition about our data "
   ]
  },
  {
   "cell_type": "markdown",
   "id": "8134b5a1",
   "metadata": {},
   "source": [
    "# Seleting a column \n",
    "\n",
    "we use the square brackets and the column name "
   ]
  },
  {
   "cell_type": "code",
   "execution_count": 45,
   "id": "9f4cc5cc",
   "metadata": {},
   "outputs": [
    {
     "name": "stdout",
     "output_type": "stream",
     "text": [
      "0       7.2500\n",
      "1      71.2833\n",
      "2       7.9250\n",
      "3      53.1000\n",
      "4       8.0500\n",
      "        ...   \n",
      "882    13.0000\n",
      "883    30.0000\n",
      "884    23.4500\n",
      "885    30.0000\n",
      "886     7.7500\n",
      "Name: Fare, Length: 887, dtype: float64\n"
     ]
    }
   ],
   "source": [
    "col = df['Fare']\n",
    "print(col)"
   ]
  },
  {
   "cell_type": "markdown",
   "id": "f9e4ef58",
   "metadata": {},
   "source": [
    "# selecting multiple columns \n",
    "\n"
   ]
  },
  {
   "cell_type": "code",
   "execution_count": 46,
   "id": "c67a2743",
   "metadata": {},
   "outputs": [
    {
     "name": "stdout",
     "output_type": "stream",
     "text": [
      "    Age     Sex  Survived\n",
      "0  22.0    male         0\n",
      "1  38.0  female         1\n",
      "2  26.0  female         1\n",
      "3  35.0  female         1\n",
      "4  35.0    male         0\n"
     ]
    }
   ],
   "source": [
    "small_df = df[['Age','Sex','Survived']]\n",
    "print(small_df.head())"
   ]
  },
  {
   "cell_type": "markdown",
   "id": "eb88e8b9",
   "metadata": {},
   "source": [
    "###### when selectin single  solumn a pandas dataFrame we use single square brackets. when slecting multiple columns we  double square bracket "
   ]
  },
  {
   "cell_type": "markdown",
   "id": "aa9fa133",
   "metadata": {},
   "source": [
    "#####  Creating a column "
   ]
  },
  {
   "cell_type": "code",
   "execution_count": 47,
   "id": "1f2c9a2d",
   "metadata": {},
   "outputs": [
    {
     "name": "stdout",
     "output_type": "stream",
     "text": [
      "0       True\n",
      "1      False\n",
      "2      False\n",
      "3      False\n",
      "4       True\n",
      "       ...  \n",
      "882     True\n",
      "883    False\n",
      "884    False\n",
      "885     True\n",
      "886     True\n",
      "Name: Sex, Length: 887, dtype: bool\n"
     ]
    }
   ],
   "source": [
    "print(df['Sex']=='male')"
   ]
  },
  {
   "cell_type": "code",
   "execution_count": 48,
   "id": "355bfef4",
   "metadata": {},
   "outputs": [
    {
     "name": "stdout",
     "output_type": "stream",
     "text": [
      "   Survived  Pclass     Sex   Age  Siblings/Spouses  Parents/Children  \\\n",
      "0         0       3    male  22.0                 1                 0   \n",
      "1         1       1  female  38.0                 1                 0   \n",
      "2         1       3  female  26.0                 0                 0   \n",
      "3         1       1  female  35.0                 1                 0   \n",
      "4         0       3    male  35.0                 0                 0   \n",
      "\n",
      "      Fare   male  \n",
      "0   7.2500   True  \n",
      "1  71.2833  False  \n",
      "2   7.9250  False  \n",
      "3  53.1000  False  \n",
      "4   8.0500   True  \n"
     ]
    }
   ],
   "source": [
    "df['male'] = df['Sex']=='male'\n",
    "print(df.head())"
   ]
  },
  {
   "cell_type": "markdown",
   "id": "4d01dd86",
   "metadata": {},
   "source": [
    " - our dataframe now  looks as follows ,Note the new column at the end \n",
    " - Often our data isnt in the ideal format.. luckily pandas makes it easy to us to create new columns based on our data  so we can format it appropriately \n",
    " "
   ]
  },
  {
   "cell_type": "markdown",
   "id": "7baa9b05",
   "metadata": {},
   "source": [
    "#  what is Numpy ?\n",
    "### \n",
    "#### Numpy is a  python  package for manipulating lists and tables of numerical data  \n",
    "#### we can used do a lot of stastical calculation we call list or table os data numpy array \n",
    "\n",
    "\n",
    "### Numpy is  pyhton module for doing calculationas on tables  of data  pandas was actually built using Numpy as its foundation "
   ]
  },
  {
   "cell_type": "markdown",
   "id": "1da10167",
   "metadata": {},
   "source": [
    " the data  object in numpy is called a(n)\":Array"
   ]
  },
  {
   "cell_type": "code",
   "execution_count": 49,
   "id": "4d9716d0",
   "metadata": {},
   "outputs": [
    {
     "name": "stdout",
     "output_type": "stream",
     "text": [
      "[  7.25    71.2833   7.925   53.1      8.05     8.4583  51.8625  21.075\n",
      "  11.1333  30.0708  16.7     26.55     8.05    31.275    7.8542  16.\n",
      "  29.125   13.      18.       7.225   26.      13.       8.0292  35.5\n",
      "  21.075   31.3875   7.225  263.       7.8792   7.8958  27.7208 146.5208\n",
      "   7.75    10.5     82.1708  52.       7.2292   8.05    18.      11.2417\n",
      "   9.475   21.      41.5792   7.8792   8.05    15.5      7.75    21.6792\n",
      "  17.8     39.6875   7.8     76.7292  26.      61.9792  35.5     10.5\n",
      "   7.2292  27.75    46.9      7.2292  80.      83.475   27.9     27.7208\n",
      "  15.2458  10.5      8.1583   7.925    8.6625  10.5     46.9     73.5\n",
      "  14.4542  56.4958   7.65     7.8958   8.05    29.      12.475    9.\n",
      "   9.5      7.7875  47.1     10.5     15.85    34.375    8.05   263.\n",
      "   8.05     8.05     7.8542  61.175   20.575    7.25     8.05    34.6542\n",
      "  63.3583  23.      26.       7.8958   7.8958  77.2875   8.6542   7.925\n",
      "   7.8958   7.65     7.775    7.8958  24.15    52.      14.4542   8.05\n",
      "   9.825   14.4583   7.925    7.75    21.     247.5208  31.275   73.5\n",
      "   8.05    30.0708  13.      77.2875  11.2417   7.75     7.1417  22.3583\n",
      "   6.975    7.8958   7.05    14.5     26.      13.      15.0458  26.2833\n",
      "  53.1      9.2167  79.2     15.2458   7.75    15.85     6.75    11.5\n",
      "  36.75     7.7958  34.375   26.      13.      12.525   66.6      8.05\n",
      "  14.5      7.3125  61.3792   7.7333   8.05     8.6625  69.55    16.1\n",
      "  15.75     7.775    8.6625  39.6875  20.525   55.      27.9     25.925\n",
      "  56.4958  33.5     29.125   11.1333   7.925   30.6958   7.8542  25.4667\n",
      "  28.7125  13.       0.      69.55    15.05    31.3875  39.      22.025\n",
      "  50.      15.5     26.55    15.5      7.8958  13.      13.       7.8542\n",
      "  26.      27.7208 146.5208   7.75     8.4042   7.75    13.       9.5\n",
      "  69.55     6.4958   7.225    8.05    10.4625  15.85    18.7875   7.75\n",
      "  31.       7.05    21.       7.25    13.       7.75   113.275    7.925\n",
      "  27.      76.2917  10.5      8.05    13.       8.05     7.8958  90.\n",
      "   9.35    10.5      7.25    13.      25.4667  83.475    7.775   13.5\n",
      "  31.3875  10.5      7.55    26.      26.25    10.5     12.275   14.4542\n",
      "  15.5     10.5      7.125    7.225   90.       7.775   14.5     52.5542\n",
      "  26.       7.25    10.4625  26.55    16.1     20.2125  15.2458  79.2\n",
      "  86.5    512.3292  26.      31.3875  79.65     0.       7.75    10.5\n",
      "  39.6875   7.775  153.4625 135.6333  31.       0.      19.5     29.7\n",
      "   7.75    77.9583   7.75     0.      29.125   20.25     7.75     7.8542\n",
      "   9.5      8.05    26.       8.6625   9.5      7.8958  13.       7.75\n",
      "  78.85    91.0792  12.875    8.85     7.8958  27.7208   7.2292 151.55\n",
      "  30.5    247.5208   7.75    23.25     0.      12.35     8.05   151.55\n",
      " 110.8833 108.9     24.      56.9292  83.1583 262.375   26.       7.8958\n",
      "  26.25     7.8542  26.      14.     164.8667 134.5      7.25     7.8958\n",
      "  12.35    29.      69.55   135.6333   6.2375  13.      20.525   57.9792\n",
      "  23.25    28.5    153.4625  18.     133.65     7.8958  66.6    134.5\n",
      "   8.05    35.5     26.     263.      13.      13.      13.      13.\n",
      "  13.      16.1     15.9      8.6625   9.225   35.       7.2292  17.8\n",
      "   7.225    9.5     55.      13.       7.8792   7.8792  27.9     27.7208\n",
      "  14.4542   7.05    15.5      7.25    75.25     7.2292   7.75    69.3\n",
      "  55.4417   6.4958   8.05   135.6333  21.075   82.1708   7.25   211.5\n",
      "   4.0125   7.775  227.525   15.7417   7.925   52.       7.8958  73.5\n",
      "  46.9     13.       7.7292  12.     120.       7.7958   7.925  113.275\n",
      "  16.7      7.7958   7.8542  26.      10.5     12.65     7.925    8.05\n",
      "   9.825   15.85     8.6625  21.       7.75    18.75     7.775   25.4667\n",
      "   7.8958   6.8583  90.       0.       7.925    8.05    32.5     13.\n",
      "  13.      24.15     7.7333   7.875   14.4     20.2125   7.25    26.\n",
      "  26.       7.75     8.05    26.55    16.1     26.       7.125   55.9\n",
      " 120.      34.375   18.75   263.      10.5     26.25     9.5      7.775\n",
      "  13.       8.1125  81.8583  19.5     26.55    19.2583  30.5     27.75\n",
      "  19.9667  27.75    89.1042   8.05     7.8958  26.55    51.8625  10.5\n",
      "   7.75    26.55     8.05    38.5     13.       8.05     7.05     0.\n",
      "  26.55     7.725   19.2583   7.25     8.6625  27.75    13.7917   9.8375\n",
      "  52.      21.       7.0458   7.5208  12.2875  46.9      0.       8.05\n",
      "   9.5875  91.0792  25.4667  90.      29.7      8.05    15.9     19.9667\n",
      "   7.25    30.5     49.5042   8.05    14.4583  78.2667  15.1    151.55\n",
      "   7.7958   8.6625   7.75     7.6292   9.5875  86.5    108.9     26.\n",
      "  26.55    22.525   56.4958   7.75     8.05    26.2875  59.4      7.4958\n",
      "  34.0208  10.5     24.15    26.       7.8958  93.5      7.8958   7.225\n",
      "  57.9792   7.2292   7.75    10.5    221.7792   7.925   11.5     26.\n",
      "   7.2292   7.2292  22.3583   8.6625  26.25    26.55   106.425   14.5\n",
      "  49.5     71.      31.275   31.275   26.     106.425   26.      26.\n",
      "  13.8625  20.525   36.75   110.8833  26.       7.8292   7.225    7.775\n",
      "  26.55    39.6    227.525   79.65    17.4      7.75     7.8958  13.5\n",
      "   8.05     8.05    24.15     7.8958  21.075    7.2292   7.8542  10.5\n",
      "  51.4792  26.3875   7.75     8.05    14.5     13.      55.9     14.4583\n",
      "   7.925   30.     110.8833  26.      40.125    8.7125  79.65    15.\n",
      "  79.2      8.05     8.05     7.125   78.2667   7.25     7.75    26.\n",
      "  24.15    33.       0.       7.225   56.9292  27.       7.8958  42.4\n",
      "   8.05    26.55    15.55     7.8958  30.5     41.5792 153.4625  31.275\n",
      "   7.05    15.5      7.75     8.05    65.      14.4     16.1     39.\n",
      "  10.5     14.4542  52.5542  15.7417   7.8542  16.1     32.3208  12.35\n",
      "  77.9583   7.8958   7.7333  30.       7.0542  30.5      0.      27.9\n",
      "  13.       7.925   26.25    39.6875  16.1      7.8542  69.3     27.9\n",
      "  56.4958  19.2583  76.7292   7.8958  35.5      7.55     7.55     7.8958\n",
      "  23.       8.4333   7.8292   6.75    73.5      7.8958  15.5     13.\n",
      " 113.275  133.65     7.225   25.5875   7.4958   7.925   73.5     13.\n",
      "   7.775    8.05    52.      39.      52.      10.5     13.       0.\n",
      "   7.775    8.05     9.8417  46.9    512.3292   8.1375  76.7292   9.225\n",
      "  46.9     39.      41.5792  39.6875  10.1708   7.7958 211.3375  57.\n",
      "  13.4167  56.4958   7.225   26.55    13.5      8.05     7.7333 110.8833\n",
      "   7.65   227.525   26.2875  14.4542   7.7417   7.8542  26.      13.5\n",
      "  26.2875 151.55    15.2458  49.5042  26.55    52.       9.4833  13.\n",
      "   7.65   227.525   10.5      7.775   33.       7.0542  13.      13.\n",
      "  53.1      8.6625  21.       7.7375  26.       7.925  211.3375  18.7875\n",
      "   0.      13.      13.      16.1     34.375  512.3292   7.8958   7.8958\n",
      "  30.      78.85   262.375   16.1      7.925   71.      20.25    13.\n",
      "  53.1      7.75    23.      12.475    9.5      7.8958  65.      14.5\n",
      "   7.7958  11.5      8.05    86.5     14.5      7.125    7.2292 120.\n",
      "   7.775   77.9583  39.6      7.75    24.15     8.3625   9.5      7.8542\n",
      "  10.5      7.225   23.       7.75     7.75    12.475    7.7375 211.3375\n",
      "   7.2292  57.      30.      23.45     7.05     7.25     7.4958  29.125\n",
      "  20.575   79.2      7.75    26.      69.55    30.6958   7.8958  13.\n",
      "  25.9292   8.6833   7.2292  24.15    13.      26.25   120.       8.5167\n",
      "   6.975    7.775    0.       7.775   13.      53.1      7.8875  24.15\n",
      "  10.5     31.275    8.05     0.       7.925   37.0042   6.45    27.9\n",
      "  93.5      8.6625   0.      12.475   39.6875   6.95    56.4958  37.0042\n",
      "   7.75    80.      14.4542  18.75     7.2292   7.8542   8.3     83.1583\n",
      "   8.6625   8.05    56.4958  29.7      7.925   10.5     31.       6.4375\n",
      "   8.6625   7.55    69.55     7.8958  33.      89.1042  31.275    7.775\n",
      "  15.2458  39.4     26.       9.35   164.8667  26.55    19.2583   7.2292\n",
      "  14.1083  11.5     25.9292  69.55    13.      13.      13.8583  50.4958\n",
      "   9.5     11.1333   7.8958  52.5542   5.       9.      24.       7.225\n",
      "   9.8458   7.8958   7.8958  83.1583  26.       7.8958  10.5167  10.5\n",
      "   7.05    29.125   13.      30.      23.45    30.       7.75  ]\n"
     ]
    }
   ],
   "source": [
    "print (df['Fare'].values )"
   ]
  },
  {
   "cell_type": "markdown",
   "id": "2c6d0a44",
   "metadata": {},
   "source": [
    "Lets convert the Fare column to numpy array\n",
    "\n",
    "- then we use the value attribute to get the values as a numpy array\n",
    "-\n",
    "- The values attribute of a Pandas Series give the data as a numpy array.\n",
    "\n",
    "result is 1-dimensional array "
   ]
  },
  {
   "cell_type": "markdown",
   "id": "66712220",
   "metadata": {},
   "source": [
    "## Converting  from a pandas DataFrame to  a Numpy Array \n",
    "\n",
    "- we can still use value attribute but it return a 2-dimensional numoy array "
   ]
  },
  {
   "cell_type": "code",
   "execution_count": 50,
   "id": "69bdbcb9",
   "metadata": {},
   "outputs": [
    {
     "name": "stdout",
     "output_type": "stream",
     "text": [
      "[[ 3.      7.25   22.    ]\n",
      " [ 1.     71.2833 38.    ]\n",
      " [ 3.      7.925  26.    ]\n",
      " ...\n",
      " [ 3.     23.45    7.    ]\n",
      " [ 1.     30.     26.    ]\n",
      " [ 3.      7.75   32.    ]]\n"
     ]
    }
   ],
   "source": [
    "print(df[['Pclass', 'Fare', 'Age']].values)"
   ]
  },
  {
   "cell_type": "markdown",
   "id": "a5641d2b",
   "metadata": {},
   "source": [
    "The value atribute of a Pandas DataFrame give the data as a 2d numpy array "
   ]
  },
  {
   "cell_type": "code",
   "execution_count": 51,
   "id": "162e3a87",
   "metadata": {},
   "outputs": [
    {
     "name": "stdout",
     "output_type": "stream",
     "text": [
      "(887, 3)\n"
     ]
    }
   ],
   "source": [
    "arr = df[['Pclass', 'Fare', 'Age']].values\n",
    "print(arr.shape)"
   ]
  },
  {
   "cell_type": "markdown",
   "id": "41593df4",
   "metadata": {},
   "source": [
    "use the  shape atribute to find the number of rows adn number columns for a Numpy array \n",
    "\n",
    "you can aslo use the shape attribute on a pandas DataFrame (df.shape)\n",
    "\n"
   ]
  },
  {
   "cell_type": "markdown",
   "id": "bf868145",
   "metadata": {},
   "source": [
    "### Select from the a Numpy Array \n",
    "\n"
   ]
  },
  {
   "cell_type": "markdown",
   "id": "47796406",
   "metadata": {},
   "source": [
    "print(arr)"
   ]
  },
  {
   "cell_type": "code",
   "execution_count": 52,
   "id": "a8795498",
   "metadata": {},
   "outputs": [
    {
     "name": "stdout",
     "output_type": "stream",
     "text": [
      "7.25\n"
     ]
    }
   ],
   "source": [
    "print(arr[0,1])"
   ]
  },
  {
   "cell_type": "code",
   "execution_count": 53,
   "id": "269439d1",
   "metadata": {},
   "outputs": [
    {
     "name": "stdout",
     "output_type": "stream",
     "text": [
      "[22.   38.   26.   35.   35.   27.   54.    2.   27.   14.    4.   58.\n",
      " 20.   39.   14.   55.    2.   23.   31.   22.   35.   34.   15.   28.\n",
      "  8.   38.   26.   19.   24.   23.   40.   48.   18.   66.   28.   42.\n",
      " 18.   21.   18.   14.   40.   27.    3.   19.   30.   20.   27.   16.\n",
      " 18.    7.   21.   49.   29.   65.   46.   21.   28.5   5.   11.   22.\n",
      " 38.   45.    4.   64.    7.   29.   19.   17.   26.   32.   16.   21.\n",
      " 26.   32.   25.   23.   28.    0.83 30.   22.   29.   31.   28.   17.\n",
      " 33.   16.   20.   23.   24.   29.   20.   46.   26.   59.   22.   71.\n",
      " 23.   34.   34.   28.   29.   21.   33.   37.   28.   21.   29.   38.\n",
      " 28.   47.   14.5  22.   20.   17.   21.   70.5  29.   24.    2.   21.\n",
      " 19.   32.5  32.5  54.   12.   19.   24.    2.   45.   33.   20.   47.\n",
      " 29.   25.   23.   19.   37.   16.   24.   40.   22.   24.   19.   18.\n",
      " 19.   27.    9.   36.5  42.   51.   22.   55.5  40.5  27.   51.   16.\n",
      " 30.   37.    5.   44.   40.   26.   17.    1.    9.   48.   45.   60.\n",
      " 28.   61.    4.    1.   21.   56.   18.    5.   50.   30.   36.    8.\n",
      " 39.    9.    1.    4.   39.   26.   45.   40.   36.   32.   19.   19.\n",
      "  3.   44.   58.   28.   42.   21.   24.   28.   17.   34.   45.5  18.\n",
      "  2.   32.   26.   16.   40.   24.   35.   22.   30.   22.   31.   27.\n",
      " 42.   32.   30.   16.   27.   51.   22.   38.   22.   19.   20.5  18.\n",
      " 12.   35.   29.   59.    5.   24.   21.   44.    8.   19.   33.   19.\n",
      " 18.   29.   22.   30.   44.   25.   24.   37.   54.   18.   29.   62.\n",
      " 30.   41.   29.   38.   30.   35.   50.    3.   52.   40.   21.   36.\n",
      " 16.   25.   58.   35.   28.   25.   41.   37.   33.   63.   45.   21.\n",
      "  7.   35.   65.   28.   16.   19.   57.   33.   30.   22.   42.   22.\n",
      " 26.   19.   36.   24.   24.   30.   23.5   2.   47.   50.   20.   24.\n",
      " 19.   46.   28.    0.92 42.   17.   30.   30.   24.   18.   26.   28.\n",
      " 43.   26.   24.   54.   31.   40.   22.   27.   30.   22.   20.   36.\n",
      " 61.   36.   31.   16.   28.   45.5  38.   16.   42.   30.   29.   41.\n",
      " 45.   45.    2.   24.   28.   25.   36.   24.   40.   34.    3.   42.\n",
      " 23.   43.   15.   25.   23.   28.   22.   38.   22.   23.   40.   29.\n",
      " 45.   35.   27.   30.   60.   35.   22.   24.   25.   18.   19.   22.\n",
      "  3.   25.   22.   27.   20.   19.   42.    1.   32.   35.   27.   18.\n",
      "  1.   36.   19.   17.   36.   21.   28.   23.   24.   22.   31.   46.\n",
      " 23.   28.   39.   26.   21.   28.   20.   34.   51.    3.   21.    3.\n",
      " 42.   27.   33.   22.   44.   32.   34.   18.   30.   10.   21.   29.\n",
      " 28.   18.   54.   28.   19.   28.   32.   28.   33.   42.   17.   50.\n",
      " 14.   21.   24.   64.   31.   45.   20.   25.   28.   29.    4.   13.\n",
      " 34.    5.   52.   36.   28.   30.   49.   24.   29.   65.   41.   50.\n",
      " 17.   48.   34.   47.   48.   34.   38.   21.   56.   22.    0.75 39.\n",
      " 38.   33.   23.   22.   40.   34.   29.   22.    2.    9.   37.   50.\n",
      " 63.   25.    8.   35.   58.   30.    9.   19.   21.   55.   71.   21.\n",
      " 26.   54.   55.   25.   24.   17.   21.   21.   37.   16.   18.   33.\n",
      " 37.   28.   26.   29.   66.   36.   54.   24.   47.   34.   30.   36.\n",
      " 32.   30.   22.   35.   44.   18.   40.5  50.   49.   39.   23.    2.\n",
      " 17.   17.   24.   30.    7.   45.   30.   69.   22.   36.    9.   11.\n",
      " 32.   50.   64.   19.   27.   33.    8.   17.   27.   21.   22.   22.\n",
      " 62.   48.   45.   39.   36.   30.   40.   28.   40.   62.   24.   19.\n",
      " 29.   28.   32.   62.   53.   36.   22.   16.   19.   34.   39.   18.\n",
      " 32.   25.   39.   54.   36.   16.   18.   47.   60.   22.   22.   35.\n",
      " 52.   47.   40.   37.   36.   31.   49.   18.   49.   24.   42.   37.\n",
      " 44.   35.   36.   30.   27.   22.   40.   39.   21.   18.   22.   35.\n",
      " 24.   34.   26.    4.   26.   27.   42.   20.   21.   21.   61.   57.\n",
      " 21.   26.   18.   80.   51.   32.   30.    9.   28.   32.   31.   41.\n",
      " 37.   20.   24.    2.   32.    0.75 48.   19.   56.   21.   23.   23.\n",
      " 18.   21.   16.   18.   24.   27.   32.   23.   58.   50.   40.   47.\n",
      " 36.   20.   32.   25.   49.   43.   48.   40.   31.   70.   31.   19.\n",
      " 18.   24.5  18.   43.   36.   28.   27.   20.   14.   60.   25.   14.\n",
      " 19.   18.   15.   31.    4.   37.   25.   60.   52.   44.   19.   49.\n",
      " 42.   18.   35.   18.   25.   26.   39.   45.   42.   22.    4.   24.\n",
      " 41.   48.   29.   52.   19.   38.   27.   33.    6.   17.   34.   50.\n",
      " 27.   20.   30.   28.   25.   25.   29.   11.   41.   23.   23.   28.5\n",
      " 48.   35.   20.   32.   45.   36.   21.   24.   31.   70.   16.   30.\n",
      " 19.   31.    4.    6.   33.   23.   48.    0.67 28.   18.   34.   33.\n",
      " 23.   41.   20.   36.   16.   51.   46.   30.5  28.   32.   24.   48.\n",
      " 57.   29.   54.   18.   20.    5.   22.   43.   13.   17.   29.   35.\n",
      " 25.   25.   18.    8.    1.   46.   20.   16.   21.   43.   25.   39.\n",
      " 49.   31.   30.   30.   34.   31.   11.    0.42 27.   31.   39.   18.\n",
      " 39.   33.   26.   39.   35.    6.   30.5  39.   23.   31.   43.   10.\n",
      " 52.   27.   38.   27.    2.   36.   23.    1.   19.   62.   15.    0.83\n",
      " 30.   23.   18.   39.   21.   20.   32.   29.   20.   16.   30.   34.5\n",
      " 17.   42.   18.   35.   28.   40.    4.   74.    9.   16.   44.   18.\n",
      " 45.   51.   24.   30.   41.   21.   48.   14.   24.   42.   27.   31.\n",
      " 23.    4.   26.   47.   33.   47.   28.   15.   20.   19.   23.   56.\n",
      " 25.   33.   22.   28.   25.   39.   27.   19.    7.   26.   32.  ]\n"
     ]
    }
   ],
   "source": [
    "print(arr[:,2])"
   ]
  },
  {
   "cell_type": "markdown",
   "id": "0c781450",
   "metadata": {},
   "source": [
    "Using different syntax within brackets , we can select single values, a whole row a whole column "
   ]
  },
  {
   "cell_type": "code",
   "execution_count": 54,
   "id": "aba2ca1a",
   "metadata": {},
   "outputs": [
    {
     "name": "stdout",
     "output_type": "stream",
     "text": [
      "[[  3.      21.075    2.    ]\n",
      " [  2.      30.0708  14.    ]\n",
      " [  3.      16.7      4.    ]\n",
      " [  3.       7.8542  14.    ]\n",
      " [  3.      29.125    2.    ]\n",
      " [  3.       8.0292  15.    ]\n",
      " [  3.      21.075    8.    ]\n",
      " [  3.      11.2417  14.    ]\n",
      " [  2.      41.5792   3.    ]\n",
      " [  3.      21.6792  16.    ]\n",
      " [  3.      39.6875   7.    ]\n",
      " [  2.      27.75     5.    ]\n",
      " [  3.      46.9     11.    ]\n",
      " [  3.      27.9      4.    ]\n",
      " [  3.      15.2458   7.    ]\n",
      " [  3.       7.925   17.    ]\n",
      " [  3.      46.9     16.    ]\n",
      " [  2.      29.       0.83  ]\n",
      " [  2.      10.5     17.    ]\n",
      " [  3.      34.375   16.    ]\n",
      " [  3.      14.4542  14.5   ]\n",
      " [  3.      14.4583  17.    ]\n",
      " [  3.      31.275    2.    ]\n",
      " [  3.      11.2417  12.    ]\n",
      " [  3.      22.3583   2.    ]\n",
      " [  3.       9.2167  16.    ]\n",
      " [  3.      34.375    9.    ]\n",
      " [  3.       7.7333  16.    ]\n",
      " [  3.      69.55     5.    ]\n",
      " [  3.       8.6625  17.    ]\n",
      " [  3.      39.6875   1.    ]\n",
      " [  3.      20.525    9.    ]\n",
      " [  3.      29.125    4.    ]\n",
      " [  3.      11.1333   1.    ]\n",
      " [  3.      25.4667   5.    ]\n",
      " [  3.      69.55     8.    ]\n",
      " [  3.      31.3875   9.    ]\n",
      " [  2.      39.       1.    ]\n",
      " [  3.      22.025    4.    ]\n",
      " [  2.      26.       3.    ]\n",
      " [  3.      69.55    17.    ]\n",
      " [  3.      10.4625   2.    ]\n",
      " [  3.       7.75    16.    ]\n",
      " [  3.       8.05    16.    ]\n",
      " [  3.      25.4667  12.    ]\n",
      " [  3.      31.3875   5.    ]\n",
      " [  2.      26.25     8.    ]\n",
      " [  3.      31.3875   3.    ]\n",
      " [  3.      39.6875  16.    ]\n",
      " [  3.      29.125    7.    ]\n",
      " [  3.       9.5     16.    ]\n",
      " [  1.     151.55     2.    ]\n",
      " [  1.     151.55     0.92  ]\n",
      " [  1.     108.9     17.    ]\n",
      " [  1.      57.9792  16.    ]\n",
      " [  3.      18.      16.    ]\n",
      " [  2.      26.       2.    ]\n",
      " [  3.      15.9      3.    ]\n",
      " [  3.       7.2292  15.    ]\n",
      " [  3.      21.075    3.    ]\n",
      " [  3.      15.7417   1.    ]\n",
      " [  3.      46.9      1.    ]\n",
      " [  2.      12.      17.    ]\n",
      " [  2.      18.75     3.    ]\n",
      " [  3.      25.4667   3.    ]\n",
      " [  3.      24.15    10.    ]\n",
      " [  3.       7.125   17.    ]\n",
      " [  1.     120.      14.    ]\n",
      " [  1.      81.8583   4.    ]\n",
      " [  2.      19.5     13.    ]\n",
      " [  3.      19.2583   5.    ]\n",
      " [  3.       7.75    17.    ]\n",
      " [  3.      19.2583   0.75  ]\n",
      " [  3.      12.2875   2.    ]\n",
      " [  3.      46.9      9.    ]\n",
      " [  3.      25.4667   8.    ]\n",
      " [  3.      15.9      9.    ]\n",
      " [  3.       8.6625  17.    ]\n",
      " [  1.      86.5     16.    ]\n",
      " [  2.      26.       2.    ]\n",
      " [  3.       7.2292  17.    ]\n",
      " [  3.       7.2292  17.    ]\n",
      " [  2.      26.25     7.    ]\n",
      " [  3.      31.275    9.    ]\n",
      " [  3.      31.275   11.    ]\n",
      " [  2.      36.75     8.    ]\n",
      " [  1.     110.8833  17.    ]\n",
      " [  3.       8.05    16.    ]\n",
      " [  3.       8.7125  16.    ]\n",
      " [  2.      39.       4.    ]\n",
      " [  3.      27.9      9.    ]\n",
      " [  3.      27.9      2.    ]\n",
      " [  3.      19.2583   0.75  ]\n",
      " [  3.       7.8292  16.    ]\n",
      " [  3.      46.9     14.    ]\n",
      " [  3.      39.6875  14.    ]\n",
      " [  1.     211.3375  15.    ]\n",
      " [  3.      13.4167   4.    ]\n",
      " [  3.      15.2458   4.    ]\n",
      " [  2.      33.       6.    ]\n",
      " [  3.       7.0542  17.    ]\n",
      " [  3.      18.7875  11.    ]\n",
      " [  3.      20.25    16.    ]\n",
      " [  2.      23.       4.    ]\n",
      " [  3.      12.475    6.    ]\n",
      " [  2.      14.5      0.67  ]\n",
      " [  3.       7.775   16.    ]\n",
      " [  3.      12.475    5.    ]\n",
      " [  3.       7.2292  13.    ]\n",
      " [  1.      57.      17.    ]\n",
      " [  3.      29.125    8.    ]\n",
      " [  3.      20.575    1.    ]\n",
      " [  2.      26.      16.    ]\n",
      " [  1.     120.      11.    ]\n",
      " [  3.       8.5167   0.42  ]\n",
      " [  3.      31.275    6.    ]\n",
      " [  3.      27.9     10.    ]\n",
      " [  3.      39.6875   2.    ]\n",
      " [  2.      37.0042   1.    ]\n",
      " [  3.      14.4542  15.    ]\n",
      " [  2.      18.75     0.83  ]\n",
      " [  2.      10.5     16.    ]\n",
      " [  3.       8.6625  17.    ]\n",
      " [  3.      31.275    4.    ]\n",
      " [  3.      15.2458   9.    ]\n",
      " [  1.      39.4     16.    ]\n",
      " [  3.      69.55    14.    ]\n",
      " [  3.      11.1333   4.    ]\n",
      " [  3.       7.225   15.    ]\n",
      " [  3.      23.45     7.    ]]\n"
     ]
    }
   ],
   "source": [
    "\n",
    "mask = arr[:, 2] < 18\n",
    "print(arr[mask])"
   ]
  },
  {
   "cell_type": "markdown",
   "id": "9d6cd4ac",
   "metadata": {},
   "source": [
    "## Summing and Counting \n",
    "\n",
    "we want to know how may of our passengers are children \n",
    "\n",
    "-\n",
    "-summing an array of boolean values gives the count of the number of True values \n"
   ]
  },
  {
   "cell_type": "code",
   "execution_count": 55,
   "id": "fc473504",
   "metadata": {},
   "outputs": [
    {
     "name": "stdout",
     "output_type": "stream",
     "text": [
      "130\n"
     ]
    }
   ],
   "source": [
    "print(mask.sum())"
   ]
  },
  {
   "cell_type": "markdown",
   "id": "08d5e0fd",
   "metadata": {},
   "source": [
    "# Scatter plot \n",
    "\n",
    "we can use the matplotlib library to plot our data .p"
   ]
  },
  {
   "cell_type": "code",
   "execution_count": 56,
   "id": "5a31ca02",
   "metadata": {},
   "outputs": [],
   "source": [
    "import matplotlib.pyplot as plt"
   ]
  },
  {
   "cell_type": "markdown",
   "id": "028b1650",
   "metadata": {},
   "source": [
    "we first need to import matplotlib. its standard pratice to nickname it plt "
   ]
  },
  {
   "cell_type": "code",
   "execution_count": 57,
   "id": "35783e4f",
   "metadata": {},
   "outputs": [
    {
     "data": {
      "text/plain": [
       "<matplotlib.collections.PathCollection at 0x7f8c709edb20>"
      ]
     },
     "execution_count": 57,
     "metadata": {},
     "output_type": "execute_result"
    },
    {
     "data": {
      "image/png": "[encoded data removed]",
      "text/plain": [
       "<Figure size 432x288 with 1 Axes>"
      ]
     },
     "metadata": {
      "needs_background": "light"
     },
     "output_type": "display_data"
    }
   ],
   "source": [
    "plt.scatter(df['Age'],df['Fare'])"
   ]
  },
  {
   "cell_type": "markdown",
   "id": "dcdbf053",
   "metadata": {},
   "source": [
    "This plot the Age on the x-axis and the on the y-axis \n",
    "\n",
    "- \n",
    "- To make it easier to interpret, we can add x and y labels"
   ]
  },
  {
   "cell_type": "code",
   "execution_count": 58,
   "id": "d5076d9c",
   "metadata": {},
   "outputs": [
    {
     "data": {
      "text/plain": [
       "Text(0, 0.5, 'Fare')"
      ]
     },
     "execution_count": 58,
     "metadata": {},
     "output_type": "execute_result"
    },
    {
     "data": {
      "image/png": "[encoded data removed]",
      "text/plain": [
       "<Figure size 432x288 with 1 Axes>"
      ]
     },
     "metadata": {
      "needs_background": "light"
     },
     "output_type": "display_data"
    }
   ],
   "source": [
    "plt.xlabel('Age')\n",
    "plt.ylabel('Fare')"
   ]
  },
  {
   "cell_type": "code",
   "execution_count": 59,
   "id": "fedcced1",
   "metadata": {},
   "outputs": [
    {
     "data": {
      "text/plain": [
       "<matplotlib.collections.PathCollection at 0x7f8c7094d400>"
      ]
     },
     "execution_count": 59,
     "metadata": {},
     "output_type": "execute_result"
    },
    {
     "data": {
      "image/png": "[encoded data removed]",
      "text/plain": [
       "<Figure size 432x288 with 1 Axes>"
      ]
     },
     "metadata": {
      "needs_background": "light"
     },
     "output_type": "display_data"
    }
   ],
   "source": [
    "plt.scatter(df['Age'], df['Fare'], c=df['Pclass'])\n"
   ]
  },
  {
   "cell_type": "code",
   "execution_count": null,
   "id": "afd3c228",
   "metadata": {},
   "outputs": [],
   "source": []
  },
  {
   "cell_type": "markdown",
   "id": "72c57e3d",
   "metadata": {},
   "source": [
    " we can also use our data to color our scatter plot , this will give each of the  3 classes a different color . \n",
    " we can add c parameter and give it pandas series , in this case our Pandas series has 3 possible value (1st, 2nd and 3rd class , so we'll see our datapoint each get one three colors \n",
    " \n",
    " the purple dots are first class, the green dots ae second class and the yellow dots are third class \n",
    " \n",
    " "
   ]
  },
  {
   "cell_type": "markdown",
   "id": "23ce6281",
   "metadata": {},
   "source": [
    "## Scatter Plot \n",
    "\n",
    "- scatter plot is used to show all the values from your  data on a graph , In order to et a visual represenntation of our data we have to limit our data to two features "
   ]
  },
  {
   "cell_type": "markdown",
   "id": "ed7ec179",
   "metadata": {},
   "source": [
    "## Line \n",
    "\n",
    "Now that \n",
    " the plot function dos just that \n",
    " the following draws a line to appoximately separate the 1st class from the 2 nd and 3rd class .\n",
    "  we ll put the line from "
   ]
  },
  {
   "cell_type": "code",
   "execution_count": 60,
   "id": "81f255ad",
   "metadata": {},
   "outputs": [
    {
     "data": {
      "text/plain": [
       "[<matplotlib.lines.Line2D at 0x7f8c708c2280>]"
      ]
     },
     "execution_count": 60,
     "metadata": {},
     "output_type": "execute_result"
    },
    {
     "data": {
      "image/png": "[encoded data removed]",
      "text/plain": [
       "<Figure size 432x288 with 1 Axes>"
      ]
     },
     "metadata": {
      "needs_background": "light"
     },
     "output_type": "display_data"
    }
   ],
   "source": [
    "plt.scatter(df['Age'], df['Fare'], c=df['Pclass'])\n",
    "plt.plot([0,80],[85,5])"
   ]
  },
  {
   "cell_type": "markdown",
   "id": "e43582cf",
   "metadata": {},
   "source": [
    "#### In matplolib we use the scatter function to create a scatter plot and  the plot function for line "
   ]
  },
  {
   "cell_type": "markdown",
   "id": "261bd9a5",
   "metadata": {},
   "source": [
    " - Variance and  Stanadard Deviation  is measure to how spread out the data is "
   ]
  },
  {
   "cell_type": "markdown",
   "id": "86e49a33",
   "metadata": {},
   "source": [
    "## Classification \n",
    "\n",
    "- Machine Learning on high level is amde up of  supervised and unsupervised  learnign \n",
    "\n",
    "- Supervied Learning means that we will have labeled historical data that we will use  to inform our model , we call the label or thing we are  trying to predict the target so in supervised learning  ther is known target for the historical data and for unsupervised learnign there is no known target \n",
    "\n",
    "\n",
    "-\n",
    "-\n",
    "-  within in supervised  leanign there is  Classification and Regrassion \n",
    "\n",
    "- classification problem are where the tare is categoral value (often True or False  but can multiple categories)\n",
    "- Regression problems are where the target is numerical value .\n",
    "\n",
    "-\n",
    "- \n",
    "\n",
    "- Logistic Regerassion , while it has regression in its name is an algorithms for solving classification problem not regression problem "
   ]
  },
  {
   "cell_type": "markdown",
   "id": "71b2f2ea",
   "metadata": {},
   "source": [
    "## Classification  Graphically\n",
    "\n",
    "- on the a axis we have the passenger fare and on the y axis theirs age the yello dots are passengers that Suvived and  the purple dots are passengers that didnt survive \n",
    "\n",
    "-\n",
    "-\n",
    "\n",
    "- The challenge of building the model will be determining what the best possible line is "
   ]
  },
  {
   "cell_type": "markdown",
   "id": "f4ab4fdc",
   "metadata": {},
   "source": [
    " - equation of line \n",
    " \n",
    "\n",
    "\n",
    "0 = ax + by +c\n",
    "\n",
    "-  The vlaues a , b and  are the coefficient , any three values will define a unique line \n",
    "\n",
    "- \n",
    "- \n",
    "\n",
    "- The Cofficients of the line are what control where the line is. \n",
    "\n"
   ]
  },
  {
   "cell_type": "code",
   "execution_count": 61,
   "id": "3c0bfefe",
   "metadata": {},
   "outputs": [],
   "source": [
    " # 0 = (1)x + (-1)y -30"
   ]
  },
  {
   "cell_type": "markdown",
   "id": "3b4eddfc",
   "metadata": {},
   "source": [
    "### Logistci Regrassion is way of mathematically finding the best line \n"
   ]
  },
  {
   "cell_type": "markdown",
   "id": "2f10d1c7",
   "metadata": {},
   "source": [
    "## Probability of Surviving \n",
    "\n",
    "\n",
    "- Logistic regression gives not just a prediction (survied or Not ), but a probability (80% chance this person survived )\n"
   ]
  },
  {
   "cell_type": "markdown",
   "id": "d6a80b5a",
   "metadata": {},
   "source": [
    "## Likelihood \n",
    "\n",
    "- To calculate how good our line is we ned to score whether our predictions are correct ,\n",
    "- the likehood is how we score and comapre possible choices of best fit lines.\n",
    "\n"
   ]
  },
  {
   "cell_type": "markdown",
   "id": "4b5819c4",
   "metadata": {},
   "source": [
    "# what is Scikit-learn?\n",
    "\n",
    "- Now er built up the foundation of hoe logstic Regression works =, lets dive into some code to build a model \n",
    "\n",
    "- all of the basic machine learning algorithmss are implemanted in sklearn , we ll just few lines of code we can build servel diffrenet powerful models.\n",
    "\n",
    "- Scikit-learn is one od the best document python modules out ther "
   ]
  },
  {
   "cell_type": "markdown",
   "id": "bf180025",
   "metadata": {},
   "source": [
    "-\n",
    "-\n",
    "- before we can use a sklearn to  build a model to prep the data with pandas , lets go bcak to full dataset and\n",
    "review  the pandas commands \n"
   ]
  },
  {
   "cell_type": "code",
   "execution_count": 62,
   "id": "a404ba98",
   "metadata": {},
   "outputs": [],
   "source": [
    "df['male'] = df['Sex']=='male '"
   ]
  },
  {
   "cell_type": "code",
   "execution_count": 63,
   "id": "e265cec5",
   "metadata": {},
   "outputs": [
    {
     "name": "stdout",
     "output_type": "stream",
     "text": [
      "[[3 False 22.0 1 0 7.25]\n",
      " [1 False 38.0 1 0 71.2833]\n",
      " [3 False 26.0 0 0 7.925]\n",
      " ...\n",
      " [3 False 7.0 1 2 23.45]\n",
      " [1 False 26.0 0 0 30.0]\n",
      " [3 False 32.0 0 0 7.75]]\n",
      "[0 1 1 1 0 0 0 0 1 1 1 1 0 0 0 1 0 1 0 1 0 1 1 1 0 1 0 0 1 0 0 1 1 0 0 0 1\n",
      " 0 0 1 0 0 1 1 0 0 1 0 0 0 0 1 1 0 1 1 0 1 0 0 1 0 0 0 1 1 0 1 0 0 0 0 0 1\n",
      " 0 0 0 1 1 0 1 1 0 1 1 0 0 1 0 0 0 0 0 0 0 0 1 1 0 0 0 0 0 0 0 1 1 0 1 0 0\n",
      " 0 0 0 0 0 0 0 0 0 0 0 1 0 1 0 1 1 0 0 0 0 1 0 0 1 0 0 0 0 1 1 0 0 0 1 0 0\n",
      " 0 0 1 0 0 0 0 1 0 0 0 0 1 0 0 0 1 1 0 0 0 0 0 1 0 0 0 0 0 0 0 0 0 0 1 1 0\n",
      " 1 1 0 0 1 0 1 1 1 1 0 0 1 0 0 0 0 0 1 0 0 1 1 1 0 1 0 0 0 1 1 0 1 0 1 0 0\n",
      " 0 1 0 1 0 0 0 1 0 0 1 0 0 0 1 0 0 0 1 0 0 0 0 0 1 1 0 0 0 0 0 0 1 1 1 1 1\n",
      " 1 0 0 0 0 0 1 1 1 0 1 1 0 1 1 0 0 0 1 0 0 0 1 0 0 1 0 1 1 1 1 0 0 0 0 0 0\n",
      " 1 1 1 1 0 1 0 1 1 1 0 1 1 1 0 0 0 1 1 0 1 1 0 0 1 1 0 1 0 1 1 1 1 0 0 0 1\n",
      " 0 0 1 1 0 1 1 0 0 0 1 1 1 1 0 0 0 0 0 0 0 1 0 1 1 0 0 0 0 0 0 1 1 1 1 1 0\n",
      " 0 0 0 1 1 0 0 0 1 1 0 1 0 0 0 1 0 1 1 1 0 1 1 0 0 0 0 1 1 0 0 0 0 0 0 1 0\n",
      " 0 0 0 1 0 1 0 1 1 0 0 0 0 0 0 0 1 1 0 1 1 1 1 0 0 1 0 1 0 0 1 0 0 1 1 1 1\n",
      " 1 1 1 0 0 0 1 0 1 0 1 1 0 1 0 0 0 0 0 0 0 0 1 0 0 1 1 0 0 0 0 0 1 0 0 0 1\n",
      " 1 0 1 0 0 1 0 0 0 0 0 0 1 0 0 0 0 0 0 0 1 0 1 1 0 1 1 0 1 1 0 0 1 0 1 0 1\n",
      " 0 0 1 0 0 1 0 0 0 1 0 0 1 0 1 0 1 0 1 1 0 0 1 0 0 1 1 0 1 1 0 0 1 1 0 1 0\n",
      " 1 1 0 0 0 0 0 0 0 0 0 1 1 1 1 1 0 0 1 1 0 1 1 1 0 0 0 1 0 1 0 0 0 1 0 0 0\n",
      " 0 1 0 0 1 1 0 0 0 1 0 0 1 1 1 0 0 1 0 0 1 0 0 1 0 0 1 1 0 0 0 0 1 0 0 1 0\n",
      " 1 0 0 1 0 0 0 0 0 1 0 1 1 1 0 1 0 1 0 1 0 1 0 0 0 0 0 0 1 0 0 0 1 0 0 0 0\n",
      " 1 1 0 0 1 0 0 0 1 0 1 0 1 0 0 0 0 0 0 0 1 1 1 1 0 0 0 0 1 0 0 1 1 0 0 0 0\n",
      " 1 1 1 1 1 0 1 0 0 0 1 1 0 1 0 0 0 1 0 1 1 0 0 1 0 0 0 0 0 0 1 0 0 1 0 1 0\n",
      " 1 0 0 1 0 0 1 1 0 0 1 1 0 0 0 1 0 0 1 1 0 1 0 0 0 0 0 0 0 0 1 0 0 1 0 1 1\n",
      " 1 0 0 0 0 1 0 1 0 0 0 0 0 0 0 1 1 0 0 0 1 1 1 1 0 0 0 0 1 0 0 0 0 0 0 0 0\n",
      " 0 0 1 1 0 1 0 0 0 1 1 1 1 1 0 0 0 1 0 0 1 1 0 0 1 0 0 0 0 0 0 1 0 0 0 1 0\n",
      " 1 1 1 1 0 0 0 1 0 0 1 1 0 0 1 0 1 0 0 1 1 0 0 0 1 1 0 0 0 0 0 0 1 0 1 0]\n"
     ]
    }
   ],
   "source": [
    "x = df [['Pclass', 'male','Age', 'Siblings/Spouses','Parents/Children','Fare']].values\n",
    "y = df ['Survived'].values\n",
    "print(x)\n",
    "print(y)"
   ]
  },
  {
   "cell_type": "markdown",
   "id": "31ad0b47",
   "metadata": {},
   "source": [
    "- its  standard pratice to call our 2d array of features X and our 1d array of target value \n",
    "\n",
    "\n",
    "- Prep Data with Pandas\n",
    "Complete this code to create a numpy array X of the Fare and Age features and a numpy array y of the target, where the target is the Survived column.\n",
    "import pandas as pd\n",
    "\n",
    "\n",
    "df = pd.read_csv('./titanic.csv')\n",
    "\n",
    "\n",
    "X = df[['Fare', 'Age']].value \n",
    "\n",
    "\n",
    "\n",
    "\n",
    "y = df['Survived'].values"
   ]
  },
  {
   "cell_type": "markdown",
   "id": "c4c6d04d",
   "metadata": {},
   "source": [
    "### Build a logistic Regression Model with Sklearn "
   ]
  },
  {
   "cell_type": "code",
   "execution_count": 64,
   "id": "e261e849",
   "metadata": {},
   "outputs": [],
   "source": [
    "# we start by  importing the logistic Regression\n",
    "\n",
    "\n",
    "from sklearn.linear_model import LogisticRegression "
   ]
  },
  {
   "cell_type": "code",
   "execution_count": 65,
   "id": "2491cebd",
   "metadata": {},
   "outputs": [],
   "source": [
    "# instatiate class \n",
    "\n",
    "model = LogisticRegression()\n"
   ]
  },
  {
   "cell_type": "code",
   "execution_count": 66,
   "id": "3868a7d8",
   "metadata": {},
   "outputs": [
    {
     "data": {
      "text/plain": [
       "LogisticRegression()"
      ]
     },
     "execution_count": 66,
     "metadata": {},
     "output_type": "execute_result"
    }
   ],
   "source": [
    "\n",
    "x= df[['Fare',\"Age\"]].values\n",
    "y = df['Survived'].values \n",
    "\n",
    "# we sue fit method to build model \n",
    "\n",
    "model.fit(x, y)"
   ]
  },
  {
   "cell_type": "code",
   "execution_count": null,
   "id": "6b8d0a48",
   "metadata": {},
   "outputs": [],
   "source": [
    "# Fiiting the model means  using the data to choose a line of best it we can see the cofficients with the coef_ and \n",
    "# Intercept_attibutes \n",
    "\n",
    "print (model.coef_ , model.intercept_)"
   ]
  },
  {
   "cell_type": "code",
   "execution_count": 69,
   "id": "5f77734c",
   "metadata": {},
   "outputs": [
    {
     "name": "stdout",
     "output_type": "stream",
     "text": [
      "[0]\n",
      "[0 1 1 1 0]\n",
      "[0 1 1 1 0]\n"
     ]
    }
   ],
   "source": [
    "df['male'] = df['Sex'] == 'male'\n",
    "X = df[['Pclass', 'male', 'Age', 'Siblings/Spouses', 'Parents/Children', 'Fare']].values\n",
    "y = df['Survived'].values\n",
    "\n",
    "model = LogisticRegression()\n",
    "model.fit(X, y)\n",
    "\n",
    "print(model.predict([[3, True, 22.0, 1, 0, 7.25]]))\n",
    "print(model.predict(X[:5]))\n",
    "print(y[:5])"
   ]
  },
  {
   "cell_type": "markdown",
   "id": "dc64310d",
   "metadata": {},
   "source": [
    " - The predict methos return an array of 1s and 0s where  1 means  the model predicts the passeners survived and 0 means the model  predict passengers didnt survive "
   ]
  },
  {
   "cell_type": "code",
   "execution_count": 70,
   "id": "eb061b88",
   "metadata": {},
   "outputs": [
    {
     "name": "stdout",
     "output_type": "stream",
     "text": [
      "[0 1 1 1 0]\n"
     ]
    }
   ],
   "source": [
    "model = LogisticRegression()\n",
    "model.fit(X, y)\n",
    "print(model.predict(X[:5]))"
   ]
  },
  {
   "cell_type": "markdown",
   "id": "2f2a0886",
   "metadata": {},
   "source": [
    " ### Score the Model \n",
    " \n",
    " - we can get  sense of heo good our model is by counting the number of datapoint it predicts correctly , this is called the accuracy score \n",
    " \n",
    " \n",
    " "
   ]
  },
  {
   "cell_type": "code",
   "execution_count": 74,
   "id": "829390de",
   "metadata": {},
   "outputs": [
    {
     "name": "stdout",
     "output_type": "stream",
     "text": [
      "714\n",
      "0.8049605411499436\n",
      "0.8049605411499436\n"
     ]
    }
   ],
   "source": [
    "df['male'] = df['Sex'] == 'male'\n",
    "X = df[['Pclass', 'male', 'Age', 'Siblings/Spouses', 'Parents/Children', 'Fare']].values\n",
    "y = df['Survived'].values\n",
    "\n",
    "model = LogisticRegression()\n",
    "model.fit(X, y)\n",
    "\n",
    "y_pred = model.predict(X)\n",
    "# Now we create  an arrays of boolean values of whether or not our model predicted each passenger correctly \n",
    "# to get the  number of these that are true , we can use the numpy sum method \n",
    "\n",
    "\n",
    "\n",
    "print((y == y_pred).sum())\n",
    "\n",
    "# this means that of  887 datapoit , the model makes the corret prediction for 714 of them \n",
    "\n",
    "# to get the percetn corect we divide this  by the total number of passengers \n",
    "# we get total number of passegers using the shape attribute \n",
    "\n",
    "# thus our accuracy score is compute as follows \n",
    "print((y == y_pred).sum() / y.shape[0])\n",
    "\n",
    "# thus the model accuracy is 80% in other words the maodel makes correcte prediction on 80% of the datapoints\n",
    "\n",
    "\n",
    "# this is common enough calculation that sklearn alreday implement it for us \n",
    "\n",
    "# so we get the same result by using the Score method \n",
    "\n",
    "\n",
    "# with  this alternative  method of calculation accuracy , we get the same value 80% \n",
    "\n",
    "\n",
    "print(model.score(X, y))\n"
   ]
  },
  {
   "cell_type": "code",
   "execution_count": 75,
   "id": "58d03688",
   "metadata": {},
   "outputs": [
    {
     "name": "stdout",
     "output_type": "stream",
     "text": [
      "dict_keys(['data', 'target', 'frame', 'target_names', 'DESCR', 'feature_names', 'filename'])\n",
      ".. _breast_cancer_dataset:\n",
      "\n",
      "Breast cancer wisconsin (diagnostic) dataset\n",
      "--------------------------------------------\n",
      "\n",
      "**Data Set Characteristics:**\n",
      "\n",
      "    :Number of Instances: 569\n",
      "\n",
      "    :Number of Attributes: 30 numeric, predictive attributes and the class\n",
      "\n",
      "    :Attribute Information:\n",
      "        - radius (mean of distances from center to points on the perimeter)\n",
      "        - texture (standard deviation of gray-scale values)\n",
      "        - perimeter\n",
      "        - area\n",
      "        - smoothness (local variation in radius lengths)\n",
      "        - compactness (perimeter^2 / area - 1.0)\n",
      "        - concavity (severity of concave portions of the contour)\n",
      "        - concave points (number of concave portions of the contour)\n",
      "        - symmetry\n",
      "        - fractal dimension (\"coastline approximation\" - 1)\n",
      "\n",
      "        The mean, standard error, and \"worst\" or largest (mean of the three\n",
      "        worst/largest values) of these features were computed for each image,\n",
      "        resulting in 30 features.  For instance, field 0 is Mean Radius, field\n",
      "        10 is Radius SE, field 20 is Worst Radius.\n",
      "\n",
      "        - class:\n",
      "                - WDBC-Malignant\n",
      "                - WDBC-Benign\n",
      "\n",
      "    :Summary Statistics:\n",
      "\n",
      "    ===================================== ====== ======\n",
      "                                           Min    Max\n",
      "    ===================================== ====== ======\n",
      "    radius (mean):                        6.981  28.11\n",
      "    texture (mean):                       9.71   39.28\n",
      "    perimeter (mean):                     43.79  188.5\n",
      "    area (mean):                          143.5  2501.0\n",
      "    smoothness (mean):                    0.053  0.163\n",
      "    compactness (mean):                   0.019  0.345\n",
      "    concavity (mean):                     0.0    0.427\n",
      "    concave points (mean):                0.0    0.201\n",
      "    symmetry (mean):                      0.106  0.304\n",
      "    fractal dimension (mean):             0.05   0.097\n",
      "    radius (standard error):              0.112  2.873\n",
      "    texture (standard error):             0.36   4.885\n",
      "    perimeter (standard error):           0.757  21.98\n",
      "    area (standard error):                6.802  542.2\n",
      "    smoothness (standard error):          0.002  0.031\n",
      "    compactness (standard error):         0.002  0.135\n",
      "    concavity (standard error):           0.0    0.396\n",
      "    concave points (standard error):      0.0    0.053\n",
      "    symmetry (standard error):            0.008  0.079\n",
      "    fractal dimension (standard error):   0.001  0.03\n",
      "    radius (worst):                       7.93   36.04\n",
      "    texture (worst):                      12.02  49.54\n",
      "    perimeter (worst):                    50.41  251.2\n",
      "    area (worst):                         185.2  4254.0\n",
      "    smoothness (worst):                   0.071  0.223\n",
      "    compactness (worst):                  0.027  1.058\n",
      "    concavity (worst):                    0.0    1.252\n",
      "    concave points (worst):               0.0    0.291\n",
      "    symmetry (worst):                     0.156  0.664\n",
      "    fractal dimension (worst):            0.055  0.208\n",
      "    ===================================== ====== ======\n",
      "\n",
      "    :Missing Attribute Values: None\n",
      "\n",
      "    :Class Distribution: 212 - Malignant, 357 - Benign\n",
      "\n",
      "    :Creator:  Dr. William H. Wolberg, W. Nick Street, Olvi L. Mangasarian\n",
      "\n",
      "    :Donor: Nick Street\n",
      "\n",
      "    :Date: November, 1995\n",
      "\n",
      "This is a copy of UCI ML Breast Cancer Wisconsin (Diagnostic) datasets.\n",
      "https://goo.gl/U2Uwz2\n",
      "\n",
      "Features are computed from a digitized image of a fine needle\n",
      "aspirate (FNA) of a breast mass.  They describe\n",
      "characteristics of the cell nuclei present in the image.\n",
      "\n",
      "Separating plane described above was obtained using\n",
      "Multisurface Method-Tree (MSM-T) [K. P. Bennett, \"Decision Tree\n",
      "Construction Via Linear Programming.\" Proceedings of the 4th\n",
      "Midwest Artificial Intelligence and Cognitive Science Society,\n",
      "pp. 97-101, 1992], a classification method which uses linear\n",
      "programming to construct a decision tree.  Relevant features\n",
      "were selected using an exhaustive search in the space of 1-4\n",
      "features and 1-3 separating planes.\n",
      "\n",
      "The actual linear program used to obtain the separating plane\n",
      "in the 3-dimensional space is that described in:\n",
      "[K. P. Bennett and O. L. Mangasarian: \"Robust Linear\n",
      "Programming Discrimination of Two Linearly Inseparable Sets\",\n",
      "Optimization Methods and Software 1, 1992, 23-34].\n",
      "\n",
      "This database is also available through the UW CS ftp server:\n",
      "\n",
      "ftp ftp.cs.wisc.edu\n",
      "cd math-prog/cpo-dataset/machine-learn/WDBC/\n",
      "\n",
      ".. topic:: References\n",
      "\n",
      "   - W.N. Street, W.H. Wolberg and O.L. Mangasarian. Nuclear feature extraction \n",
      "     for breast tumor diagnosis. IS&T/SPIE 1993 International Symposium on \n",
      "     Electronic Imaging: Science and Technology, volume 1905, pages 861-870,\n",
      "     San Jose, CA, 1993.\n",
      "   - O.L. Mangasarian, W.N. Street and W.H. Wolberg. Breast cancer diagnosis and \n",
      "     prognosis via linear programming. Operations Research, 43(4), pages 570-577, \n",
      "     July-August 1995.\n",
      "   - W.H. Wolberg, W.N. Street, and O.L. Mangasarian. Machine learning techniques\n",
      "     to diagnose breast cancer from fine-needle aspirates. Cancer Letters 77 (1994) \n",
      "     163-171.\n"
     ]
    }
   ],
   "source": [
    "import pandas as pd\n",
    "from sklearn.datasets import load_breast_cancer\n",
    "\n",
    "cancer_data = load_breast_cancer()\n",
    "print(cancer_data.keys())\n",
    "print(cancer_data['DESCR'])"
   ]
  },
  {
   "cell_type": "code",
   "execution_count": 76,
   "id": "d7bc505a",
   "metadata": {},
   "outputs": [
    {
     "data": {
      "text/plain": [
       "array([[1.799e+01, 1.038e+01, 1.228e+02, ..., 2.654e-01, 4.601e-01,\n",
       "        1.189e-01],\n",
       "       [2.057e+01, 1.777e+01, 1.329e+02, ..., 1.860e-01, 2.750e-01,\n",
       "        8.902e-02],\n",
       "       [1.969e+01, 2.125e+01, 1.300e+02, ..., 2.430e-01, 3.613e-01,\n",
       "        8.758e-02],\n",
       "       ...,\n",
       "       [1.660e+01, 2.808e+01, 1.083e+02, ..., 1.418e-01, 2.218e-01,\n",
       "        7.820e-02],\n",
       "       [2.060e+01, 2.933e+01, 1.401e+02, ..., 2.650e-01, 4.087e-01,\n",
       "        1.240e-01],\n",
       "       [7.760e+00, 2.454e+01, 4.792e+01, ..., 0.000e+00, 2.871e-01,\n",
       "        7.039e-02]])"
      ]
     },
     "execution_count": 76,
     "metadata": {},
     "output_type": "execute_result"
    }
   ],
   "source": [
    "cancer_data['data']"
   ]
  },
  {
   "cell_type": "code",
   "execution_count": 77,
   "id": "1c4913b5",
   "metadata": {},
   "outputs": [
    {
     "data": {
      "text/plain": [
       "(569, 30)"
      ]
     },
     "execution_count": 77,
     "metadata": {},
     "output_type": "execute_result"
    }
   ],
   "source": [
    "cancer_data['data'].shape\n"
   ]
  },
  {
   "cell_type": "code",
   "execution_count": 78,
   "id": "7a06554c",
   "metadata": {},
   "outputs": [
    {
     "name": "stdout",
     "output_type": "stream",
     "text": [
      "   mean radius  mean texture  mean perimeter  mean area  mean smoothness  \\\n",
      "0        17.99         10.38          122.80     1001.0          0.11840   \n",
      "1        20.57         17.77          132.90     1326.0          0.08474   \n",
      "2        19.69         21.25          130.00     1203.0          0.10960   \n",
      "3        11.42         20.38           77.58      386.1          0.14250   \n",
      "4        20.29         14.34          135.10     1297.0          0.10030   \n",
      "\n",
      "   mean compactness  mean concavity  mean concave points  mean symmetry  \\\n",
      "0           0.27760          0.3001              0.14710         0.2419   \n",
      "1           0.07864          0.0869              0.07017         0.1812   \n",
      "2           0.15990          0.1974              0.12790         0.2069   \n",
      "3           0.28390          0.2414              0.10520         0.2597   \n",
      "4           0.13280          0.1980              0.10430         0.1809   \n",
      "\n",
      "   mean fractal dimension  ...  worst radius  worst texture  worst perimeter  \\\n",
      "0                 0.07871  ...         25.38          17.33           184.60   \n",
      "1                 0.05667  ...         24.99          23.41           158.80   \n",
      "2                 0.05999  ...         23.57          25.53           152.50   \n",
      "3                 0.09744  ...         14.91          26.50            98.87   \n",
      "4                 0.05883  ...         22.54          16.67           152.20   \n",
      "\n",
      "   worst area  worst smoothness  worst compactness  worst concavity  \\\n",
      "0      2019.0            0.1622             0.6656           0.7119   \n",
      "1      1956.0            0.1238             0.1866           0.2416   \n",
      "2      1709.0            0.1444             0.4245           0.4504   \n",
      "3       567.7            0.2098             0.8663           0.6869   \n",
      "4      1575.0            0.1374             0.2050           0.4000   \n",
      "\n",
      "   worst concave points  worst symmetry  worst fractal dimension  \n",
      "0                0.2654          0.4601                  0.11890  \n",
      "1                0.1860          0.2750                  0.08902  \n",
      "2                0.2430          0.3613                  0.08758  \n",
      "3                0.2575          0.6638                  0.17300  \n",
      "4                0.1625          0.2364                  0.07678  \n",
      "\n",
      "[5 rows x 30 columns]\n"
     ]
    }
   ],
   "source": [
    "cancer_data = load_breast_cancer()\n",
    "\n",
    "df = pd.DataFrame(cancer_data['data'], columns=cancer_data['feature_names'])\n",
    "print(df.head())"
   ]
  },
  {
   "cell_type": "code",
   "execution_count": 79,
   "id": "3a59b14f",
   "metadata": {},
   "outputs": [
    {
     "name": "stdout",
     "output_type": "stream",
     "text": [
      "[0 0 0 0 0 0 0 0 0 0 0 0 0 0 0 0 0 0 0 1 1 1 0 0 0 0 0 0 0 0 0 0 0 0 0 0 0\n",
      " 1 0 0 0 0 0 0 0 0 1 0 1 1 1 1 1 0 0 1 0 0 1 1 1 1 0 1 0 0 1 1 1 1 0 1 0 0\n",
      " 1 0 1 0 0 1 1 1 0 0 1 0 0 0 1 1 1 0 1 1 0 0 1 1 1 0 0 1 1 1 1 0 1 1 0 1 1\n",
      " 1 1 1 1 1 1 0 0 0 1 0 0 1 1 1 0 0 1 0 1 0 0 1 0 0 1 1 0 1 1 0 1 1 1 1 0 1\n",
      " 1 1 1 1 1 1 1 1 0 1 1 1 1 0 0 1 0 1 1 0 0 1 1 0 0 1 1 1 1 0 1 1 0 0 0 1 0\n",
      " 1 0 1 1 1 0 1 1 0 0 1 0 0 0 0 1 0 0 0 1 0 1 0 1 1 0 1 0 0 0 0 1 1 0 0 1 1\n",
      " 1 0 1 1 1 1 1 0 0 1 1 0 1 1 0 0 1 0 1 1 1 1 0 1 1 1 1 1 0 1 0 0 0 0 0 0 0\n",
      " 0 0 0 0 0 0 0 1 1 1 1 1 1 0 1 0 1 1 0 1 1 0 1 0 0 1 1 1 1 1 1 1 1 1 1 1 1\n",
      " 1 0 1 1 0 1 0 1 1 1 1 1 1 1 1 1 1 1 1 1 1 0 1 1 1 0 1 0 1 1 1 1 0 0 0 1 1\n",
      " 1 1 0 1 0 1 0 1 1 1 0 1 1 1 1 1 1 1 0 0 0 1 1 1 1 1 1 1 1 1 1 1 0 0 1 0 0\n",
      " 0 1 0 0 1 1 1 1 1 0 1 1 1 1 1 0 1 1 1 0 1 1 0 0 1 1 1 1 1 1 0 1 1 1 1 1 1\n",
      " 1 0 1 1 1 1 1 0 1 1 0 1 1 1 1 1 1 1 1 1 1 1 1 0 1 0 0 1 0 1 1 1 1 1 0 1 1\n",
      " 0 1 0 1 1 0 1 0 1 1 1 1 1 1 1 1 0 0 1 1 1 1 1 1 0 1 1 1 1 1 1 1 1 1 1 0 1\n",
      " 1 1 1 1 1 1 0 1 0 1 1 0 1 1 1 1 1 0 0 1 0 1 0 1 1 1 1 1 0 1 1 0 1 0 1 0 0\n",
      " 1 1 1 0 1 1 1 1 1 1 1 1 1 1 1 0 1 0 0 1 1 1 1 1 1 1 1 1 1 1 1 1 1 1 1 1 1\n",
      " 1 1 1 1 1 1 1 0 0 0 0 0 0 1]\n"
     ]
    }
   ],
   "source": [
    "\n",
    "print(cancer_data['target'])"
   ]
  },
  {
   "cell_type": "code",
   "execution_count": 80,
   "id": "e1e5afd0",
   "metadata": {},
   "outputs": [
    {
     "name": "stdout",
     "output_type": "stream",
     "text": [
      "   mean radius  mean texture  mean perimeter  mean area  mean smoothness  \\\n",
      "0        17.99         10.38          122.80     1001.0          0.11840   \n",
      "1        20.57         17.77          132.90     1326.0          0.08474   \n",
      "2        19.69         21.25          130.00     1203.0          0.10960   \n",
      "3        11.42         20.38           77.58      386.1          0.14250   \n",
      "4        20.29         14.34          135.10     1297.0          0.10030   \n",
      "\n",
      "   mean compactness  mean concavity  mean concave points  mean symmetry  \\\n",
      "0           0.27760          0.3001              0.14710         0.2419   \n",
      "1           0.07864          0.0869              0.07017         0.1812   \n",
      "2           0.15990          0.1974              0.12790         0.2069   \n",
      "3           0.28390          0.2414              0.10520         0.2597   \n",
      "4           0.13280          0.1980              0.10430         0.1809   \n",
      "\n",
      "   mean fractal dimension  ...  worst texture  worst perimeter  worst area  \\\n",
      "0                 0.07871  ...          17.33           184.60      2019.0   \n",
      "1                 0.05667  ...          23.41           158.80      1956.0   \n",
      "2                 0.05999  ...          25.53           152.50      1709.0   \n",
      "3                 0.09744  ...          26.50            98.87       567.7   \n",
      "4                 0.05883  ...          16.67           152.20      1575.0   \n",
      "\n",
      "   worst smoothness  worst compactness  worst concavity  worst concave points  \\\n",
      "0            0.1622             0.6656           0.7119                0.2654   \n",
      "1            0.1238             0.1866           0.2416                0.1860   \n",
      "2            0.1444             0.4245           0.4504                0.2430   \n",
      "3            0.2098             0.8663           0.6869                0.2575   \n",
      "4            0.1374             0.2050           0.4000                0.1625   \n",
      "\n",
      "   worst symmetry  worst fractal dimension  target  \n",
      "0          0.4601                  0.11890       0  \n",
      "1          0.2750                  0.08902       0  \n",
      "2          0.3613                  0.08758       0  \n",
      "3          0.6638                  0.17300       0  \n",
      "4          0.2364                  0.07678       0  \n",
      "\n",
      "[5 rows x 31 columns]\n"
     ]
    }
   ],
   "source": [
    "\n",
    "cancer_data = load_breast_cancer()\n",
    "\n",
    "df = pd.DataFrame(cancer_data['data'], columns=cancer_data['feature_names'])\n",
    "df['target'] = cancer_data['target']\n",
    "print(df.head())\n"
   ]
  },
  {
   "cell_type": "code",
   "execution_count": null,
   "id": "4405748f",
   "metadata": {},
   "outputs": [],
   "source": []
  },
  {
   "cell_type": "code",
   "execution_count": null,
   "id": "cab0d431",
   "metadata": {},
   "outputs": [],
   "source": []
  },
  {
   "cell_type": "code",
   "execution_count": null,
   "id": "665b4d2e",
   "metadata": {},
   "outputs": [],
   "source": []
  },
  {
   "cell_type": "code",
   "execution_count": null,
   "id": "59f99ad9",
   "metadata": {},
   "outputs": [],
   "source": []
  },
  {
   "cell_type": "code",
   "execution_count": null,
   "id": "449b6ad7",
   "metadata": {},
   "outputs": [],
   "source": []
  },
  {
   "cell_type": "code",
   "execution_count": null,
   "id": "48d448c2",
   "metadata": {},
   "outputs": [],
   "source": []
  }
 ],
 "metadata": {
  "kernelspec": {
   "display_name": "Python 3",
   "language": "python",
   "name": "python3"
  },
  "language_info": {
   "codemirror_mode": {
    "name": "ipython",
    "version": 3
   },
   "file_extension": ".py",
   "mimetype": "text/x-python",
   "name": "python",
   "nbconvert_exporter": "python",
   "pygments_lexer": "ipython3",
   "version": "3.9.7"
  }
 },
 "nbformat": 4,
 "nbformat_minor": 5
}
