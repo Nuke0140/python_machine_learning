{
 "cells": [
  {
   "cell_type": "markdown",
   "id": "7ebbdcd7",
   "metadata": {},
   "source": [
    "## what is machine learning \n",
    "---\n",
    "- machine learning is the branch of science that deals with algorithms and system performing specific task using pattern adn interface \n",
    "\n",
    "---\n",
    "- suprevised leanring \n",
    "- unspurevised learning \n",
    "\n",
    "\n",
    "### 7 steps of the machine learning process \n",
    "\n",
    "- 1. data collection \n",
    "- 2. Data processing and preparation \n",
    "- 3. Feature Engineering \n",
    "- 4. model selction \n",
    "- 5. model trining and data pipeline \n",
    "- 6. model validation \n",
    "- 7. model persistence "
   ]
  },
  {
   "cell_type": "code",
   "execution_count": null,
   "id": "f110d093",
   "metadata": {},
   "outputs": [],
   "source": []
  },
  {
   "cell_type": "code",
   "execution_count": null,
   "id": "2c033bf9",
   "metadata": {},
   "outputs": [],
   "source": []
  },
  {
   "cell_type": "code",
   "execution_count": null,
   "id": "8b3629c5",
   "metadata": {},
   "outputs": [],
   "source": []
  },
  {
   "cell_type": "code",
   "execution_count": null,
   "id": "91505ca2",
   "metadata": {},
   "outputs": [],
   "source": []
  },
  {
   "cell_type": "code",
   "execution_count": null,
   "id": "2d13ba44",
   "metadata": {},
   "outputs": [],
   "source": []
  },
  {
   "cell_type": "code",
   "execution_count": null,
   "id": "910abc50",
   "metadata": {},
   "outputs": [],
   "source": []
  },
  {
   "cell_type": "code",
   "execution_count": null,
   "id": "c9114468",
   "metadata": {},
   "outputs": [],
   "source": []
  },
  {
   "cell_type": "code",
   "execution_count": null,
   "id": "47e65a5a",
   "metadata": {},
   "outputs": [],
   "source": []
  }
 ],
 "metadata": {
  "kernelspec": {
   "display_name": "Python 3 (ipykernel)",
   "language": "python",
   "name": "python3"
  },
  "language_info": {
   "codemirror_mode": {
    "name": "ipython",
    "version": 3
   },
   "file_extension": ".py",
   "mimetype": "text/x-python",
   "name": "python",
   "nbconvert_exporter": "python",
   "pygments_lexer": "ipython3",
   "version": "3.9.7"
  }
 },
 "nbformat": 4,
 "nbformat_minor": 5
}
