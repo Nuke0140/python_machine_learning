{
 "cells": [
  {
   "cell_type": "markdown",
   "id": "58d0d4bb",
   "metadata": {},
   "source": [
    "### data processsing \n",
    "---\n",
    "###### data analysis\n",
    "----\n",
    "- before doing any task with dataset it is good idea to perform preliinary data analysis \n",
    "- data analysis allows us to understand the dataset find potential outlier values and figure out which features of the dataset are most important to our application \n",
    "---\n",
    "###### pandas \n",
    "----\n",
    "- Since most machine learning frameworks (e.g. TensorFlow) are built on Python, it is beneficial to use a Python-based data analysis toolkit like pandas. pandas (all lowercase) is an excellent tool for processing and analyzing real world data, with utilities ranging from parsing multiple file formats to converting an entire data table into a NumPy matrix array.\n",
    "----\n",
    "##### matplotlib and pyplot\n",
    "----\n",
    "- The library we will use for data visualization in Python is Matplotlib. Specifically, we'll be using the pyplot API of Matplotlib, which provides a variety of plotting tools from simple line plots to advanced visuals like heatmaps and 3-D plots.\n",
    "----\n",
    "----\n",
    "#### Series \n"
   ]
  },
  {
   "cell_type": "code",
   "execution_count": 4,
   "id": "b6d65bfd",
   "metadata": {},
   "outputs": [
    {
     "name": "stdout",
     "output_type": "stream",
     "text": [
      "Series([], dtype: float64)\n",
      "\n",
      "0    5\n",
      "dtype: int64\n",
      "\n",
      "0    1\n",
      "1    2\n",
      "2    3\n",
      "dtype: int64\n",
      "\n",
      "0    1.0\n",
      "1    2.2\n",
      "dtype: float64\n",
      "\n",
      "0    1.0\n",
      "1    2.0\n",
      "dtype: float32\n",
      "\n",
      "0    [1, 2]\n",
      "1    [3, 4]\n",
      "dtype: object\n",
      "\n"
     ]
    }
   ],
   "source": [
    "import pandas as pd\n",
    "import numpy as np\n",
    "\n",
    "# Creating an empty series, will result in DeprecationWarning\n",
    "#series = pd.Series()\n",
    "\n",
    "# Passing dtype as a parameter to Series for an empty series to avoid DeprecationWarning\n",
    "# Creating an empty series\n",
    "series = pd.Series(dtype='float64')\n",
    "# Newline to separate series print statements\n",
    "print('{}\\n'.format(series))\n",
    "\n",
    "series = pd.Series(5)\n",
    "print('{}\\n'.format(series))\n",
    "\n",
    "series = pd.Series([1, 2, 3])\n",
    "print('{}\\n'.format(series))\n",
    "\n",
    "series = pd.Series([1, 2.2]) # upcasting\n",
    "print('{}\\n'.format(series))\n",
    "\n",
    "arr = np.array([1, 2])\n",
    "series = pd.Series(arr, dtype=np.float32)\n",
    "print('{}\\n'.format(series))\n",
    "\n",
    "series = pd.Series([[1, 2], [3, 4]])\n",
    "print('{}\\n'.format(series))\n",
    "\n"
   ]
  },
  {
   "cell_type": "markdown",
   "id": "eb36323b",
   "metadata": {},
   "source": [
    "#### index \n",
    "- The default index is integers from 0 to n - 1, where n is the number of elements in the Series. However, we can specify a custom index via the index keyword argument of pd.Series."
   ]
  },
  {
   "cell_type": "code",
   "execution_count": 5,
   "id": "5c04c06d",
   "metadata": {},
   "outputs": [
    {
     "name": "stdout",
     "output_type": "stream",
     "text": [
      "a    1\n",
      "b    2\n",
      "c    3\n",
      "dtype: int64\n",
      "\n",
      "a      1\n",
      "8      2\n",
      "0.3    3\n",
      "dtype: int64\n",
      "\n"
     ]
    }
   ],
   "source": [
    "series = pd.Series([1, 2, 3], index=['a', 'b', 'c'])\n",
    "print('{}\\n'.format(series))\n",
    "\n",
    "series = pd.Series([1, 2, 3], index=['a', 8, 0.3])\n",
    "print('{}\\n'.format(series))"
   ]
  },
  {
   "cell_type": "markdown",
   "id": "60dbabc7",
   "metadata": {},
   "source": [
    "##### dictionary input \n",
    "---\n",
    "- Series is by using a Python dictionary for the data argument. The keys of the dictionary represent the index of the Series, while each individual key is the label for its corresponding value.\n",
    "\n"
   ]
  },
  {
   "cell_type": "code",
   "execution_count": 6,
   "id": "3e6f2ce7",
   "metadata": {},
   "outputs": [
    {
     "name": "stdout",
     "output_type": "stream",
     "text": [
      "a    1\n",
      "b    2\n",
      "c    3\n",
      "dtype: int64\n",
      "\n",
      "b    2\n",
      "a    1\n",
      "c    3\n",
      "dtype: int64\n",
      "\n"
     ]
    }
   ],
   "source": [
    "series = pd.Series({'a':1, 'b':2, 'c':3})\n",
    "print('{}\\n'.format(series))\n",
    "\n",
    "series = pd.Series({'b':2, 'a':1, 'c':3})\n",
    "print('{}\\n'.format(series))"
   ]
  },
  {
   "cell_type": "markdown",
   "id": "a3593eca",
   "metadata": {},
   "source": [
    "## dataframe\n",
    "---\n",
    "\n",
    "#### 2d data \n",
    "---\n",
    "- One of the main purposes of pandas is to deal with tabular data, i.e. data that comes from tables or spreadsheets. Since tabular data contains rows and columns, it is 2-D. For working with 2-D data, we use the pandas.DataFrame"
   ]
  },
  {
   "cell_type": "code",
   "execution_count": 7,
   "id": "970cf53c",
   "metadata": {},
   "outputs": [
    {
     "name": "stdout",
     "output_type": "stream",
     "text": [
      "Empty DataFrame\n",
      "Columns: []\n",
      "Index: []\n",
      "\n",
      "   0\n",
      "0  5\n",
      "1  6\n",
      "\n",
      "   0  1\n",
      "0  5  6\n",
      "\n",
      "    c1  c2\n",
      "r1   5   6\n",
      "r2   1   3\n",
      "\n",
      "    c1  c2\n",
      "r1   1   3\n",
      "r2   2   4\n",
      "\n"
     ]
    }
   ],
   "source": [
    "df = pd.DataFrame()\n",
    "# Newline added to separate DataFrames\n",
    "print('{}\\n'.format(df))\n",
    "\n",
    "df = pd.DataFrame([5, 6])\n",
    "print('{}\\n'.format(df))\n",
    "\n",
    "df = pd.DataFrame([[5,6]])\n",
    "print('{}\\n'.format(df))\n",
    "\n",
    "df = pd.DataFrame([[5, 6], [1, 3]],\n",
    "                  index=['r1', 'r2'],\n",
    "                  columns=['c1', 'c2'])\n",
    "print('{}\\n'.format(df))\n",
    "\n",
    "df = pd.DataFrame({'c1': [1, 2], 'c2': [3, 4]},\n",
    "                  index=['r1', 'r2'])\n",
    "print('{}\\n'.format(df))"
   ]
  },
  {
   "cell_type": "code",
   "execution_count": 8,
   "id": "a7034211",
   "metadata": {},
   "outputs": [
    {
     "name": "stdout",
     "output_type": "stream",
     "text": [
      "     0  1\n",
      "0  5.0  6\n",
      "1  1.2  3\n",
      "\n",
      "0    float64\n",
      "1      int64\n",
      "dtype: object\n"
     ]
    }
   ],
   "source": [
    "# Upcasting \n",
    "upcast = pd.DataFrame([[5, 6], [1.2, 3]])\n",
    "print('{}\\n'.format(upcast))\n",
    "# Datatypes of each column\n",
    "print(upcast.dtypes)"
   ]
  },
  {
   "cell_type": "markdown",
   "id": "83434971",
   "metadata": {},
   "source": [
    "#### Appending rows \n",
    "----\n",
    "-"
   ]
  },
  {
   "cell_type": "code",
   "execution_count": 2,
   "id": "77ab4f75",
   "metadata": {},
   "outputs": [
    {
     "name": "stdout",
     "output_type": "stream",
     "text": [
      "      0  1\n",
      "0   5.0  6\n",
      "1   1.2  3\n",
      "r3  0.0  0\n",
      "\n",
      "     0  1\n",
      "0  5.0  6\n",
      "1  1.2  3\n",
      "2  0.0  0\n",
      "\n",
      "     0  1\n",
      "0  5.0  6\n",
      "1  1.2  3\n",
      "0  0.0  0\n",
      "1  9.0  9\n",
      "\n"
     ]
    }
   ],
   "source": [
    "import pandas as pd \n",
    "df = pd.DataFrame([[5, 6], [1.2, 3]])\n",
    "ser = pd.Series([0, 0], name='r3')\n",
    "\n",
    "df_app = df.append(ser)\n",
    "print('{}\\n'.format(df_app))\n",
    "\n",
    "df_app = df.append(ser, ignore_index=True)\n",
    "print('{}\\n'.format(df_app))\n",
    "\n",
    "df2 = pd.DataFrame([[0,0],[9,9]])\n",
    "df_app = df.append(df2)\n",
    "print('{}\\n'.format(df_app))\n"
   ]
  },
  {
   "cell_type": "code",
   "execution_count": 3,
   "id": "b4664728",
   "metadata": {},
   "outputs": [
    {
     "name": "stdout",
     "output_type": "stream",
     "text": [
      "    c1  c2  c3\n",
      "r2   2   4   6\n",
      "\n",
      "    c2\n",
      "r1   3\n",
      "r2   4\n",
      "\n",
      "    c1  c2  c3\n",
      "r1   1   3   5\n",
      "\n",
      "    c1  c3\n",
      "r1   1   5\n",
      "r2   2   6\n",
      "\n",
      "    c1  c3\n",
      "r1   1   5\n",
      "r2   2   6\n",
      "\n"
     ]
    }
   ],
   "source": [
    "# dropping data \n",
    "df = pd.DataFrame({'c1': [1, 2], 'c2': [3, 4],\n",
    "                   'c3': [5, 6]},\n",
    "                  index=['r1', 'r2'])\n",
    "# Drop row r1\n",
    "df_drop = df.drop(labels='r1')\n",
    "print('{}\\n'.format(df_drop))\n",
    "\n",
    "# Drop columns c1, c3\n",
    "df_drop = df.drop(labels=['c1', 'c3'], axis=1)\n",
    "print('{}\\n'.format(df_drop))\n",
    "\n",
    "df_drop = df.drop(index='r2')\n",
    "print('{}\\n'.format(df_drop))\n",
    "\n",
    "df_drop = df.drop(columns='c2')\n",
    "print('{}\\n'.format(df_drop))\n",
    "\n",
    "df.drop(index='r2', columns='c2')\n",
    "print('{}\\n'.format(df_drop))"
   ]
  },
  {
   "cell_type": "code",
   "execution_count": 4,
   "id": "30537927",
   "metadata": {},
   "outputs": [
    {
     "name": "stdout",
     "output_type": "stream",
     "text": [
      "    c1  c2  c1  c2\n",
      "r1   1   3   5   7\n",
      "r2   2   4   6   8\n",
      "\n",
      "    c1  c2\n",
      "r1   5   7\n",
      "r2   6   8\n",
      "r1   1   3\n",
      "r2   2   4\n",
      "0    5   7\n",
      "1    6   8\n",
      "\n",
      "     c1   c2   c1   c2\n",
      "r1  1.0  3.0  NaN  NaN\n",
      "r2  2.0  4.0  NaN  NaN\n",
      "0   NaN  NaN  5.0  7.0\n",
      "1   NaN  NaN  6.0  8.0\n",
      "\n"
     ]
    }
   ],
   "source": [
    "#Combine using concat\n",
    "df1 = pd.DataFrame({'c1':[1,2], 'c2':[3,4]},\n",
    "                   index=['r1','r2'])\n",
    "df2 = pd.DataFrame({'c1':[5,6], 'c2':[7,8]},\n",
    "                   index=['r1','r2'])\n",
    "df3 = pd.DataFrame({'c1':[5,6], 'c2':[7,8]})\n",
    "\n",
    "concat = pd.concat([df1, df2], axis=1)\n",
    "# Newline to separate print statements\n",
    "print('{}\\n'.format(concat))\n",
    "\n",
    "concat = pd.concat([df2, df1, df3])\n",
    "print('{}\\n'.format(concat))\n",
    "\n",
    "concat = pd.concat([df1, df3], axis=1)\n",
    "print('{}\\n'.format(concat))"
   ]
  },
  {
   "cell_type": "code",
   "execution_count": 5,
   "id": "0ba8327d",
   "metadata": {},
   "outputs": [
    {
     "name": "stdout",
     "output_type": "stream",
     "text": [
      "        name pos  year\n",
      "0   john doe  1B  2000\n",
      "1   al smith   C  2004\n",
      "2  sam black   P  2008\n",
      "3   john doe  2B  2003\n",
      "\n",
      "        name pos  year\n",
      "0   john doe  1B  2000\n",
      "1   al smith   C  2004\n",
      "2  sam black   P  2008\n",
      "3   john doe  2B  2003\n",
      "\n",
      "       name pos  year  rbi\n",
      "0  john doe  1B  2000   80\n",
      "1  al smith   C  2004  100\n",
      "\n"
     ]
    }
   ],
   "source": [
    "# merging \n",
    "mlb_df1 = pd.DataFrame({'name': ['john doe', 'al smith', 'sam black', 'john doe'],\n",
    "                        'pos': ['1B', 'C', 'P', '2B'],\n",
    "                        'year': [2000, 2004, 2008, 2003]})\n",
    "mlb_df2 = pd.DataFrame({'name': ['john doe', 'al smith', 'jack lee'],\n",
    "                        'year': [2000, 2004, 2012],\n",
    "                        'rbi': [80, 100, 12]})\n",
    "                        \n",
    "print('{}\\n'.format(mlb_df1))\n",
    "print('{}\\n'.format(mlb_df1))\n",
    "\n",
    "mlb_merged = pd.merge(mlb_df1, mlb_df2)\n",
    "print('{}\\n'.format(mlb_merged))"
   ]
  },
  {
   "cell_type": "code",
   "execution_count": 6,
   "id": "0e4c22f7",
   "metadata": {},
   "outputs": [
    {
     "name": "stdout",
     "output_type": "stream",
     "text": [
      "r1    1\n",
      "r2    2\n",
      "Name: c1, dtype: int64\n",
      "\n",
      "    c1\n",
      "r1   1\n",
      "r2   2\n",
      "\n",
      "    c2  c3\n",
      "r1   3   5\n",
      "r2   4   6\n",
      "\n"
     ]
    }
   ],
   "source": [
    "# direct indexing \n",
    "df = pd.DataFrame({'c1': [1, 2], 'c2': [3, 4],\n",
    "                   'c3': [5, 6]}, index=['r1', 'r2'])\n",
    "col1 = df['c1']\n",
    "# Newline for separating print statements\n",
    "print('{}\\n'.format(col1))\n",
    "\n",
    "col1_df = df[['c1']]\n",
    "print('{}\\n'.format(col1_df))\n",
    "\n",
    "col23 = df[['c2', 'c3']]\n",
    "print('{}\\n'.format(col23))"
   ]
  },
  {
   "cell_type": "code",
   "execution_count": 7,
   "id": "f3042b88",
   "metadata": {},
   "outputs": [
    {
     "name": "stdout",
     "output_type": "stream",
     "text": [
      "    c1  c2  c3\n",
      "r1   1   4   7\n",
      "r2   2   5   8\n",
      "r3   3   6   9\n",
      "\n",
      "    c1  c2  c3\n",
      "r1   1   4   7\n",
      "r2   2   5   8\n",
      "\n",
      "    c1  c2  c3\n",
      "r2   2   5   8\n",
      "r3   3   6   9\n",
      "\n"
     ]
    }
   ],
   "source": [
    "df = pd.DataFrame({'c1': [1, 2, 3], 'c2': [4, 5, 6],\n",
    "                   'c3': [7, 8, 9]}, index=['r1', 'r2', 'r3'])\n",
    "\n",
    "print('{}\\n'.format(df))\n",
    "\n",
    "first_two_rows = df[0:2]\n",
    "print('{}\\n'.format(first_two_rows))\n",
    "\n",
    "last_two_rows = df['r2':'r3']\n",
    "print('{}\\n'.format(last_two_rows))\n",
    "\n",
    "# There will be a KeyError when we uncomment the line 13 and run again\n",
    "#df['r1']"
   ]
  },
  {
   "cell_type": "code",
   "execution_count": 8,
   "id": "a8d88d33",
   "metadata": {},
   "outputs": [
    {
     "name": "stdout",
     "output_type": "stream",
     "text": [
      "    c1  c2  c3\n",
      "r1   1   4   7\n",
      "r2   2   5   8\n",
      "r3   3   6   9\n",
      "\n",
      "c1    2\n",
      "c2    5\n",
      "c3    8\n",
      "Name: r2, dtype: int64\n",
      "\n",
      "    c1  c2  c3\n",
      "r1   1   4   7\n",
      "r3   3   6   9\n",
      "\n",
      "    c1  c2  c3\n",
      "r2   2   5   8\n",
      "r3   3   6   9\n",
      "\n"
     ]
    }
   ],
   "source": [
    "df = pd.DataFrame({'c1': [1, 2, 3], 'c2': [4, 5, 6],\n",
    "                   'c3': [7, 8, 9]}, index=['r1', 'r2', 'r3'])\n",
    "                   \n",
    "print('{}\\n'.format(df))\n",
    "\n",
    "print('{}\\n'.format(df.iloc[1]))\n",
    "\n",
    "print('{}\\n'.format(df.iloc[[0, 2]]))\n",
    "\n",
    "bool_list = [False, True, True]\n",
    "print('{}\\n'.format(df.iloc[bool_list]))\n"
   ]
  },
  {
   "cell_type": "code",
   "execution_count": 9,
   "id": "89f79681",
   "metadata": {},
   "outputs": [
    {
     "name": "stdout",
     "output_type": "stream",
     "text": [
      "    c1  c2  c3\n",
      "r1   1   4   7\n",
      "r2   2   5   8\n",
      "r3   3   6   9\n",
      "\n",
      "c1    2\n",
      "c2    5\n",
      "c3    8\n",
      "Name: r2, dtype: int64\n",
      "\n",
      "    c1  c2  c3\n",
      "r2   2   5   8\n",
      "r3   3   6   9\n",
      "\n",
      "Single val: 4\n",
      "\n",
      "r1    4\n",
      "r3    6\n",
      "Name: c2, dtype: int64\n",
      "\n",
      "    c1  c2  c3\n",
      "r1   1   0   7\n",
      "r2   2   5   8\n",
      "r3   3   0   9\n",
      "\n"
     ]
    }
   ],
   "source": [
    "df = pd.DataFrame({'c1': [1, 2, 3], 'c2': [4, 5, 6],\n",
    "                   'c3': [7, 8, 9]}, index=['r1', 'r2', 'r3'])\n",
    "                   \n",
    "print('{}\\n'.format(df))\n",
    "\n",
    "print('{}\\n'.format(df.loc['r2']))\n",
    "\n",
    "bool_list = [False, True, True]\n",
    "print('{}\\n'.format(df.loc[bool_list]))\n",
    "\n",
    "single_val = df.loc['r1', 'c2']\n",
    "print('Single val: {}\\n'.format(single_val))\n",
    "\n",
    "print('{}\\n'.format(df.loc[['r1', 'r3'], 'c2']))\n",
    "\n",
    "df.loc[['r1', 'r3'], 'c2'] = 0\n",
    "print('{}\\n'.format(df))"
   ]
  },
  {
   "cell_type": "code",
   "execution_count": 11,
   "id": "f1d60ad7",
   "metadata": {},
   "outputs": [
    {
     "name": "stdout",
     "output_type": "stream",
     "text": [
      "   T1  T2  T3\n",
      "0  10  25  16\n",
      "1  15  27  15\n",
      "2   8  25  10\n",
      "\n",
      "T1    33\n",
      "T2    77\n",
      "T3    41\n",
      "dtype: int64\n",
      "\n",
      "0    51\n",
      "1    57\n",
      "2    43\n",
      "dtype: int64\n",
      "\n",
      "T1    11.000000\n",
      "T2    25.666667\n",
      "T3    13.666667\n",
      "dtype: float64\n",
      "\n",
      "0    17.000000\n",
      "1    19.000000\n",
      "2    14.333333\n",
      "dtype: float64\n",
      "\n"
     ]
    }
   ],
   "source": [
    "df = pd.DataFrame({\n",
    "  'T1': [10, 15, 8],\n",
    "  'T2': [25, 27, 25],\n",
    "  'T3': [16, 15, 10]})\n",
    "  \n",
    "print('{}\\n'.format(df))\n",
    "\n",
    "print('{}\\n'.format(df.sum()))\n",
    "\n",
    "print('{}\\n'.format(df.sum(axis=1)))\n",
    "\n",
    "print('{}\\n'.format(df.mean()))\n",
    "\n",
    "print('{}\\n'.format(df.mean(axis=1)))"
   ]
  },
  {
   "cell_type": "markdown",
   "id": "9419d7aa",
   "metadata": {},
   "source": [
    "### Quantitative vs. categorical#\n",
    "- We often refer to the columns of a DataFrame as the features of the dataset that it represents. These features can be quantitative or categorical.\n",
    "\n",
    "- A quantitative feature, e.g. height or weight, is a feature that can be measured numerically. These are features we could calculate the sum, mean, or other numerical metrics for.\n",
    "\n",
    "- A categorical feature, e.g. gender or birthplace, is one where the values are categories that could be used to group the dataset. These are the features we would use with the groupby function from the previous chapter.\n",
    "\n",
    "- Some features can be both quantitative or categorical, depending on the context they are used."
   ]
  },
  {
   "cell_type": "code",
   "execution_count": 4,
   "id": "3dfba6e7",
   "metadata": {},
   "outputs": [
    {
     "name": "stdout",
     "output_type": "stream",
     "text": [
      "   T1  T2  T3\n",
      "0  10  25  16\n",
      "1  15  27  15\n",
      "2   8  25  10\n",
      "\n",
      "T1    33\n",
      "T2    77\n",
      "T3    41\n",
      "dtype: int64\n",
      "\n",
      "0    51\n",
      "1    57\n",
      "2    43\n",
      "dtype: int64\n",
      "\n",
      "T1    11.000000\n",
      "T2    25.666667\n",
      "T3    13.666667\n",
      "dtype: float64\n",
      "\n",
      "0    17.000000\n",
      "1    19.000000\n",
      "2    14.333333\n",
      "dtype: float64\n",
      "\n"
     ]
    }
   ],
   "source": [
    "import pandas as pd \n",
    "df = pd.DataFrame({\n",
    "  'T1': [10, 15, 8],\n",
    "  'T2': [25, 27, 25],\n",
    "  'T3': [16, 15, 10]})\n",
    "  \n",
    "print('{}\\n'.format(df))\n",
    "\n",
    "print('{}\\n'.format(df.sum()))\n",
    "\n",
    "print('{}\\n'.format(df.sum(axis=1)))\n",
    "\n",
    "print('{}\\n'.format(df.mean()))\n",
    "\n",
    "print('{}\\n'.format(df.mean(axis=1)))"
   ]
  },
  {
   "cell_type": "code",
   "execution_count": null,
   "id": "09fdff0f",
   "metadata": {},
   "outputs": [],
   "source": [
    "df = pd.DataFrame({\n",
    "  'T1': [0.1, 150.],\n",
    "  'T2': [0.25, 240.],\n",
    "  'T3': [0.16, 100.]})\n",
    "  \n",
    "print('{}\\n'.format(df))\n",
    "\n",
    "print('{}\\n'.format(df.multiply(2)))\n",
    "\n",
    "df_ms = df.multiply([1000, 1], axis=0)\n",
    "print('{}\\n'.format(df_ms))\n",
    "\n",
    "df_w = df_ms.multiply([1,0.5,1])\n",
    "print('{}\\n'.format(df_w))\n",
    "print('{}\\n'.format(df_w.sum(axis=1)))"
   ]
  },
  {
   "cell_type": "markdown",
   "id": "7533e874",
   "metadata": {},
   "source": [
    "### Filtering \n",
    "---\n",
    "\n",
    "#### Filter condition \n"
   ]
  },
  {
   "cell_type": "code",
   "execution_count": 5,
   "id": "4098e004",
   "metadata": {},
   "outputs": [
    {
     "name": "stdout",
     "output_type": "stream",
     "text": [
      "    playerID  yearID teamID  HR\n",
      "0  bettsmo01    2016    BOS  31\n",
      "1   canoro01    2016    SEA  39\n",
      "2   cruzne02    2016    SEA  43\n",
      "3  ortizda01    2016    BOS  38\n",
      "4   cruzne02    2017    SEA  39\n",
      "\n",
      "0    False\n",
      "1    False\n",
      "2     True\n",
      "3    False\n",
      "4     True\n",
      "Name: playerID, dtype: bool\n",
      "\n",
      "0    False\n",
      "1    False\n",
      "2     True\n",
      "3    False\n",
      "4    False\n",
      "Name: HR, dtype: bool\n",
      "\n",
      "0    False\n",
      "1     True\n",
      "2     True\n",
      "3    False\n",
      "4     True\n",
      "Name: teamID, dtype: bool\n",
      "\n"
     ]
    }
   ],
   "source": [
    "df = pd.DataFrame({\n",
    "  'playerID': ['bettsmo01', 'canoro01', 'cruzne02', 'ortizda01', 'cruzne02'],\n",
    "  'yearID': [2016, 2016, 2016, 2016, 2017],\n",
    "  'teamID': ['BOS', 'SEA', 'SEA', 'BOS', 'SEA'],\n",
    "  'HR': [31, 39, 43, 38, 39]})\n",
    "  \n",
    "print('{}\\n'.format(df))\n",
    "\n",
    "cruzne02 = df['playerID'] == 'cruzne02'\n",
    "print('{}\\n'.format(cruzne02))\n",
    "\n",
    "hr40 = df['HR'] > 40\n",
    "print('{}\\n'.format(hr40))\n",
    "\n",
    "notbos = df['teamID'] != 'BOS'\n",
    "print('{}\\n'.format(notbos))"
   ]
  },
  {
   "cell_type": "markdown",
   "id": "9e672fc6",
   "metadata": {},
   "source": [
    "#### Filters from functions "
   ]
  },
  {
   "cell_type": "code",
   "execution_count": 6,
   "id": "6345aefc",
   "metadata": {},
   "outputs": [
    {
     "name": "stdout",
     "output_type": "stream",
     "text": [
      "    playerID  yearID teamID  HR\n",
      "0  bettsmo01    2016    BOS  31\n",
      "1   canoro01    2016    SEA  39\n",
      "2   cruzne02    2016    SEA  43\n",
      "3  ortizda01    2016    BOS  38\n",
      "4   cruzne02    2017    SEA  39\n",
      "\n",
      "0    False\n",
      "1     True\n",
      "2     True\n",
      "3    False\n",
      "4     True\n",
      "Name: playerID, dtype: bool\n",
      "\n",
      "0     True\n",
      "1    False\n",
      "2    False\n",
      "3     True\n",
      "4    False\n",
      "Name: teamID, dtype: bool\n",
      "\n",
      "0    False\n",
      "1    False\n",
      "2     True\n",
      "3    False\n",
      "4     True\n",
      "Name: playerID, dtype: bool\n",
      "\n"
     ]
    }
   ],
   "source": [
    "df = pd.DataFrame({\n",
    "  'playerID': ['bettsmo01', 'canoro01', 'cruzne02', 'ortizda01', 'cruzne02'],\n",
    "  'yearID': [2016, 2016, 2016, 2016, 2017],\n",
    "  'teamID': ['BOS', 'SEA', 'SEA', 'BOS', 'SEA'],\n",
    "  'HR': [31, 39, 43, 38, 39]})\n",
    "  \n",
    "print('{}\\n'.format(df))\n",
    "\n",
    "str_f1 = df['playerID'].str.startswith('c')\n",
    "print('{}\\n'.format(str_f1))\n",
    "\n",
    "str_f2 = df['teamID'].str.endswith('S')\n",
    "print('{}\\n'.format(str_f2))\n",
    "\n",
    "str_f3 = ~df['playerID'].str.contains('o')\n",
    "print('{}\\n'.format(str_f3))"
   ]
  },
  {
   "cell_type": "code",
   "execution_count": 8,
   "id": "4d7508dd",
   "metadata": {},
   "outputs": [
    {
     "name": "stdout",
     "output_type": "stream",
     "text": [
      "    playerID  yearID teamID  HR\n",
      "0  bettsmo01    2016    BOS  31\n",
      "1   canoro01    2016    SEA  39\n",
      "2   cruzne02    2016    SEA  43\n",
      "3  ortizda01    2016    BOS  38\n",
      "4   cruzne02    2017    SEA  39\n",
      "\n",
      "0    False\n",
      "1    False\n",
      "2     True\n",
      "3     True\n",
      "4     True\n",
      "Name: playerID, dtype: bool\n",
      "\n",
      "0    False\n",
      "1    False\n",
      "2    False\n",
      "3    False\n",
      "4     True\n",
      "Name: yearID, dtype: bool\n",
      "\n"
     ]
    }
   ],
   "source": [
    "# we can create filter condition that cheack fro values in a specific set by using the isin function \n",
    "df = pd.DataFrame({\n",
    "  'playerID': ['bettsmo01', 'canoro01', 'cruzne02', 'ortizda01', 'cruzne02'],\n",
    "  'yearID': [2016, 2016, 2016, 2016, 2017],\n",
    "  'teamID': ['BOS', 'SEA', 'SEA', 'BOS', 'SEA'],\n",
    "  'HR': [31, 39, 43, 38, 39]})\n",
    "  \n",
    "print('{}\\n'.format(df))\n",
    "\n",
    "isin_f1 = df['playerID'].isin(['cruzne02',\n",
    "                               'ortizda01'])\n",
    "print('{}\\n'.format(isin_f1))\n",
    "\n",
    "isin_f2 = df['yearID'].isin([2015, 2017])\n",
    "print('{}\\n'.format(isin_f2))\n"
   ]
  },
  {
   "cell_type": "markdown",
   "id": "c329e66e",
   "metadata": {},
   "source": [
    "- Similar to Numpy, we cannot use a relation operation to create a filter condition for NaN values. Instead, we use the isna and notna functions.\n"
   ]
  },
  {
   "cell_type": "code",
   "execution_count": 10,
   "id": "1d85b26c",
   "metadata": {},
   "outputs": [
    {
     "name": "stdout",
     "output_type": "stream",
     "text": [
      "    playerID  yearID teamID  HR\n",
      "0  bettsmo01    2016    BOS  31\n",
      "1   canoro01    2016    SEA  39\n",
      "2    doejo01    2017    NaN  99\n",
      "\n",
      "0    False\n",
      "1    False\n",
      "2     True\n",
      "Name: teamID, dtype: bool\n",
      "\n",
      "0     True\n",
      "1     True\n",
      "2    False\n",
      "Name: teamID, dtype: bool\n",
      "\n"
     ]
    }
   ],
   "source": [
    "import numpy as np \n",
    "df = pd.DataFrame({\n",
    "  'playerID': ['bettsmo01', 'canoro01', 'doejo01'],\n",
    "  'yearID': [2016, 2016, 2017],\n",
    "  'teamID': ['BOS', 'SEA', np.nan],\n",
    "  'HR': [31, 39, 99]})\n",
    "  \n",
    "print('{}\\n'.format(df))\n",
    "\n",
    "isna = df['teamID'].isna()\n",
    "print('{}\\n'.format(isna))\n",
    "\n",
    "notna = df['teamID'].notna()\n",
    "print('{}\\n'.format(notna))"
   ]
  },
  {
   "cell_type": "markdown",
   "id": "b440f45a",
   "metadata": {},
   "source": [
    "## Feature Filtering \n",
    "----\n"
   ]
  },
  {
   "cell_type": "code",
   "execution_count": 11,
   "id": "97c878a1",
   "metadata": {},
   "outputs": [
    {
     "name": "stdout",
     "output_type": "stream",
     "text": [
      "    playerID  yearID teamID  HR\n",
      "0  bettsmo01    2016    BOS  31\n",
      "1   canoro01    2016    SEA  39\n",
      "2   cruzne02    2016    SEA  43\n",
      "3  ortizda01    2016    BOS  38\n",
      "4  bettsmo01    2015    BOS  18\n",
      "\n",
      "   playerID  yearID teamID  HR\n",
      "2  cruzne02    2016    SEA  43\n",
      "\n",
      "    playerID  yearID teamID  HR\n",
      "4  bettsmo01    2015    BOS  18\n",
      "\n",
      "    playerID  yearID teamID  HR\n",
      "0  bettsmo01    2016    BOS  31\n",
      "3  ortizda01    2016    BOS  38\n",
      "4  bettsmo01    2015    BOS  18\n",
      "\n"
     ]
    }
   ],
   "source": [
    "df = pd.DataFrame({\n",
    "  'playerID': ['bettsmo01', 'canoro01', 'cruzne02', 'ortizda01', 'bettsmo01'],\n",
    "  'yearID': [2016, 2016, 2016, 2016, 2015],\n",
    "  'teamID': ['BOS', 'SEA', 'SEA', 'BOS', 'BOS'],\n",
    "  'HR': [31, 39, 43, 38, 18]})\n",
    "  \n",
    "print('{}\\n'.format(df))\n",
    "\n",
    "hr40_df = df[df['HR'] > 40]\n",
    "print('{}\\n'.format(hr40_df))\n",
    "\n",
    "not_hr30_df = df[~(df['HR'] > 30)]\n",
    "print('{}\\n'.format(not_hr30_df))\n",
    "\n",
    "str_df = df[df['teamID'].str.startswith('B')]\n",
    "print('{}\\n'.format(str_df))"
   ]
  },
  {
   "cell_type": "markdown",
   "id": "e640ebf4",
   "metadata": {},
   "source": [
    "## Sorting \n",
    "-----\n",
    "## sorting by value \n"
   ]
  },
  {
   "cell_type": "code",
   "execution_count": 12,
   "id": "3f441d76",
   "metadata": {},
   "outputs": [
    {
     "name": "stdout",
     "output_type": "stream",
     "text": [
      "    playerID  yearID teamID  HR\n",
      "0  bettsmo01    2016    BOS  31\n",
      "1   canoro01    2016    SEA  39\n",
      "2   cruzne02    2016    SEA  43\n",
      "3  ortizda01    2016    BOS  38\n",
      "4  bettsmo01    2015    BOS  18\n",
      "\n",
      "    playerID  yearID teamID  HR\n",
      "4  bettsmo01    2015    BOS  18\n",
      "0  bettsmo01    2016    BOS  31\n",
      "1   canoro01    2016    SEA  39\n",
      "2   cruzne02    2016    SEA  43\n",
      "3  ortizda01    2016    BOS  38\n",
      "\n",
      "    playerID  yearID teamID  HR\n",
      "3  ortizda01    2016    BOS  38\n",
      "2   cruzne02    2016    SEA  43\n",
      "1   canoro01    2016    SEA  39\n",
      "0  bettsmo01    2016    BOS  31\n",
      "4  bettsmo01    2015    BOS  18\n",
      "\n"
     ]
    }
   ],
   "source": [
    "# df is predefined\n",
    "print('{}\\n'.format(df))\n",
    "\n",
    "sort1 = df.sort_values('yearID')\n",
    "print('{}\\n'.format(sort1))\n",
    "\n",
    "sort2 = df.sort_values('playerID', ascending=False)\n",
    "print('{}\\n'.format(sort2))"
   ]
  },
  {
   "cell_type": "code",
   "execution_count": 13,
   "id": "a845cba7",
   "metadata": {},
   "outputs": [
    {
     "name": "stdout",
     "output_type": "stream",
     "text": [
      "    playerID  yearID teamID  HR\n",
      "0  bettsmo01    2016    BOS  31\n",
      "1   canoro01    2016    SEA  39\n",
      "2   cruzne02    2016    SEA  43\n",
      "3  ortizda01    2016    BOS  38\n",
      "4  bettsmo01    2015    BOS  18\n",
      "\n",
      "    playerID  yearID teamID  HR\n",
      "4  bettsmo01    2015    BOS  18\n",
      "0  bettsmo01    2016    BOS  31\n",
      "1   canoro01    2016    SEA  39\n",
      "2   cruzne02    2016    SEA  43\n",
      "3  ortizda01    2016    BOS  38\n",
      "\n",
      "    playerID  yearID teamID  HR\n",
      "4  bettsmo01    2015    BOS  18\n",
      "2   cruzne02    2016    SEA  43\n",
      "1   canoro01    2016    SEA  39\n",
      "3  ortizda01    2016    BOS  38\n",
      "0  bettsmo01    2016    BOS  31\n",
      "\n"
     ]
    }
   ],
   "source": [
    "# df is predefined\n",
    "print('{}\\n'.format(df))\n",
    "\n",
    "sort1 = df.sort_values(['yearID', 'playerID'])\n",
    "print('{}\\n'.format(sort1))\n",
    "\n",
    "sort2 = df.sort_values(['yearID', 'HR'],\n",
    "                       ascending=[True, False])\n",
    "print('{}\\n'.format(sort2))"
   ]
  },
  {
   "cell_type": "markdown",
   "id": "d074781d",
   "metadata": {},
   "source": [
    "### Metrics \n",
    "----\n",
    "###### Numeric metrics\n"
   ]
  },
  {
   "cell_type": "code",
   "execution_count": 15,
   "id": "be0d2e96",
   "metadata": {},
   "outputs": [
    {
     "name": "stdout",
     "output_type": "stream",
     "text": [
      "    playerID  yearID teamID  HR\n",
      "0  bettsmo01    2016    BOS  31\n",
      "1   canoro01    2016    SEA  39\n",
      "2   cruzne02    2016    SEA  43\n",
      "3  ortizda01    2016    BOS  38\n",
      "4  bettsmo01    2015    BOS  18\n",
      "\n",
      "            yearID         HR\n",
      "count     5.000000   5.000000\n",
      "mean   2015.800000  33.800000\n",
      "std       0.447214   9.833616\n",
      "min    2015.000000  18.000000\n",
      "25%    2016.000000  31.000000\n",
      "50%    2016.000000  38.000000\n",
      "75%    2016.000000  39.000000\n",
      "max    2016.000000  43.000000\n",
      "\n",
      "              HR\n",
      "count   5.000000\n",
      "mean   33.800000\n",
      "std     9.833616\n",
      "min    18.000000\n",
      "25%    31.000000\n",
      "50%    38.000000\n",
      "75%    39.000000\n",
      "max    43.000000\n",
      "\n"
     ]
    }
   ],
   "source": [
    "# df is predefined\n",
    "print('{}\\n'.format(df))\n",
    "\n",
    "metrics1 = df.describe()\n",
    "print('{}\\n'.format(metrics1))\n",
    "\n",
    "hr_rbi = df[['HR']]\n",
    "metrics2 = hr_rbi.describe()\n",
    "print('{}\\n'.format(metrics2))"
   ]
  },
  {
   "cell_type": "code",
   "execution_count": 18,
   "id": "c3a63b6c",
   "metadata": {},
   "outputs": [
    {
     "name": "stdout",
     "output_type": "stream",
     "text": [
      "              HR\n",
      "count   5.000000\n",
      "mean   33.800000\n",
      "std     9.833616\n",
      "min    18.000000\n",
      "50%    38.000000\n",
      "max    43.000000\n",
      "\n",
      "              HR\n",
      "count   5.000000\n",
      "mean   33.800000\n",
      "std     9.833616\n",
      "min    18.000000\n",
      "10%    23.200000\n",
      "50%    38.000000\n",
      "max    43.000000\n",
      "\n",
      "              HR\n",
      "count   5.000000\n",
      "mean   33.800000\n",
      "std     9.833616\n",
      "min    18.000000\n",
      "20%    28.400000\n",
      "50%    38.000000\n",
      "80%    39.800000\n",
      "max    43.000000\n",
      "\n"
     ]
    }
   ],
   "source": [
    "metrics1 = hr_rbi.describe(percentiles=[.5])\n",
    "print('{}\\n'.format(metrics1))\n",
    "\n",
    "metrics2 = hr_rbi.describe(percentiles=[.1])\n",
    "print('{}\\n'.format(metrics2))\n",
    "\n",
    "metrics3 = hr_rbi.describe(percentiles=[.2,.8])\n",
    "print('{}\\n'.format(metrics3))"
   ]
  },
  {
   "cell_type": "markdown",
   "id": "4644ba13",
   "metadata": {},
   "source": [
    "### categorical features \n",
    "---\n",
    "- The frequency count for a specific category of a feature refers to how many times that category appears in the dataset. In pandas, we use the value_counts function to obtain the frequency counts for each category in a column feature."
   ]
  },
  {
   "cell_type": "code",
   "execution_count": 17,
   "id": "5fd55165",
   "metadata": {},
   "outputs": [
    {
     "name": "stdout",
     "output_type": "stream",
     "text": [
      "bettsmo01    2\n",
      "canoro01     1\n",
      "cruzne02     1\n",
      "ortizda01    1\n",
      "Name: playerID, dtype: int64\n",
      "\n",
      "bettsmo01    0.4\n",
      "canoro01     0.2\n",
      "cruzne02     0.2\n",
      "ortizda01    0.2\n",
      "Name: playerID, dtype: float64\n",
      "\n",
      "canoro01     1\n",
      "cruzne02     1\n",
      "ortizda01    1\n",
      "bettsmo01    2\n",
      "Name: playerID, dtype: int64\n",
      "\n"
     ]
    }
   ],
   "source": [
    "p_ids = df['playerID']\n",
    "print('{}\\n'.format(p_ids.value_counts()))\n",
    "\n",
    "print('{}\\n'.format(p_ids.value_counts(normalize=True)))\n",
    "\n",
    "print('{}\\n'.format(p_ids.value_counts(ascending=True)))"
   ]
  },
  {
   "cell_type": "code",
   "execution_count": 19,
   "id": "0b2b3c73",
   "metadata": {},
   "outputs": [
    {
     "name": "stdout",
     "output_type": "stream",
     "text": [
      "array(['bettsmo01', 'canoro01', 'cruzne02', 'ortizda01'], dtype=object)\n",
      "\n",
      "array(['BOS', 'SEA'], dtype=object)\n",
      "\n"
     ]
    }
   ],
   "source": [
    "unique_players = df['playerID'].unique()\n",
    "print('{}\\n'.format(repr(unique_players)))\n",
    "\n",
    "unique_teams = df['teamID'].unique()\n",
    "print('{}\\n'.format(repr(unique_teams)))"
   ]
  },
  {
   "cell_type": "code",
   "execution_count": 24,
   "id": "603a924c",
   "metadata": {},
   "outputs": [
    {
     "name": "stdout",
     "output_type": "stream",
     "text": [
      "0    2016\n",
      "1    2016\n",
      "2    2016\n",
      "3    2016\n",
      "4    2015\n",
      "Name: yearID, dtype: int64\n",
      "\n",
      "array([2016, 2015])\n",
      "\n",
      "2016    4\n",
      "2015    1\n",
      "Name: yearID, dtype: int64\n",
      "\n"
     ]
    }
   ],
   "source": [
    "y_ids = df['yearID']\n",
    "print('{}\\n'.format(y_ids))\n",
    "\n",
    "print('{}\\n'.format(repr(y_ids.unique())))\n",
    "print('{}\\n'.format(y_ids.value_counts()))"
   ]
  },
  {
   "cell_type": "markdown",
   "id": "2a6d867c",
   "metadata": {},
   "source": [
    "## plotting \n",
    "----\n",
    "- The main function used for plotting DataFrames is plot. This function is used in tandem with the show function from the pyplot API, to produce plot visualizations. We import the pyplot API with the line:\n",
    "- __import matplotlib.pyplot as plt__\n"
   ]
  },
  {
   "cell_type": "code",
   "execution_count": 23,
   "id": "2b05e9c4",
   "metadata": {},
   "outputs": [
    {
     "name": "stdout",
     "output_type": "stream",
     "text": [
      "    playerID  yearID teamID  HR\n",
      "0  bettsmo01    2016    BOS  31\n",
      "1   canoro01    2016    SEA  39\n",
      "2   cruzne02    2016    SEA  43\n",
      "3  ortizda01    2016    BOS  38\n",
      "4  bettsmo01    2015    BOS  18\n",
      "\n"
     ]
    },
    {
     "data": {
      "image/png": "[encoded data removed]",
      "text/plain": [
       "<Figure size 432x288 with 1 Axes>"
      ]
     },
     "metadata": {
      "needs_background": "light"
     },
     "output_type": "display_data"
    }
   ],
   "source": [
    "from matplotlib import pyplot as plt \n",
    "# predefined df\n",
    "print('{}\\n'.format(df))\n",
    "\n",
    "df.plot(kind='line',x='yearID',y='HR')\n",
    "plt.show()"
   ]
  },
  {
   "cell_type": "code",
   "execution_count": 27,
   "id": "a0297d31",
   "metadata": {},
   "outputs": [
    {
     "name": "stdout",
     "output_type": "stream",
     "text": [
      "    playerID  yearID teamID  HR\n",
      "0  bettsmo01    2016    BOS  31\n",
      "1   canoro01    2016    SEA  39\n",
      "2   cruzne02    2016    SEA  43\n",
      "3  ortizda01    2016    BOS  38\n",
      "4  bettsmo01    2015    BOS  18\n",
      "\n"
     ]
    },
    {
     "data": {
      "image/png": "[encoded data removed]",
      "text/plain": [
       "<Figure size 432x288 with 1 Axes>"
      ]
     },
     "metadata": {
      "needs_background": "light"
     },
     "output_type": "display_data"
    },
    {
     "data": {
      "text/plain": [
       "<Figure size 432x288 with 0 Axes>"
      ]
     },
     "metadata": {},
     "output_type": "display_data"
    }
   ],
   "source": [
    "# predefined df\n",
    "print('{}\\n'.format(df))\n",
    "\n",
    "df.plot(kind='line',x='yearID',y='HR')\n",
    "plt.show()\n",
    "#You can also use plt.savefig to save the plot to a PNG or PDF file.\n",
    "plt.savefig('legend.png')  # save to PNG file"
   ]
  },
  {
   "cell_type": "code",
   "execution_count": 28,
   "id": "d02a88f6",
   "metadata": {},
   "outputs": [
    {
     "name": "stdout",
     "output_type": "stream",
     "text": [
      "    playerID  yearID teamID  HR\n",
      "0  bettsmo01    2016    BOS  31\n",
      "1   canoro01    2016    SEA  39\n",
      "2   cruzne02    2016    SEA  43\n",
      "3  ortizda01    2016    BOS  38\n",
      "4  bettsmo01    2015    BOS  18\n",
      "\n"
     ]
    },
    {
     "data": {
      "image/png": "[encoded data removed]",
      "text/plain": [
       "<Figure size 432x288 with 1 Axes>"
      ]
     },
     "metadata": {
      "needs_background": "light"
     },
     "output_type": "display_data"
    }
   ],
   "source": [
    "# predefined df\n",
    "print('{}\\n'.format(df))\n",
    "\n",
    "df.plot(kind='line',x='yearID',y='HR')\n",
    "plt.title('HR vs. Year')\n",
    "plt.xlabel('Year')\n",
    "plt.ylabel('HR Count')\n",
    "plt.show()"
   ]
  },
  {
   "cell_type": "code",
   "execution_count": 29,
   "id": "11b33166",
   "metadata": {},
   "outputs": [
    {
     "name": "stdout",
     "output_type": "stream",
     "text": [
      "    playerID  yearID teamID  HR\n",
      "0  bettsmo01    2016    BOS  31\n",
      "1   canoro01    2016    SEA  39\n",
      "2   cruzne02    2016    SEA  43\n",
      "3  ortizda01    2016    BOS  38\n",
      "4  bettsmo01    2015    BOS  18\n",
      "\n"
     ]
    },
    {
     "data": {
      "image/png": "[encoded data removed]",
      "text/plain": [
       "<Figure size 432x288 with 1 Axes>"
      ]
     },
     "metadata": {
      "needs_background": "light"
     },
     "output_type": "display_data"
    }
   ],
   "source": [
    "# predefined df\n",
    "print('{}\\n'.format(df))\n",
    "\n",
    "df.plot(kind='bar',y='HR')\n",
    "plt.ylabel('Frequency')\n",
    "plt.show()"
   ]
  },
  {
   "cell_type": "code",
   "execution_count": 30,
   "id": "f57aef9a",
   "metadata": {},
   "outputs": [
    {
     "name": "stdout",
     "output_type": "stream",
     "text": [
      "    playerID  yearID teamID  HR\n",
      "0  bettsmo01    2016    BOS  31\n",
      "1   canoro01    2016    SEA  39\n",
      "2   cruzne02    2016    SEA  43\n",
      "3  ortizda01    2016    BOS  38\n",
      "4  bettsmo01    2015    BOS  18\n",
      "\n"
     ]
    },
    {
     "data": {
      "image/png": "[encoded data removed]",
      "text/plain": [
       "<Figure size 432x288 with 1 Axes>"
      ]
     },
     "metadata": {
      "needs_background": "light"
     },
     "output_type": "display_data"
    }
   ],
   "source": [
    "# predefined df\n",
    "print('{}\\n'.format(df))\n",
    "\n",
    "df.plot(kind='box',y='HR')\n",
    "plt.show()"
   ]
  },
  {
   "cell_type": "markdown",
   "id": "fab53d6c",
   "metadata": {},
   "source": [
    "## Multiple Features \n",
    "----\n"
   ]
  },
  {
   "cell_type": "code",
   "execution_count": 36,
   "id": "5adf3fbc",
   "metadata": {},
   "outputs": [
    {
     "name": "stdout",
     "output_type": "stream",
     "text": [
      "    playerID  yearID teamID  HR\n",
      "0  bettsmo01    2016    BOS  31\n",
      "1   canoro01    2016    SEA  39\n",
      "2   cruzne02    2016    SEA  43\n",
      "3  ortizda01    2016    BOS  38\n",
      "4  bettsmo01    2015    BOS  18\n",
      "\n"
     ]
    },
    {
     "ename": "KeyError",
     "evalue": "'BB'",
     "output_type": "error",
     "traceback": [
      "\u001b[0;31m---------------------------------------------------------------------------\u001b[0m",
      "\u001b[0;31mKeyError\u001b[0m                                  Traceback (most recent call last)",
      "\u001b[0;32m~/anaconda3/lib/python3.9/site-packages/pandas/core/indexes/base.py\u001b[0m in \u001b[0;36mget_loc\u001b[0;34m(self, key, method, tolerance)\u001b[0m\n\u001b[1;32m   3360\u001b[0m             \u001b[0;32mtry\u001b[0m\u001b[0;34m:\u001b[0m\u001b[0;34m\u001b[0m\u001b[0;34m\u001b[0m\u001b[0m\n\u001b[0;32m-> 3361\u001b[0;31m                 \u001b[0;32mreturn\u001b[0m \u001b[0mself\u001b[0m\u001b[0;34m.\u001b[0m\u001b[0m_engine\u001b[0m\u001b[0;34m.\u001b[0m\u001b[0mget_loc\u001b[0m\u001b[0;34m(\u001b[0m\u001b[0mcasted_key\u001b[0m\u001b[0;34m)\u001b[0m\u001b[0;34m\u001b[0m\u001b[0;34m\u001b[0m\u001b[0m\n\u001b[0m\u001b[1;32m   3362\u001b[0m             \u001b[0;32mexcept\u001b[0m \u001b[0mKeyError\u001b[0m \u001b[0;32mas\u001b[0m \u001b[0merr\u001b[0m\u001b[0;34m:\u001b[0m\u001b[0;34m\u001b[0m\u001b[0;34m\u001b[0m\u001b[0m\n",
      "\u001b[0;32m~/anaconda3/lib/python3.9/site-packages/pandas/_libs/index.pyx\u001b[0m in \u001b[0;36mpandas._libs.index.IndexEngine.get_loc\u001b[0;34m()\u001b[0m\n",
      "\u001b[0;32m~/anaconda3/lib/python3.9/site-packages/pandas/_libs/index.pyx\u001b[0m in \u001b[0;36mpandas._libs.index.IndexEngine.get_loc\u001b[0;34m()\u001b[0m\n",
      "\u001b[0;32mpandas/_libs/hashtable_class_helper.pxi\u001b[0m in \u001b[0;36mpandas._libs.hashtable.PyObjectHashTable.get_item\u001b[0;34m()\u001b[0m\n",
      "\u001b[0;32mpandas/_libs/hashtable_class_helper.pxi\u001b[0m in \u001b[0;36mpandas._libs.hashtable.PyObjectHashTable.get_item\u001b[0;34m()\u001b[0m\n",
      "\u001b[0;31mKeyError\u001b[0m: 'BB'",
      "\nThe above exception was the direct cause of the following exception:\n",
      "\u001b[0;31mKeyError\u001b[0m                                  Traceback (most recent call last)",
      "\u001b[0;32m/tmp/ipykernel_13807/143259606.py\u001b[0m in \u001b[0;36m<module>\u001b[0;34m\u001b[0m\n\u001b[1;32m      7\u001b[0m \u001b[0max\u001b[0m \u001b[0;34m=\u001b[0m \u001b[0mplt\u001b[0m\u001b[0;34m.\u001b[0m\u001b[0mgca\u001b[0m\u001b[0;34m(\u001b[0m\u001b[0;34m)\u001b[0m\u001b[0;34m\u001b[0m\u001b[0;34m\u001b[0m\u001b[0m\n\u001b[1;32m      8\u001b[0m \u001b[0;34m\u001b[0m\u001b[0m\n\u001b[0;32m----> 9\u001b[0;31m \u001b[0mdf\u001b[0m\u001b[0;34m.\u001b[0m\u001b[0mplot\u001b[0m\u001b[0;34m(\u001b[0m\u001b[0mkind\u001b[0m\u001b[0;34m=\u001b[0m\u001b[0;34m'line'\u001b[0m\u001b[0;34m,\u001b[0m\u001b[0mx\u001b[0m\u001b[0;34m=\u001b[0m\u001b[0;34m'yearID'\u001b[0m\u001b[0;34m,\u001b[0m\u001b[0my\u001b[0m\u001b[0;34m=\u001b[0m\u001b[0;34m'BB'\u001b[0m\u001b[0;34m,\u001b[0m\u001b[0max\u001b[0m\u001b[0;34m=\u001b[0m\u001b[0max\u001b[0m\u001b[0;34m)\u001b[0m\u001b[0;34m\u001b[0m\u001b[0;34m\u001b[0m\u001b[0m\n\u001b[0m\u001b[1;32m     10\u001b[0m \u001b[0mdf\u001b[0m\u001b[0;34m.\u001b[0m\u001b[0mplot\u001b[0m\u001b[0;34m(\u001b[0m\u001b[0mkind\u001b[0m\u001b[0;34m=\u001b[0m\u001b[0;34m'line'\u001b[0m\u001b[0;34m,\u001b[0m\u001b[0mx\u001b[0m\u001b[0;34m=\u001b[0m\u001b[0;34m'yearID'\u001b[0m\u001b[0;34m,\u001b[0m\u001b[0my\u001b[0m\u001b[0;34m=\u001b[0m\u001b[0;34m'BB'\u001b[0m\u001b[0;34m,\u001b[0m \u001b[0mcolor\u001b[0m\u001b[0;34m=\u001b[0m\u001b[0;34m'red'\u001b[0m\u001b[0;34m,\u001b[0m \u001b[0max\u001b[0m\u001b[0;34m=\u001b[0m\u001b[0max\u001b[0m\u001b[0;34m)\u001b[0m\u001b[0;34m\u001b[0m\u001b[0;34m\u001b[0m\u001b[0m\n\u001b[1;32m     11\u001b[0m \u001b[0mplt\u001b[0m\u001b[0;34m.\u001b[0m\u001b[0mshow\u001b[0m\u001b[0;34m(\u001b[0m\u001b[0;34m)\u001b[0m\u001b[0;34m\u001b[0m\u001b[0;34m\u001b[0m\u001b[0m\n",
      "\u001b[0;32m~/anaconda3/lib/python3.9/site-packages/pandas/plotting/_core.py\u001b[0m in \u001b[0;36m__call__\u001b[0;34m(self, *args, **kwargs)\u001b[0m\n\u001b[1;32m    956\u001b[0m \u001b[0;34m\u001b[0m\u001b[0m\n\u001b[1;32m    957\u001b[0m                 \u001b[0;31m# don't overwrite\u001b[0m\u001b[0;34m\u001b[0m\u001b[0;34m\u001b[0m\u001b[0m\n\u001b[0;32m--> 958\u001b[0;31m                 \u001b[0mdata\u001b[0m \u001b[0;34m=\u001b[0m \u001b[0mdata\u001b[0m\u001b[0;34m[\u001b[0m\u001b[0my\u001b[0m\u001b[0;34m]\u001b[0m\u001b[0;34m.\u001b[0m\u001b[0mcopy\u001b[0m\u001b[0;34m(\u001b[0m\u001b[0;34m)\u001b[0m\u001b[0;34m\u001b[0m\u001b[0;34m\u001b[0m\u001b[0m\n\u001b[0m\u001b[1;32m    959\u001b[0m \u001b[0;34m\u001b[0m\u001b[0m\n\u001b[1;32m    960\u001b[0m                 \u001b[0;32mif\u001b[0m \u001b[0misinstance\u001b[0m\u001b[0;34m(\u001b[0m\u001b[0mdata\u001b[0m\u001b[0;34m,\u001b[0m \u001b[0mABCSeries\u001b[0m\u001b[0;34m)\u001b[0m\u001b[0;34m:\u001b[0m\u001b[0;34m\u001b[0m\u001b[0;34m\u001b[0m\u001b[0m\n",
      "\u001b[0;32m~/anaconda3/lib/python3.9/site-packages/pandas/core/frame.py\u001b[0m in \u001b[0;36m__getitem__\u001b[0;34m(self, key)\u001b[0m\n\u001b[1;32m   3456\u001b[0m             \u001b[0;32mif\u001b[0m \u001b[0mself\u001b[0m\u001b[0;34m.\u001b[0m\u001b[0mcolumns\u001b[0m\u001b[0;34m.\u001b[0m\u001b[0mnlevels\u001b[0m \u001b[0;34m>\u001b[0m \u001b[0;36m1\u001b[0m\u001b[0;34m:\u001b[0m\u001b[0;34m\u001b[0m\u001b[0;34m\u001b[0m\u001b[0m\n\u001b[1;32m   3457\u001b[0m                 \u001b[0;32mreturn\u001b[0m \u001b[0mself\u001b[0m\u001b[0;34m.\u001b[0m\u001b[0m_getitem_multilevel\u001b[0m\u001b[0;34m(\u001b[0m\u001b[0mkey\u001b[0m\u001b[0;34m)\u001b[0m\u001b[0;34m\u001b[0m\u001b[0;34m\u001b[0m\u001b[0m\n\u001b[0;32m-> 3458\u001b[0;31m             \u001b[0mindexer\u001b[0m \u001b[0;34m=\u001b[0m \u001b[0mself\u001b[0m\u001b[0;34m.\u001b[0m\u001b[0mcolumns\u001b[0m\u001b[0;34m.\u001b[0m\u001b[0mget_loc\u001b[0m\u001b[0;34m(\u001b[0m\u001b[0mkey\u001b[0m\u001b[0;34m)\u001b[0m\u001b[0;34m\u001b[0m\u001b[0;34m\u001b[0m\u001b[0m\n\u001b[0m\u001b[1;32m   3459\u001b[0m             \u001b[0;32mif\u001b[0m \u001b[0mis_integer\u001b[0m\u001b[0;34m(\u001b[0m\u001b[0mindexer\u001b[0m\u001b[0;34m)\u001b[0m\u001b[0;34m:\u001b[0m\u001b[0;34m\u001b[0m\u001b[0;34m\u001b[0m\u001b[0m\n\u001b[1;32m   3460\u001b[0m                 \u001b[0mindexer\u001b[0m \u001b[0;34m=\u001b[0m \u001b[0;34m[\u001b[0m\u001b[0mindexer\u001b[0m\u001b[0;34m]\u001b[0m\u001b[0;34m\u001b[0m\u001b[0;34m\u001b[0m\u001b[0m\n",
      "\u001b[0;32m~/anaconda3/lib/python3.9/site-packages/pandas/core/indexes/base.py\u001b[0m in \u001b[0;36mget_loc\u001b[0;34m(self, key, method, tolerance)\u001b[0m\n\u001b[1;32m   3361\u001b[0m                 \u001b[0;32mreturn\u001b[0m \u001b[0mself\u001b[0m\u001b[0;34m.\u001b[0m\u001b[0m_engine\u001b[0m\u001b[0;34m.\u001b[0m\u001b[0mget_loc\u001b[0m\u001b[0;34m(\u001b[0m\u001b[0mcasted_key\u001b[0m\u001b[0;34m)\u001b[0m\u001b[0;34m\u001b[0m\u001b[0;34m\u001b[0m\u001b[0m\n\u001b[1;32m   3362\u001b[0m             \u001b[0;32mexcept\u001b[0m \u001b[0mKeyError\u001b[0m \u001b[0;32mas\u001b[0m \u001b[0merr\u001b[0m\u001b[0;34m:\u001b[0m\u001b[0;34m\u001b[0m\u001b[0;34m\u001b[0m\u001b[0m\n\u001b[0;32m-> 3363\u001b[0;31m                 \u001b[0;32mraise\u001b[0m \u001b[0mKeyError\u001b[0m\u001b[0;34m(\u001b[0m\u001b[0mkey\u001b[0m\u001b[0;34m)\u001b[0m \u001b[0;32mfrom\u001b[0m \u001b[0merr\u001b[0m\u001b[0;34m\u001b[0m\u001b[0;34m\u001b[0m\u001b[0m\n\u001b[0m\u001b[1;32m   3364\u001b[0m \u001b[0;34m\u001b[0m\u001b[0m\n\u001b[1;32m   3365\u001b[0m         \u001b[0;32mif\u001b[0m \u001b[0mis_scalar\u001b[0m\u001b[0;34m(\u001b[0m\u001b[0mkey\u001b[0m\u001b[0;34m)\u001b[0m \u001b[0;32mand\u001b[0m \u001b[0misna\u001b[0m\u001b[0;34m(\u001b[0m\u001b[0mkey\u001b[0m\u001b[0;34m)\u001b[0m \u001b[0;32mand\u001b[0m \u001b[0;32mnot\u001b[0m \u001b[0mself\u001b[0m\u001b[0;34m.\u001b[0m\u001b[0mhasnans\u001b[0m\u001b[0;34m:\u001b[0m\u001b[0;34m\u001b[0m\u001b[0;34m\u001b[0m\u001b[0m\n",
      "\u001b[0;31mKeyError\u001b[0m: 'BB'"
     ]
    },
    {
     "data": {
      "image/png": "[encoded data removed]",
      "text/plain": [
       "<Figure size 432x288 with 1 Axes>"
      ]
     },
     "metadata": {
      "needs_background": "light"
     },
     "output_type": "display_data"
    }
   ],
   "source": [
    "\n",
    "import matplotlib.pyplot as plt\n",
    "\n",
    "# predefined df\n",
    "print('{}\\n'.format(df))\n",
    "\n",
    "# gca stands for 'get current axis'\n",
    "ax = plt.gca()\n",
    "\n",
    "df.plot(kind='line',x='yearID',y='BB',ax=ax)\n",
    "df.plot(kind='line',x='yearID',y='BB', color='red', ax=ax)\n",
    "plt.show()"
   ]
  },
  {
   "cell_type": "code",
   "execution_count": 37,
   "id": "1ceee318",
   "metadata": {},
   "outputs": [
    {
     "data": {
      "image/png": "[encoded data removed]",
      "text/plain": [
       "<Figure size 432x288 with 1 Axes>"
      ]
     },
     "metadata": {
      "needs_background": "light"
     },
     "output_type": "display_data"
    }
   ],
   "source": [
    "ax = plt.gca()"
   ]
  },
  {
   "cell_type": "code",
   "execution_count": 38,
   "id": "b0bb3a4c",
   "metadata": {},
   "outputs": [
    {
     "name": "stdout",
     "output_type": "stream",
     "text": [
      "    playerID  yearID teamID  HR\n",
      "0  bettsmo01    2016    BOS  31\n",
      "1   canoro01    2016    SEA  39\n",
      "2   cruzne02    2016    SEA  43\n",
      "3  ortizda01    2016    BOS  38\n",
      "4  bettsmo01    2015    BOS  18\n",
      "\n"
     ]
    },
    {
     "data": {
      "image/png": "[encoded data removed]",
      "text/plain": [
       "<Figure size 432x288 with 1 Axes>"
      ]
     },
     "metadata": {
      "needs_background": "light"
     },
     "output_type": "display_data"
    }
   ],
   "source": [
    "# predefined df\n",
    "print('{}\\n'.format(df))\n",
    "\n",
    "df.plot(kind='box')\n",
    "plt.show()"
   ]
  },
  {
   "cell_type": "code",
   "execution_count": 39,
   "id": "db64921f",
   "metadata": {},
   "outputs": [
    {
     "name": "stdout",
     "output_type": "stream",
     "text": [
      "    playerID  yearID teamID  HR\n",
      "0  bettsmo01    2016    BOS  31\n",
      "1   canoro01    2016    SEA  39\n",
      "2   cruzne02    2016    SEA  43\n",
      "3  ortizda01    2016    BOS  38\n",
      "4  bettsmo01    2015    BOS  18\n",
      "\n"
     ]
    },
    {
     "ename": "NameError",
     "evalue": "name 'indicator_df' is not defined",
     "output_type": "error",
     "traceback": [
      "\u001b[0;31m---------------------------------------------------------------------------\u001b[0m",
      "\u001b[0;31mNameError\u001b[0m                                 Traceback (most recent call last)",
      "\u001b[0;32m/tmp/ipykernel_13807/2098079147.py\u001b[0m in \u001b[0;36m<module>\u001b[0;34m\u001b[0m\n\u001b[1;32m      3\u001b[0m \u001b[0;34m\u001b[0m\u001b[0m\n\u001b[1;32m      4\u001b[0m \u001b[0;31m# predefined indicator Dataframe\u001b[0m\u001b[0;34m\u001b[0m\u001b[0;34m\u001b[0m\u001b[0m\n\u001b[0;32m----> 5\u001b[0;31m \u001b[0mprint\u001b[0m\u001b[0;34m(\u001b[0m\u001b[0;34m'{}\\n'\u001b[0m\u001b[0;34m.\u001b[0m\u001b[0mformat\u001b[0m\u001b[0;34m(\u001b[0m\u001b[0mindicator_df\u001b[0m\u001b[0;34m)\u001b[0m\u001b[0;34m)\u001b[0m\u001b[0;34m\u001b[0m\u001b[0;34m\u001b[0m\u001b[0m\n\u001b[0m",
      "\u001b[0;31mNameError\u001b[0m: name 'indicator_df' is not defined"
     ]
    }
   ],
   "source": [
    "# predefined non-indicator DataFrame\n",
    "print('{}\\n'.format(df))\n",
    "\n",
    "# predefined indicator Dataframe\n",
    "print('{}\\n'.format(indicator_df))"
   ]
  },
  {
   "cell_type": "code",
   "execution_count": 40,
   "id": "6de3301d",
   "metadata": {},
   "outputs": [
    {
     "name": "stdout",
     "output_type": "stream",
     "text": [
      "    playerID  yearID teamID  HR\n",
      "0  bettsmo01    2016    BOS  31\n",
      "1   canoro01    2016    SEA  39\n",
      "2   cruzne02    2016    SEA  43\n",
      "3  ortizda01    2016    BOS  38\n",
      "4  bettsmo01    2015    BOS  18\n",
      "\n",
      "Index(['yearID', 'HR', 'playerID_bettsmo01', 'playerID_canoro01',\n",
      "       'playerID_cruzne02', 'playerID_ortizda01', 'teamID_BOS', 'teamID_SEA'],\n",
      "      dtype='object')\n",
      "\n"
     ]
    },
    {
     "ename": "KeyError",
     "evalue": "\"['teamID_PIT'] not in index\"",
     "output_type": "error",
     "traceback": [
      "\u001b[0;31m---------------------------------------------------------------------------\u001b[0m",
      "\u001b[0;31mKeyError\u001b[0m                                  Traceback (most recent call last)",
      "\u001b[0;32m/tmp/ipykernel_13807/154451324.py\u001b[0m in \u001b[0;36m<module>\u001b[0;34m\u001b[0m\n\u001b[1;32m      5\u001b[0m \u001b[0mprint\u001b[0m\u001b[0;34m(\u001b[0m\u001b[0;34m'{}\\n'\u001b[0m\u001b[0;34m.\u001b[0m\u001b[0mformat\u001b[0m\u001b[0;34m(\u001b[0m\u001b[0mconverted\u001b[0m\u001b[0;34m.\u001b[0m\u001b[0mcolumns\u001b[0m\u001b[0;34m)\u001b[0m\u001b[0;34m)\u001b[0m\u001b[0;34m\u001b[0m\u001b[0;34m\u001b[0m\u001b[0m\n\u001b[1;32m      6\u001b[0m \u001b[0;34m\u001b[0m\u001b[0m\n\u001b[0;32m----> 7\u001b[0;31m print('{}\\n'.format(converted[['teamID_BOS',\n\u001b[0m\u001b[1;32m      8\u001b[0m                                'teamID_PIT']]))\n\u001b[1;32m      9\u001b[0m print('{}\\n'.format(converted[['lgID_AL',\n",
      "\u001b[0;32m~/anaconda3/lib/python3.9/site-packages/pandas/core/frame.py\u001b[0m in \u001b[0;36m__getitem__\u001b[0;34m(self, key)\u001b[0m\n\u001b[1;32m   3462\u001b[0m             \u001b[0;32mif\u001b[0m \u001b[0mis_iterator\u001b[0m\u001b[0;34m(\u001b[0m\u001b[0mkey\u001b[0m\u001b[0;34m)\u001b[0m\u001b[0;34m:\u001b[0m\u001b[0;34m\u001b[0m\u001b[0;34m\u001b[0m\u001b[0m\n\u001b[1;32m   3463\u001b[0m                 \u001b[0mkey\u001b[0m \u001b[0;34m=\u001b[0m \u001b[0mlist\u001b[0m\u001b[0;34m(\u001b[0m\u001b[0mkey\u001b[0m\u001b[0;34m)\u001b[0m\u001b[0;34m\u001b[0m\u001b[0;34m\u001b[0m\u001b[0m\n\u001b[0;32m-> 3464\u001b[0;31m             \u001b[0mindexer\u001b[0m \u001b[0;34m=\u001b[0m \u001b[0mself\u001b[0m\u001b[0;34m.\u001b[0m\u001b[0mloc\u001b[0m\u001b[0;34m.\u001b[0m\u001b[0m_get_listlike_indexer\u001b[0m\u001b[0;34m(\u001b[0m\u001b[0mkey\u001b[0m\u001b[0;34m,\u001b[0m \u001b[0maxis\u001b[0m\u001b[0;34m=\u001b[0m\u001b[0;36m1\u001b[0m\u001b[0;34m)\u001b[0m\u001b[0;34m[\u001b[0m\u001b[0;36m1\u001b[0m\u001b[0;34m]\u001b[0m\u001b[0;34m\u001b[0m\u001b[0;34m\u001b[0m\u001b[0m\n\u001b[0m\u001b[1;32m   3465\u001b[0m \u001b[0;34m\u001b[0m\u001b[0m\n\u001b[1;32m   3466\u001b[0m         \u001b[0;31m# take() does not accept boolean indexers\u001b[0m\u001b[0;34m\u001b[0m\u001b[0;34m\u001b[0m\u001b[0m\n",
      "\u001b[0;32m~/anaconda3/lib/python3.9/site-packages/pandas/core/indexing.py\u001b[0m in \u001b[0;36m_get_listlike_indexer\u001b[0;34m(self, key, axis)\u001b[0m\n\u001b[1;32m   1312\u001b[0m             \u001b[0mkeyarr\u001b[0m\u001b[0;34m,\u001b[0m \u001b[0mindexer\u001b[0m\u001b[0;34m,\u001b[0m \u001b[0mnew_indexer\u001b[0m \u001b[0;34m=\u001b[0m \u001b[0max\u001b[0m\u001b[0;34m.\u001b[0m\u001b[0m_reindex_non_unique\u001b[0m\u001b[0;34m(\u001b[0m\u001b[0mkeyarr\u001b[0m\u001b[0;34m)\u001b[0m\u001b[0;34m\u001b[0m\u001b[0;34m\u001b[0m\u001b[0m\n\u001b[1;32m   1313\u001b[0m \u001b[0;34m\u001b[0m\u001b[0m\n\u001b[0;32m-> 1314\u001b[0;31m         \u001b[0mself\u001b[0m\u001b[0;34m.\u001b[0m\u001b[0m_validate_read_indexer\u001b[0m\u001b[0;34m(\u001b[0m\u001b[0mkeyarr\u001b[0m\u001b[0;34m,\u001b[0m \u001b[0mindexer\u001b[0m\u001b[0;34m,\u001b[0m \u001b[0maxis\u001b[0m\u001b[0;34m)\u001b[0m\u001b[0;34m\u001b[0m\u001b[0;34m\u001b[0m\u001b[0m\n\u001b[0m\u001b[1;32m   1315\u001b[0m \u001b[0;34m\u001b[0m\u001b[0m\n\u001b[1;32m   1316\u001b[0m         if needs_i8_conversion(ax.dtype) or isinstance(\n",
      "\u001b[0;32m~/anaconda3/lib/python3.9/site-packages/pandas/core/indexing.py\u001b[0m in \u001b[0;36m_validate_read_indexer\u001b[0;34m(self, key, indexer, axis)\u001b[0m\n\u001b[1;32m   1375\u001b[0m \u001b[0;34m\u001b[0m\u001b[0m\n\u001b[1;32m   1376\u001b[0m             \u001b[0mnot_found\u001b[0m \u001b[0;34m=\u001b[0m \u001b[0mlist\u001b[0m\u001b[0;34m(\u001b[0m\u001b[0mensure_index\u001b[0m\u001b[0;34m(\u001b[0m\u001b[0mkey\u001b[0m\u001b[0;34m)\u001b[0m\u001b[0;34m[\u001b[0m\u001b[0mmissing_mask\u001b[0m\u001b[0;34m.\u001b[0m\u001b[0mnonzero\u001b[0m\u001b[0;34m(\u001b[0m\u001b[0;34m)\u001b[0m\u001b[0;34m[\u001b[0m\u001b[0;36m0\u001b[0m\u001b[0;34m]\u001b[0m\u001b[0;34m]\u001b[0m\u001b[0;34m.\u001b[0m\u001b[0munique\u001b[0m\u001b[0;34m(\u001b[0m\u001b[0;34m)\u001b[0m\u001b[0;34m)\u001b[0m\u001b[0;34m\u001b[0m\u001b[0;34m\u001b[0m\u001b[0m\n\u001b[0;32m-> 1377\u001b[0;31m             \u001b[0;32mraise\u001b[0m \u001b[0mKeyError\u001b[0m\u001b[0;34m(\u001b[0m\u001b[0;34mf\"{not_found} not in index\"\u001b[0m\u001b[0;34m)\u001b[0m\u001b[0;34m\u001b[0m\u001b[0;34m\u001b[0m\u001b[0m\n\u001b[0m\u001b[1;32m   1378\u001b[0m \u001b[0;34m\u001b[0m\u001b[0m\n\u001b[1;32m   1379\u001b[0m \u001b[0;34m\u001b[0m\u001b[0m\n",
      "\u001b[0;31mKeyError\u001b[0m: \"['teamID_PIT'] not in index\""
     ]
    }
   ],
   "source": [
    "# predefined df\n",
    "print('{}\\n'.format(df))\n",
    "\n",
    "converted = pd.get_dummies(df)\n",
    "print('{}\\n'.format(converted.columns))\n",
    "\n",
    "print('{}\\n'.format(converted[['teamID_BOS',\n",
    "                               'teamID_PIT']]))\n",
    "print('{}\\n'.format(converted[['lgID_AL',\n",
    "                               'lgID_NL']]))"
   ]
  },
  {
   "cell_type": "code",
   "execution_count": 41,
   "id": "1899b489",
   "metadata": {},
   "outputs": [
    {
     "name": "stdout",
     "output_type": "stream",
     "text": [
      "    playerID  yearID teamID  HR\n",
      "0  bettsmo01    2016    BOS  31\n",
      "1   canoro01    2016    SEA  39\n",
      "2   cruzne02    2016    SEA  43\n",
      "3  ortizda01    2016    BOS  38\n",
      "4  bettsmo01    2015    BOS  18\n",
      "\n",
      "array([['bettsmo01', 2016, 'BOS', 31],\n",
      "       ['canoro01', 2016, 'SEA', 39],\n",
      "       ['cruzne02', 2016, 'SEA', 43],\n",
      "       ['ortizda01', 2016, 'BOS', 38],\n",
      "       ['bettsmo01', 2015, 'BOS', 18]], dtype=object)\n"
     ]
    }
   ],
   "source": [
    "# predefined indicator df\n",
    "print('{}\\n'.format(df))\n",
    "\n",
    "n_matrix = df.values\n",
    "print(repr(n_matrix))"
   ]
  },
  {
   "cell_type": "code",
   "execution_count": null,
   "id": "8206f8c9",
   "metadata": {},
   "outputs": [],
   "source": []
  },
  {
   "cell_type": "code",
   "execution_count": null,
   "id": "b114a74a",
   "metadata": {},
   "outputs": [],
   "source": []
  }
 ],
 "metadata": {
  "kernelspec": {
   "display_name": "Python 3 (ipykernel)",
   "language": "python",
   "name": "python3"
  },
  "language_info": {
   "codemirror_mode": {
    "name": "ipython",
    "version": 3
   },
   "file_extension": ".py",
   "mimetype": "text/x-python",
   "name": "python",
   "nbconvert_exporter": "python",
   "pygments_lexer": "ipython3",
   "version": "3.9.7"
  }
 },
 "nbformat": 4,
 "nbformat_minor": 5
}
