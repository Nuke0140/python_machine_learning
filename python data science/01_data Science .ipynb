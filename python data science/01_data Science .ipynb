{
 "cells": [
  {
   "cell_type": "markdown",
   "id": "ec43a64f",
   "metadata": {},
   "source": [
    "### why python \n",
    "----\n",
    "- All hail the mighty packages!\n",
    "- he best thing about using these packages is that they have a minimal learning curve. Once you have a basic understanding of Python\n",
    "- The Jupyter Notebook is an incredibly powerful and sleek tool for developing and presenting data science projects\n",
    "-  Its intuitive workflows, ease of use, and zero-cost have made it THE tool at the heart of any data science project."
   ]
  },
  {
   "cell_type": "markdown",
   "id": "37868e54",
   "metadata": {},
   "source": [
    "- data scinece is simply the study of data , it  is multi-disciplinary field that aims to extract knowledge and insights from  structured and unstructured data \n",
    "- It makes use of statistical and mathematical methods, computer science tools, and knowledge from related fields in order to draw conclusions from the data and make decisions and predictions based on these conclusions. \n",
    "---\n",
    "### data science vs Business intelligence \n",
    "---- \n",
    "- BI is mainly used for reporting or descriptive analysis while Data Science is used for both descriptive and predictive analysis.\n",
    "----\n",
    "#### why everyone should learn data science \n",
    "----\n",
    "- We have only started to realize in the last few years the importance of data in solving problems. Data can answer questions for us in every field be it business, health, agriculture, education, sports, or many more.\n"
   ]
  },
  {
   "cell_type": "markdown",
   "id": "4ef70c45",
   "metadata": {},
   "source": [
    "### data science lifecycle \n",
    "----\n",
    "- 1. Question/problem formulation \n",
    "- 2. Data Acquisition \n",
    "- 3. Data cleaning \n",
    "- 4.Exploratory Data Analysis \n",
    "- 5. Inference and Prediction \n",
    "----\n",
    "###### 1.problem formulation \n",
    "- . Problem formulation#\n",
    "- The lifecycle starts with a question or a problem that we face. This can be a business question or a genuine curiosity of finding the relationships between different events. For instance, Data Science has been previously used for:\n",
    "----\n",
    "\n",
    "###### 2. Data acquisition\n",
    "-  Once the problem is identified, the next step is to gather data. This requires answering some of these questions:\n",
    "\n",
    "-----\n",
    "###### 3. data cleaning \n",
    "- This is a crucial step in the lifecycle. Almost all the data that we gather is untidy (contains heterogeneous values, missing values, or large errors) and full of inconsistencies. Or we may have unnecessary data that we do not need. This step takes a lot of time in the lifecycle.\n",
    "-----\n",
    "###### 4.  Exploratory data analysis\n",
    "----\n",
    "- This step is where we really get to know our data. During exploratory data analysis we find the relationships and biases in the data. This includes visualizations as well. Visualizations involve producing images that communicate relationships among the represented data.\n",
    "-----\n",
    "###### Inference and prediction#\n",
    "\n",
    "- This is where all of the statistics and machine learning comes into play. We infer from the data and make predictive models that help us in decision making."
   ]
  },
  {
   "cell_type": "code",
   "execution_count": null,
   "id": "c9c96b24",
   "metadata": {},
   "outputs": [],
   "source": []
  },
  {
   "cell_type": "code",
   "execution_count": null,
   "id": "4d85ad40",
   "metadata": {},
   "outputs": [],
   "source": []
  },
  {
   "cell_type": "code",
   "execution_count": null,
   "id": "91c61686",
   "metadata": {},
   "outputs": [],
   "source": []
  },
  {
   "cell_type": "code",
   "execution_count": null,
   "id": "6b993876",
   "metadata": {},
   "outputs": [],
   "source": []
  }
 ],
 "metadata": {
  "kernelspec": {
   "display_name": "Python 3 (ipykernel)",
   "language": "python",
   "name": "python3"
  },
  "language_info": {
   "codemirror_mode": {
    "name": "ipython",
    "version": 3
   },
   "file_extension": ".py",
   "mimetype": "text/x-python",
   "name": "python",
   "nbconvert_exporter": "python",
   "pygments_lexer": "ipython3",
   "version": "3.9.7"
  }
 },
 "nbformat": 4,
 "nbformat_minor": 5
}
