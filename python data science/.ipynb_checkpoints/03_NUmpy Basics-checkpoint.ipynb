{
 "cells": [
  {
   "cell_type": "markdown",
   "id": "65e907f8",
   "metadata": {},
   "source": [
    "#### Creating arrays \n"
   ]
  },
  {
   "cell_type": "code",
   "execution_count": 1,
   "id": "4e0984a8",
   "metadata": {},
   "outputs": [
    {
     "data": {
      "text/plain": [
       "array([1, 2, 3, 4])"
      ]
     },
     "execution_count": 1,
     "metadata": {},
     "output_type": "execute_result"
    }
   ],
   "source": [
    "import numpy as np \n",
    "\n",
    "np.array([1,2,3,4])"
   ]
  },
  {
   "cell_type": "code",
   "execution_count": 2,
   "id": "ca2ba52c",
   "metadata": {},
   "outputs": [
    {
     "name": "stdout",
     "output_type": "stream",
     "text": [
      "[1 2 3 4]\n",
      "<class 'numpy.ndarray'>\n"
     ]
    }
   ],
   "source": [
    "# Import the numpy package\n",
    "import numpy as np\n",
    "\n",
    "# Create a 1d integer array from a list\n",
    "arr1 = np.array([1, 2, 3, 4])\n",
    "\n",
    "# Print the array and its type\n",
    "print(arr1)\n",
    "print(type(arr1))"
   ]
  },
  {
   "cell_type": "code",
   "execution_count": 3,
   "id": "cbb03380",
   "metadata": {},
   "outputs": [
    {
     "name": "stdout",
     "output_type": "stream",
     "text": [
      "<class 'numpy.ndarray'>\n",
      "[1. 2. 3. 4.]\n"
     ]
    }
   ],
   "source": [
    "# Create a 1d float array\n",
    "arr2 = np.array([1, 2, 3, 4], dtype='float32')\n",
    "\n",
    "# Print the array and its type\n",
    "print(type(arr2))\n",
    "print(arr2)"
   ]
  },
  {
   "cell_type": "code",
   "execution_count": 4,
   "id": "f30f400c",
   "metadata": {},
   "outputs": [
    {
     "name": "stdout",
     "output_type": "stream",
     "text": [
      "[[0 1 2]\n",
      " [3 4 5]\n",
      " [6 7 8]]\n"
     ]
    }
   ],
   "source": [
    "# Create a 2d array from a list of lists\n",
    "lists = [[0,1,2], [3,4,5], [6,7,8]]\n",
    "arr2d = np.array(lists)\n",
    "\n",
    "print(arr2d)"
   ]
  },
  {
   "cell_type": "code",
   "execution_count": 6,
   "id": "674af209",
   "metadata": {},
   "outputs": [
    {
     "name": "stdout",
     "output_type": "stream",
     "text": [
      "[1 2 3 4]\n",
      "[2 4 6 8]\n",
      "[3 4 5 6]\n",
      "[ 1  4  9 16]\n"
     ]
    }
   ],
   "source": [
    "arr1 = np.array([1, 2, 3, 4])\n",
    "print(arr1)\n",
    "\n",
    "# Vector (element-wise) operations\n",
    "print(arr1 * 2)\n",
    "print(arr1 + 2)\n",
    "print(arr1 * arr1)"
   ]
  },
  {
   "cell_type": "markdown",
   "id": "ba4b398b",
   "metadata": {},
   "source": [
    "- Some other key differences between Python built-in lists and NumPy arrays are:\n",
    "\n",
    "- Array size cannot be changed after creation, you will have to create a new array or overwrite the existing one to change size.\n",
    "- Unlike lists, all items in the array must be of the same dtype.\n",
    "- An equivalent NumPy array occupies much less space than a Python list of lists."
   ]
  },
  {
   "cell_type": "markdown",
   "id": "caeb454a",
   "metadata": {},
   "source": [
    "## Arrays from scratch \n",
    "---="
   ]
  },
  {
   "cell_type": "code",
   "execution_count": 9,
   "id": "f1979779",
   "metadata": {},
   "outputs": [
    {
     "data": {
      "text/plain": [
       "array([[1., 1., 1.],\n",
       "       [1., 1., 1.],\n",
       "       [1., 1., 1.]])"
      ]
     },
     "execution_count": 9,
     "metadata": {},
     "output_type": "execute_result"
    }
   ],
   "source": [
    "\n",
    "# Create a 3x3 floating-point array filled with 1s\n",
    "np.ones((3, 3), dtype=float)"
   ]
  },
  {
   "cell_type": "code",
   "execution_count": 8,
   "id": "f0e9ae7f",
   "metadata": {},
   "outputs": [
    {
     "data": {
      "text/plain": [
       "array([0, 0, 0, 0, 0, 0, 0, 0, 0, 0, 0, 0, 0, 0, 0, 0, 0, 0, 0, 0, 0, 0,\n",
       "       0, 0, 0, 0, 0, 0, 0, 0, 0, 0, 0, 0, 0, 0, 0, 0, 0, 0, 0, 0, 0, 0,\n",
       "       0, 0, 0, 0, 0, 0, 0, 0, 0, 0, 0, 0, 0, 0, 0, 0, 0, 0, 0, 0, 0, 0,\n",
       "       0, 0, 0, 0, 0, 0, 0, 0, 0, 0, 0, 0, 0, 0, 0, 0, 0, 0, 0, 0, 0, 0,\n",
       "       0, 0, 0, 0, 0, 0, 0, 0, 0, 0, 0, 0])"
      ]
     },
     "execution_count": 8,
     "metadata": {},
     "output_type": "execute_result"
    }
   ],
   "source": [
    "# Create an integer array of length 100 filled with zeros\n",
    "np.zeros(100, dtype=int)"
   ]
  },
  {
   "cell_type": "code",
   "execution_count": 10,
   "id": "14352e17",
   "metadata": {},
   "outputs": [
    {
     "data": {
      "text/plain": [
       "array([ 0,  3,  6,  9, 12, 15, 18])"
      ]
     },
     "execution_count": 10,
     "metadata": {},
     "output_type": "execute_result"
    }
   ],
   "source": [
    "\n",
    "# Create an array filled with a linear sequence\n",
    "# Starting at 0, ending at 20, stepping by 3\n",
    "# (this is similar to the built-in range() function)\n",
    "np.arange(0, 20, 3)"
   ]
  },
  {
   "cell_type": "code",
   "execution_count": 11,
   "id": "7706c4ac",
   "metadata": {},
   "outputs": [
    {
     "data": {
      "text/plain": [
       "array([0.        , 0.01010101, 0.02020202, 0.03030303, 0.04040404,\n",
       "       0.05050505, 0.06060606, 0.07070707, 0.08080808, 0.09090909,\n",
       "       0.1010101 , 0.11111111, 0.12121212, 0.13131313, 0.14141414,\n",
       "       0.15151515, 0.16161616, 0.17171717, 0.18181818, 0.19191919,\n",
       "       0.2020202 , 0.21212121, 0.22222222, 0.23232323, 0.24242424,\n",
       "       0.25252525, 0.26262626, 0.27272727, 0.28282828, 0.29292929,\n",
       "       0.3030303 , 0.31313131, 0.32323232, 0.33333333, 0.34343434,\n",
       "       0.35353535, 0.36363636, 0.37373737, 0.38383838, 0.39393939,\n",
       "       0.4040404 , 0.41414141, 0.42424242, 0.43434343, 0.44444444,\n",
       "       0.45454545, 0.46464646, 0.47474747, 0.48484848, 0.49494949,\n",
       "       0.50505051, 0.51515152, 0.52525253, 0.53535354, 0.54545455,\n",
       "       0.55555556, 0.56565657, 0.57575758, 0.58585859, 0.5959596 ,\n",
       "       0.60606061, 0.61616162, 0.62626263, 0.63636364, 0.64646465,\n",
       "       0.65656566, 0.66666667, 0.67676768, 0.68686869, 0.6969697 ,\n",
       "       0.70707071, 0.71717172, 0.72727273, 0.73737374, 0.74747475,\n",
       "       0.75757576, 0.76767677, 0.77777778, 0.78787879, 0.7979798 ,\n",
       "       0.80808081, 0.81818182, 0.82828283, 0.83838384, 0.84848485,\n",
       "       0.85858586, 0.86868687, 0.87878788, 0.88888889, 0.8989899 ,\n",
       "       0.90909091, 0.91919192, 0.92929293, 0.93939394, 0.94949495,\n",
       "       0.95959596, 0.96969697, 0.97979798, 0.98989899, 1.        ])"
      ]
     },
     "execution_count": 11,
     "metadata": {},
     "output_type": "execute_result"
    }
   ],
   "source": [
    "\n",
    "# Create an array of hundred values evenly spaced between 0 and 1\n",
    "np.linspace(0, 1, 100)\n"
   ]
  },
  {
   "cell_type": "code",
   "execution_count": 12,
   "id": "b2164d4b",
   "metadata": {},
   "outputs": [
    {
     "data": {
      "text/plain": [
       "array([[0.11646628, 0.92520379, 0.4334946 ],\n",
       "       [0.16100953, 0.94533796, 0.56795995],\n",
       "       [0.39998611, 0.33135857, 0.88590981]])"
      ]
     },
     "execution_count": 12,
     "metadata": {},
     "output_type": "execute_result"
    }
   ],
   "source": [
    "# Create a 3x3 array of uniformly distributed random values between 0 and 1\n",
    "np.random.random((3, 3))\n"
   ]
  },
  {
   "cell_type": "code",
   "execution_count": 13,
   "id": "371dc68e",
   "metadata": {},
   "outputs": [
    {
     "data": {
      "text/plain": [
       "array([[0, 9, 9],\n",
       "       [6, 9, 7],\n",
       "       [1, 7, 2]])"
      ]
     },
     "execution_count": 13,
     "metadata": {},
     "output_type": "execute_result"
    }
   ],
   "source": [
    "\n",
    "# Create a 3x3 array of random integers in the interval [0, 10)\n",
    "np.random.randint(0, 10, (3, 3))\n"
   ]
  },
  {
   "cell_type": "code",
   "execution_count": 14,
   "id": "e5ae66f3",
   "metadata": {},
   "outputs": [
    {
     "data": {
      "text/plain": [
       "array([[-0.04076817,  0.99160306, -1.50297989],\n",
       "       [ 0.73233918, -0.69904097,  0.27490603],\n",
       "       [ 0.26098443, -0.0080079 ,  1.42479905]])"
      ]
     },
     "execution_count": 14,
     "metadata": {},
     "output_type": "execute_result"
    }
   ],
   "source": [
    "\n",
    "# Create a 3x3 array of normally distributed random values\n",
    "# with mean 0 and standard deviation 1\n",
    "np.random.normal(0, 1, (3, 3))"
   ]
  },
  {
   "cell_type": "code",
   "execution_count": 15,
   "id": "3051e284",
   "metadata": {},
   "outputs": [
    {
     "data": {
      "text/plain": [
       "array([1, 9, 9, 3, 6, 6])"
      ]
     },
     "execution_count": 15,
     "metadata": {},
     "output_type": "execute_result"
    }
   ],
   "source": [
    "\n",
    "np.random.randint(10, size=6)  # One-dimensional array of random integers"
   ]
  },
  {
   "cell_type": "code",
   "execution_count": 16,
   "id": "3fd95f35",
   "metadata": {},
   "outputs": [
    {
     "data": {
      "text/plain": [
       "array([[2, 9, 3],\n",
       "       [0, 1, 2],\n",
       "       [8, 2, 4]])"
      ]
     },
     "execution_count": 16,
     "metadata": {},
     "output_type": "execute_result"
    }
   ],
   "source": [
    "np.random.randint(10, size=(3, 3))  # Two-dimensional array of random integers"
   ]
  },
  {
   "cell_type": "code",
   "execution_count": 17,
   "id": "f1659d01",
   "metadata": {},
   "outputs": [
    {
     "data": {
      "text/plain": [
       "array([[[9, 3, 6],\n",
       "        [8, 5, 1],\n",
       "        [6, 8, 0]],\n",
       "\n",
       "       [[4, 6, 4],\n",
       "        [5, 9, 5],\n",
       "        [6, 7, 5]],\n",
       "\n",
       "       [[0, 5, 9],\n",
       "        [8, 6, 7],\n",
       "        [8, 0, 8]]])"
      ]
     },
     "execution_count": 17,
     "metadata": {},
     "output_type": "execute_result"
    }
   ],
   "source": [
    "np.random.randint(10, size=(3, 3, 3))  # Three-dimensional array of random integers"
   ]
  },
  {
   "cell_type": "markdown",
   "id": "577cadb7",
   "metadata": {},
   "source": [
    "### Array Attributes \n",
    "- Each array has the following attributes:\n",
    " \n",
    "- ndim: the number of dimensions\n",
    "- shape: the size of each dimension\n",
    "- size: the total size of the array\n",
    "- dtype: the data type of the array\n",
    "- itemsize: the size (in bytes) of each array element\n",
    "- nbytes: the total size (in bytes) of the array"
   ]
  },
  {
   "cell_type": "code",
   "execution_count": 20,
   "id": "3233cbbe",
   "metadata": {},
   "outputs": [
    {
     "name": "stdout",
     "output_type": "stream",
     "text": [
      "[[2 6 7]\n",
      " [7 3 1]\n",
      " [0 1 7]]\n",
      "ndim:  2\n",
      "shape: (3, 3)\n",
      "x size:  9\n",
      "dtype: int64\n",
      "itemsize: 8 bytes\n",
      "nbytes: 72 bytes\n"
     ]
    }
   ],
   "source": [
    "import numpy as np\n",
    "\n",
    "# Create a 3x3 array of random integers in the interval [0, 10)\n",
    "x = np.random.randint(0, 10, (3, 3))\n",
    "print(x)\n",
    "\n",
    "print(\"ndim: \", x.ndim)\n",
    "print(\"shape:\", x.shape)\n",
    "print(\"x size: \", x.size)\n",
    "print(\"dtype:\", x.dtype)\n",
    "print(\"itemsize:\", x.itemsize, \"bytes\")\n",
    "print(\"nbytes:\", x.nbytes, \"bytes\")"
   ]
  },
  {
   "cell_type": "markdown",
   "id": "6f6dc016",
   "metadata": {},
   "source": [
    "## Numpy Basics- Array indexing and slicing \n",
    "---\n",
    "#####  Array Indexing: Accessing Single Elements\n",
    "- ython’s standard list indexing. In a 1D array, we can access the ith value by specifying the index of the element we need in square brackets."
   ]
  },
  {
   "cell_type": "code",
   "execution_count": 21,
   "id": "8046a2ff",
   "metadata": {},
   "outputs": [
    {
     "name": "stdout",
     "output_type": "stream",
     "text": [
      "The first value of x1 positions: 1\n",
      "The third value of x1 positions: 4\n"
     ]
    }
   ],
   "source": [
    "# Input array\n",
    "x1 = np.array([1, 3, 4, 4, 6, 4])\n",
    "\n",
    "# Assess the first value of x1\n",
    "print(\"The first value of x1 positions:\", end=\" \")\n",
    "print(x1[0])\n",
    "\n",
    "# Assess the third value of x1\n",
    "print(\"The third value of x1 positions:\", end=\" \")\n",
    "print(x1[2])"
   ]
  },
  {
   "cell_type": "code",
   "execution_count": 22,
   "id": "daec561c",
   "metadata": {},
   "outputs": [
    {
     "name": "stdout",
     "output_type": "stream",
     "text": [
      "The last value of x1 positions: 4\n",
      "The second last value of x1 positions: 6\n"
     ]
    }
   ],
   "source": [
    "# Get the last value of x1\n",
    "print(\"The last value of x1 positions:\", end=\" \")\n",
    "print(x1[-1])\n",
    "\n",
    "# Get the second last value of x1\n",
    "print(\"The second last value of x1 positions:\", end=\" \")\n",
    "print(x1[-2])"
   ]
  },
  {
   "cell_type": "markdown",
   "id": "6a79e09d",
   "metadata": {},
   "source": [
    "- we have a multidimensional array, and want to access items based on both column and row, we can pass the row and column indices at the same time using a comma-separated tuple"
   ]
  },
  {
   "cell_type": "code",
   "execution_count": 23,
   "id": "e8761120",
   "metadata": {},
   "outputs": [
    {
     "name": "stdout",
     "output_type": "stream",
     "text": [
      "x2 = [[3 2 5 5]\n",
      " [0 1 5 8]\n",
      " [3 0 5 0]]\n",
      "Value in 3rd row and 4th column of x2:  0\n",
      "3rd row and last value from the 3rd column of x2: 0\n",
      "updated x2 = [[1 2 5 5]\n",
      " [0 1 5 8]\n",
      " [3 0 5 0]]\n"
     ]
    }
   ],
   "source": [
    "# In a multidimensional array, we need to specify row and column index. Given input array x2:\n",
    "x2 = np.array([[3, 2, 5, 5],[0, 1, 5, 8], [3, 0, 5, 0]])\n",
    "print(\"x2 = \", end=\"\")\n",
    "print(x2)\n",
    "\n",
    "\n",
    "print(\"Value in 3rd row and 4th column of x2: \", end=\" \")\n",
    "print(x2[2,3])\n",
    "\n",
    "\n",
    "print(\"3rd row and last value from the 3rd column of x2:\", end=\" \")\n",
    "print(x2[2,-1])\n",
    "#>0\n",
    "\n",
    "# Replace value in 1st row and 1st column of x2 with 1\n",
    "x2[0,0] = 1\n",
    "print(\"updated x2 = \", end=\"\")\n",
    "print(x2)\n"
   ]
  },
  {
   "cell_type": "markdown",
   "id": "370d1114",
   "metadata": {},
   "source": [
    "### array Slicing \n",
    "---\n",
    "- Slicing array is a way to access subarrays, i.e., accessing multiple or a range of elements from an array instead of individual items"
   ]
  },
  {
   "cell_type": "code",
   "execution_count": 24,
   "id": "865c516f",
   "metadata": {},
   "outputs": [
    {
     "name": "stdout",
     "output_type": "stream",
     "text": [
      "x1 = [0 1 2 3 4 5 6 7 8 9]\n",
      "the first 5 elements of x are: [0 1 2 3 4]\n",
      "Elements after index 4: [4 5 6 7 8 9]\n",
      "Elements from 4th to 6th position: [4 5 6]\n",
      "Elements at even places are: [0 2 4 6 8]\n",
      "Elements from 1st position step by 2 are: [1 3 5 7 9]\n"
     ]
    }
   ],
   "source": [
    "x1 = np.arange(10) # Input array\n",
    "print(\"x1 = \", end=\"\")\n",
    "print(x1)\n",
    "\n",
    "# Get the first 5 elements of x\n",
    "print(\"the first 5 elements of x are: \", end=\"\")\n",
    "print(x1[:5])\n",
    "\n",
    "# Elements after index 4\n",
    "print(\"Elements after index 4: \", end=\"\")\n",
    "print(x1[4:])\n",
    "\n",
    "\n",
    "# From 4th to 6th position\n",
    "print(\"Elements from 4th to 6th position: \", end=\"\")\n",
    "print(x1[4:7])\n",
    "\n",
    "# Return elements at even place (every other element)\n",
    "print(\"Elements at even places are: \", end=\"\")\n",
    "print(x1[ : : 2])\n",
    "\n",
    "#return elements from 1st position step by 2 (every other element starting at index 1)\n",
    "print(\"Elements from 1st position step by 2 are: \", end=\"\")\n",
    "print(x1[1::2])\n"
   ]
  },
  {
   "cell_type": "code",
   "execution_count": 25,
   "id": "ada62e2c",
   "metadata": {},
   "outputs": [
    {
     "name": "stdout",
     "output_type": "stream",
     "text": [
      "Reversed array: [9 8 7 6 5 4 3 2 1 0]\n",
      "Array after reversing every other element starting from index 5: [5 3 1]\n"
     ]
    }
   ],
   "source": [
    "#reverse the array\n",
    "print(\"Reversed array: \", end=\"\")\n",
    "print(x1[::-1])\n",
    "\n",
    "# reverse every other element starting from index 5\n",
    "print(\"Array after reversing every other element starting from index 5: \", end=\"\")\n",
    "print(x1[5::-2])"
   ]
  },
  {
   "cell_type": "code",
   "execution_count": 26,
   "id": "10f9aaa3",
   "metadata": {},
   "outputs": [
    {
     "name": "stdout",
     "output_type": "stream",
     "text": [
      "The first two rows and columns are: \n",
      "[[0 1]\n",
      " [3 4]]\n",
      "All rows, every other column: \n",
      "[[0 2]\n",
      " [3 5]\n",
      " [6 8]]\n"
     ]
    }
   ],
   "source": [
    "#Two dimentional array\n",
    "x2 = np.array([[0,1,2], [3,4,5], [6,7,8]])\n",
    "\n",
    "# Extract the first two rows and two columns\n",
    "print(\"The first two rows and columns are: \")\n",
    "print(x2[:2, :2])\n",
    "\n",
    "# all rows, every other column\n",
    "print(\"All rows, every other column: \")\n",
    "print(x2[:3, ::2])\n"
   ]
  },
  {
   "cell_type": "code",
   "execution_count": 27,
   "id": "a31f9dbc",
   "metadata": {},
   "outputs": [
    {
     "name": "stdout",
     "output_type": "stream",
     "text": [
      "The array after reversing the row positions: \n",
      "[[6 7 8]\n",
      " [3 4 5]\n",
      " [0 1 2]]\n",
      "The array after reversing the row and column positions: \n",
      "[[8 7 6]\n",
      " [5 4 3]\n",
      " [2 1 0]]\n"
     ]
    }
   ],
   "source": [
    "# Reverse only the row positions\n",
    "print(\"The array after reversing the row positions: \")\n",
    "print(x2[::-1, ])\n",
    "\n",
    "# Reverse the row and column positions\n",
    "print(\"The array after reversing the row and column positions: \")\n",
    "print(x2[::-1, ::-1])\n"
   ]
  },
  {
   "cell_type": "markdown",
   "id": "193ec845",
   "metadata": {},
   "source": [
    "- Array slices are not copies of the arrays. This means that if we want to do a modification on the array obtained from the slicing operation without changing the original array, we have to use the copy() method:\n",
    "---\n",
    "- Numpy slicing syntax follows that of a python list: __arr[start : stop : step]__. When any of these are unspecified, they default to the values start=0, stop=size of dimension, step=1.\n"
   ]
  },
  {
   "cell_type": "markdown",
   "id": "a8c961d0",
   "metadata": {},
   "source": [
    "### NumPy Basics - Reshaping and Concatenation \n",
    "---\n",
    "#####  Reshaping of Arrays\n",
    "\n",
    "----\n",
    "- Reshaping is a very useful operation and it can easily be done using the reshape() method\n",
    "- "
   ]
  },
  {
   "cell_type": "code",
   "execution_count": 28,
   "id": "438902d1",
   "metadata": {},
   "outputs": [
    {
     "name": "stdout",
     "output_type": "stream",
     "text": [
      "[[1 2 3]\n",
      " [4 5 6]\n",
      " [7 8 9]]\n"
     ]
    }
   ],
   "source": [
    "import numpy as np\n",
    "\n",
    "reshaped = np.arange(1, 10).reshape((3, 3))\n",
    "print(reshaped)\n"
   ]
  },
  {
   "cell_type": "code",
   "execution_count": 29,
   "id": "e7d8333f",
   "metadata": {},
   "outputs": [
    {
     "name": "stdout",
     "output_type": "stream",
     "text": [
      "[1 2 3]\n",
      "[[1 2 3]]\n",
      "[[1]\n",
      " [2]\n",
      " [3]]\n"
     ]
    }
   ],
   "source": [
    "x = np.array([1, 2, 3])\n",
    "print(x)\n",
    "\n",
    "# row vector via reshape\n",
    "x_rv= x.reshape((1, 3))\n",
    "print(x_rv)\n",
    "\n",
    "# column vector via reshape\n",
    "x_cv = x.reshape((3, 1))\n",
    "print(x_cv)"
   ]
  },
  {
   "cell_type": "code",
   "execution_count": 30,
   "id": "2b0b463c",
   "metadata": {},
   "outputs": [
    {
     "name": "stdout",
     "output_type": "stream",
     "text": [
      "The concatenated single dimension array is: [ 1  2  3  3  2  1 11 11 11]\n",
      "The concatenated two-dimension array is:\n",
      "[[1 2 3]\n",
      " [4 5 6]\n",
      " [1 2 3]\n",
      " [4 5 6]]\n"
     ]
    }
   ],
   "source": [
    "# concatenation \n",
    "# We can concatenate two or more arrays at once.\n",
    "x = np.array([1, 2, 3])\n",
    "y = np.array([3, 2, 1])\n",
    "z = [11,11,11]\n",
    "\n",
    "print(\"The concatenated single dimension array is:\", end=\" \")\n",
    "print(np.concatenate([x, y, z]))\n",
    "#> array([ 1,  2,  3,  3,  2,  1, 11, 11, 11])\n",
    "\n",
    "# We can also concatenate 2-dimensional arrays.\n",
    "grid = np.array([[1,2,3] , [4,5,6]])\n",
    "print(\"The concatenated two-dimension array is:\")\n",
    "print(np.concatenate([grid, grid]))\n"
   ]
  },
  {
   "cell_type": "markdown",
   "id": "04cd205b",
   "metadata": {},
   "source": [
    "- In such cases, np.concatenate might not be the best option to use. Instead, you can use np.vstack (vertical stack) or np.hstack(horizontal stack) to finish the task."
   ]
  },
  {
   "cell_type": "code",
   "execution_count": 31,
   "id": "5880a17d",
   "metadata": {},
   "outputs": [
    {
     "name": "stdout",
     "output_type": "stream",
     "text": [
      "Veritcally stacked array: \n",
      "[[ 3  4  5]\n",
      " [ 1  2  3]\n",
      " [ 9 10 11]]\n",
      "Horizontally stacked array:\n",
      "[[ 1  2  3 19]\n",
      " [ 9 10 11 19]]\n"
     ]
    }
   ],
   "source": [
    "x = np.array([3,4,5])\n",
    "grid = np.array([[1,2,3],[9,10,11]])\n",
    "\n",
    "# vertically stack the arrays\n",
    "print(\"Veritcally stacked array: \")\n",
    "print(np.vstack([x,grid]))\n",
    "\n",
    " # horizontally stack the arrays\n",
    "z = np.array([[19],[19]])\n",
    "print(\"Horizontally stacked array:\")\n",
    "print(np.hstack([grid,z]))\n",
    " "
   ]
  },
  {
   "cell_type": "code",
   "execution_count": 32,
   "id": "5f013cd4",
   "metadata": {},
   "outputs": [
    {
     "name": "stdout",
     "output_type": "stream",
     "text": [
      "Veritcally stacked array: \n",
      "[[ 3  4  5]\n",
      " [ 1  2  3]\n",
      " [ 9 10 11]]\n",
      "Horizontally stacked array:\n",
      "[[ 1  2  3 19]\n",
      " [ 9 10 11 19]]\n"
     ]
    }
   ],
   "source": [
    "# Splitting \n",
    "x = np.array([3,4,5])\n",
    "grid = np.array([[1,2,3],[9,10,11]])\n",
    "\n",
    "# vertically stack the arrays\n",
    "print(\"Veritcally stacked array: \")\n",
    "print(np.vstack([x,grid]))\n",
    "\n",
    " # horizontally stack the arrays\n",
    "z = np.array([[19],[19]])\n",
    "print(\"Horizontally stacked array:\")\n",
    "print(np.hstack([grid,z]))\n",
    " "
   ]
  },
  {
   "cell_type": "code",
   "execution_count": 33,
   "id": "c30d8087",
   "metadata": {},
   "outputs": [
    {
     "name": "stdout",
     "output_type": "stream",
     "text": [
      "grid: \n",
      "[[ 0  1  2  3]\n",
      " [ 4  5  6  7]\n",
      " [ 8  9 10 11]\n",
      " [12 13 14 15]] \n",
      "\n",
      "Upper part: \n",
      "[[0 1 2 3]\n",
      " [4 5 6 7]]\n",
      "Lower part: \n",
      "[[ 8  9 10 11]\n",
      " [12 13 14 15]] \n",
      "\n",
      "Left part: \n",
      "[[ 0  1]\n",
      " [ 4  5]\n",
      " [ 8  9]\n",
      " [12 13]]\n",
      "Right part: \n",
      "[[ 2  3]\n",
      " [ 6  7]\n",
      " [10 11]\n",
      " [14 15]]\n"
     ]
    }
   ],
   "source": [
    "import numpy as np\n",
    "\n",
    "grid = np.arange(16).reshape((4, 4))\n",
    "print(\"grid: \")\n",
    "print(grid, \"\\n\")\n",
    "\n",
    "# Split vertically and print upper and lower arrays\n",
    "upper, lower = np.vsplit(grid, [2])\n",
    "print(\"Upper part: \")\n",
    "print(upper)\n",
    "print(\"Lower part: \")\n",
    "print(lower, \"\\n\")\n",
    "\n",
    "# Split horizontally and print left and right arrays\n",
    "left, right = np.hsplit(grid, [2])\n",
    "print(\"Left part: \")\n",
    "print(left)\n",
    "print(\"Right part: \")\n",
    "print(right)"
   ]
  },
  {
   "cell_type": "markdown",
   "id": "3d47ca4c",
   "metadata": {},
   "source": [
    "# Numpy Arithmetic and Statistics - Compuations and Aggregations \n",
    "---\n",
    "#### Mathematical Functions#\n",
    "- The arithmetic operators, as shown in the code widget below, are conveniently wrapped around specific functions built into NumPy; for example, the + operator is a wrapper for the add ufunc.\n",
    "\n"
   ]
  },
  {
   "cell_type": "code",
   "execution_count": 34,
   "id": "9ede0456",
   "metadata": {},
   "outputs": [
    {
     "name": "stdout",
     "output_type": "stream",
     "text": [
      "x = [0 1 2 3 4 5 6 7 8 9]\n",
      "x + 5 = [ 5  6  7  8  9 10 11 12 13 14]\n",
      "x - 5 = [-5 -4 -3 -2 -1  0  1  2  3  4]\n",
      "x * 5 = [ 0  5 10 15 20 25 30 35 40 45]\n",
      "x / 5 = [0.  0.2 0.4 0.6 0.8 1.  1.2 1.4 1.6 1.8]\n",
      "x ** 2 =  [ 0  1  4  9 16 25 36 49 64 81]\n",
      "x % 2  =  [0 1 0 1 0 1 0 1 0 1]\n",
      "[ 5  6  7  8  9 10 11 12 13 14]\n",
      "[-5 -4 -3 -2 -1  0  1  2  3  4]\n",
      "[ 0  5 10 15 20 25 30 35 40 45]\n",
      "[0.  0.2 0.4 0.6 0.8 1.  1.2 1.4 1.6 1.8]\n",
      "[ 0  1  4  9 16 25 36 49 64 81]\n",
      "[0 1 0 1 0 1 0 1 0 1]\n"
     ]
    }
   ],
   "source": [
    "import numpy as np\n",
    "\n",
    "x = np.arange(10)\n",
    "\n",
    "# Native arithmentic operators\n",
    "print(\"x =\", x)\n",
    "print(\"x + 5 =\", x + 5)\n",
    "print(\"x - 5 =\", x - 5)\n",
    "print(\"x * 5 =\", x * 5)\n",
    "print(\"x / 5 =\", x / 5)\n",
    "print(\"x ** 2 = \", x ** 2)\n",
    "print(\"x % 2  = \", x % 2)\n",
    "\n",
    "# OR we can use explicit functions, ufuncs, e.g. \"add\" instead of \"+\"\n",
    "print(np.add(x, 5))\n",
    "print(np.subtract(x, 5))\n",
    "print(np.multiply(x, 5))\n",
    "print(np.divide(x, 5))\n",
    "print(np.power(x, 2))\n",
    "print(np.mod(x, 2))"
   ]
  },
  {
   "cell_type": "markdown",
   "id": "5bdc0ac0",
   "metadata": {},
   "source": [
    "- ome of the most useful functions for data scientists are the trigonometric functions. "
   ]
  },
  {
   "cell_type": "code",
   "execution_count": 35,
   "id": "e6e704cc",
   "metadata": {},
   "outputs": [
    {
     "name": "stdout",
     "output_type": "stream",
     "text": [
      "theta      =  [0.         1.04719755 2.0943951  3.14159265]\n",
      "sin(theta) =  [0.00000000e+00 8.66025404e-01 8.66025404e-01 1.22464680e-16]\n",
      "cos(theta) =  [ 1.   0.5 -0.5 -1. ]\n",
      "tan(theta) =  [ 0.00000000e+00  1.73205081e+00 -1.73205081e+00 -1.22464680e-16]\n"
     ]
    }
   ],
   "source": [
    "theta = np.linspace(0, np.pi, 4)\n",
    "print(\"theta      = \", theta)\n",
    "print(\"sin(theta) = \", np.sin(theta))\n",
    "print(\"cos(theta) = \", np.cos(theta))\n",
    "print(\"tan(theta) = \", np.tan(theta))"
   ]
  },
  {
   "cell_type": "markdown",
   "id": "d5af23fd",
   "metadata": {},
   "source": [
    "- Similarly, we can also obtain logarithms and exponentials."
   ]
  },
  {
   "cell_type": "code",
   "execution_count": 36,
   "id": "4014303d",
   "metadata": {},
   "outputs": [
    {
     "name": "stdout",
     "output_type": "stream",
     "text": [
      "x     = [1, 2, 3]\n",
      "e^x   = [ 2.71828183  7.3890561  20.08553692]\n",
      "2^x   = [2. 4. 8.]\n",
      "3^x   = [ 3  9 27]\n",
      "ln(x)    = [0.         0.69314718 1.09861229]\n",
      "log2(x)  = [0.        1.        1.5849625]\n",
      "log10(x) = [0.         0.30103    0.47712125]\n"
     ]
    }
   ],
   "source": [
    "x = [1, 2, 3]\n",
    "print(\"x     =\", x)\n",
    "print(\"e^x   =\", np.exp(x))\n",
    "print(\"2^x   =\", np.exp2(x))\n",
    "print(\"3^x   =\", np.power(3, x))\n",
    "\n",
    "print(\"ln(x)    =\", np.log(x))\n",
    "print(\"log2(x)  =\", np.log2(x))\n",
    "print(\"log10(x) =\", np.log10(x))"
   ]
  },
  {
   "cell_type": "markdown",
   "id": "7cf1c473",
   "metadata": {},
   "source": [
    "## Universal Function Methods#\n",
    "---\n",
    "- ufuncs provide some methods that take two input parameters and return one output parameter. reduce and accumulate are two of the most important ones, so let’s look into those.\n",
    "---\n",
    "#### Calling the reduce method\n",
    "\n",
    "- Say we want to apply some operation to reduce an array to a single value. We can use the reduce() method for this. This method repeatedly applies the given operation to the elements of an array until only a single result remains. For example, calling reduce on the add functions returns the sum of all elements in the array:\n"
   ]
  },
  {
   "cell_type": "code",
   "execution_count": 37,
   "id": "f1ed9dee",
   "metadata": {},
   "outputs": [
    {
     "name": "stdout",
     "output_type": "stream",
     "text": [
      "[1 2 3 4 5]\n",
      "[ 1  3  6 10 15]\n"
     ]
    }
   ],
   "source": [
    "x = np.arange(1, 6)\n",
    "sum_acc = np.add.accumulate(x)\n",
    "\n",
    "print(x)\n",
    "print(sum_acc)"
   ]
  },
  {
   "cell_type": "markdown",
   "id": "aef31fa6",
   "metadata": {},
   "source": [
    "#### b. Calling the accumulate method\n",
    "\n",
    "- If we need to store all the intermediate results of the computation, we can use accumulate() instead:"
   ]
  },
  {
   "cell_type": "code",
   "execution_count": 38,
   "id": "b3a5ba86",
   "metadata": {},
   "outputs": [
    {
     "name": "stdout",
     "output_type": "stream",
     "text": [
      "[1 2 3 4 5]\n",
      "[ 1  3  6 10 15]\n"
     ]
    }
   ],
   "source": [
    "x = np.arange(1, 6)\n",
    "sum_acc = np.add.accumulate(x)\n",
    "\n",
    "print(x)\n",
    "print(sum_acc)"
   ]
  },
  {
   "cell_type": "markdown",
   "id": "69182d95",
   "metadata": {},
   "source": [
    "### Aggregations\n",
    "---\n",
    "-  We will look into the theoretical aspects of these statistical concepts in the “Statistics for Data Science” section, so don’t worry if you don’t remember what standard deviation is, for instance!\n",
    "\n",
    "---\n",
    "- "
   ]
  },
  {
   "cell_type": "code",
   "execution_count": 39,
   "id": "7d16923d",
   "metadata": {},
   "outputs": [
    {
     "name": "stdout",
     "output_type": "stream",
     "text": [
      "Sum of values is: 48.554508369444356\n",
      "Mean value is:  0.48554508369444355\n",
      "Sum of values is: 48.554508369444356\n",
      "Mean value is:  0.48554508369444355\n",
      "Max value is:  0.9799377668895904\n",
      "Min value is:  0.004354053532383384\n"
     ]
    }
   ],
   "source": [
    "import numpy as np\n",
    "\n",
    "x = np.random.random(100)\n",
    "\n",
    "# Sum of all the values\n",
    "print(\"Sum of values is:\", np.sum(x))\n",
    "# Mean value\n",
    "print(\"Mean value is: \", np.mean(x))\n",
    "\n",
    "#For min, max, sum, and several other NumPy aggregates, \n",
    "#a shorter syntax is to use methods of the array object itself,\n",
    "# i.e. instead of np.sum(x), we can use x.sum()\n",
    "print(\"Sum of values is:\", x.sum())\n",
    "print(\"Mean value is: \", x.mean())\n",
    "print(\"Max value is: \", x.max())\n",
    "print(\"Min value is: \", x.min())"
   ]
  },
  {
   "cell_type": "markdown",
   "id": "a7b7fc26",
   "metadata": {},
   "source": [
    "- we can perform aggregate operations on multi-dimensional arrays as well. Also, if we want to compute the minimum row wise or column wise, we can use the np.amin version instead"
   ]
  },
  {
   "cell_type": "markdown",
   "id": "b4b26b61",
   "metadata": {},
   "source": [
    "### NumPy Arithmetic and Statistics - Comparison and Boolean Masks\n",
    "---\n",
    "######  Comparisons and Boolean Masks\n",
    "----\n"
   ]
  },
  {
   "cell_type": "code",
   "execution_count": 40,
   "id": "59ca6344",
   "metadata": {},
   "outputs": [
    {
     "name": "stdout",
     "output_type": "stream",
     "text": [
      "[ True False False False False]\n",
      "[False False False  True  True]\n"
     ]
    }
   ],
   "source": [
    "import numpy as np\n",
    "\n",
    "x = np.array([1, 2, 3, 4, 5])\n",
    "\n",
    "print(x < 2) # less than\n",
    "print(x >= 4) # greater than or equal"
   ]
  },
  {
   "cell_type": "code",
   "execution_count": 41,
   "id": "fbe70a41",
   "metadata": {},
   "outputs": [
    {
     "name": "stdout",
     "output_type": "stream",
     "text": [
      "Elements for which multiplying by two is the same as the square of the value: \n",
      "[False  True False False False]\n"
     ]
    }
   ],
   "source": [
    "x = np.array([1, 2, 3, 4, 5])\n",
    "\n",
    "\n",
    "print(\"Elements for which multiplying by two is the same as the square of the value: \")\n",
    "print((2 * x) == (x ** 2))\n"
   ]
  },
  {
   "cell_type": "code",
   "execution_count": 42,
   "id": "a74b40a4",
   "metadata": {},
   "outputs": [
    {
     "name": "stdout",
     "output_type": "stream",
     "text": [
      "[0 1 2 3 4 5 6 7 8 9]\n",
      "6\n",
      "True\n",
      "True\n"
     ]
    }
   ],
   "source": [
    "import numpy as np\n",
    "\n",
    "x = np.arange(10)\n",
    "print(x)\n",
    "\n",
    "# How many values less than 6?\n",
    "print(np.count_nonzero(x < 6))\n",
    "\n",
    "# Are there any values greater than 8?\n",
    "print(np.any(x > 8))\n",
    "\n",
    "# Are all values less than 10?\n",
    "print(np.all(x < 10))"
   ]
  },
  {
   "cell_type": "code",
   "execution_count": 43,
   "id": "e2f2ffae",
   "metadata": {},
   "outputs": [
    {
     "name": "stdout",
     "output_type": "stream",
     "text": [
      "[[8 9 4]\n",
      " [4 8 1]\n",
      " [7 0 2]]\n",
      "[[False False  True]\n",
      " [ True False  True]\n",
      " [False  True  True]]\n",
      "[4 4 1 0 2]\n"
     ]
    }
   ],
   "source": [
    "# Boolean Masks\n",
    "\n",
    "import numpy as np \n",
    "\n",
    "# Random integers between [0, 10) of shape 3x3\n",
    "x = np.random.randint(0, 10, (3, 3))\n",
    "print(x)\n",
    "\n",
    "# Boolean array\n",
    "print(x < 6)\n",
    "\n",
    "# Boolean mask\n",
    "print(x[x < 6])"
   ]
  },
  {
   "cell_type": "markdown",
   "id": "d732e817",
   "metadata": {},
   "source": [
    "- Updating a multidimensional array with a new record is straightforward in numpy as long as their shapes match."
   ]
  },
  {
   "cell_type": "code",
   "execution_count": 44,
   "id": "8fa52bfe",
   "metadata": {},
   "outputs": [
    {
     "name": "stdout",
     "output_type": "stream",
     "text": [
      "(45, 2)\n",
      "[[189  57]\n",
      " [170  61]\n",
      " [189  57]]\n"
     ]
    }
   ],
   "source": [
    "import numpy as np\n",
    "\n",
    "heights = [189, 170, 189, 163, 183, 171, 185, 168, 173, 183, 173, 173, 175, 178, 183, 193, 178, 173, 174, 183, 183, 180, 168, 180, 170, 178, 182, 180, 183, 178, 182, 188, 175, 179, 183, 193, 182, 183, 177, 185, 188, 188, 182, 185, 191]\n",
    "ages = [57, 61, 57, 57, 58, 57, 61, 54, 68, 51, 49, 64, 50, 48, 65, 52, 56, 46, 54, 49, 51, 47, 55, 55, 54, 42, 51, 56, 55, 51, 54, 51, 60, 62, 43, 55, 56, 61, 52, 69, 64, 46, 54, 47, 70]\n",
    "\n",
    "heights_arr = np.array(heights)\n",
    "ages_arr = np.array(ages)\n",
    "\n",
    "heights_arr = heights_arr.reshape((45,1))\n",
    "ages_arr = ages_arr.reshape((45,1))\n",
    "\n",
    "height_age_arr = np.hstack((heights_arr, ages_arr))\n",
    "print(height_age_arr.shape)\n",
    "print(height_age_arr[:3,])"
   ]
  },
  {
   "cell_type": "code",
   "execution_count": 45,
   "id": "f71a9bcd",
   "metadata": {},
   "outputs": [
    {
     "name": "stdout",
     "output_type": "stream",
     "text": [
      "(2, 45)\n",
      "[[189 170 189]\n",
      " [ 57  61  57]]\n"
     ]
    }
   ],
   "source": [
    "import numpy as np\n",
    "\n",
    "heights = [189, 170, 189, 163, 183, 171, 185, 168, 173, 183, 173, 173, 175, 178, 183, 193, 178, 173, 174, 183, 183, 180, 168, 180, 170, 178, 182, 180, 183, 178, 182, 188, 175, 179, 183, 193, 182, 183, 177, 185, 188, 188, 182, 185, 191]\n",
    "ages = [57, 61, 57, 57, 58, 57, 61, 54, 68, 51, 49, 64, 50, 48, 65, 52, 56, 46, 54, 49, 51, 47, 55, 55, 54, 42, 51, 56, 55, 51, 54, 51, 60, 62, 43, 55, 56, 61, 52, 69, 64, 46, 54, 47, 70]\n",
    "\n",
    "heights_arr = np.array(heights)\n",
    "ages_arr = np.array(ages)\n",
    "\n",
    "heights_arr = heights_arr.reshape((1,45))\n",
    "ages_arr = ages_arr.reshape((1,45))\n",
    "\n",
    "height_age_arr = np.vstack((heights_arr, ages_arr))\n",
    "print(height_age_arr.shape)\n",
    "print(height_age_arr[:,:3])"
   ]
  },
  {
   "cell_type": "markdown",
   "id": "ee827305",
   "metadata": {},
   "source": [
    "- To combine more than two arrays horizontally, simply add the additional arrays into the tuple."
   ]
  },
  {
   "cell_type": "code",
   "execution_count": null,
   "id": "016c1939",
   "metadata": {},
   "outputs": [],
   "source": []
  },
  {
   "cell_type": "code",
   "execution_count": null,
   "id": "57379d1e",
   "metadata": {},
   "outputs": [],
   "source": []
  },
  {
   "cell_type": "code",
   "execution_count": null,
   "id": "06a49e4b",
   "metadata": {},
   "outputs": [],
   "source": []
  },
  {
   "cell_type": "code",
   "execution_count": null,
   "id": "4da581f9",
   "metadata": {},
   "outputs": [],
   "source": []
  },
  {
   "cell_type": "code",
   "execution_count": null,
   "id": "40b94176",
   "metadata": {},
   "outputs": [],
   "source": []
  },
  {
   "cell_type": "code",
   "execution_count": null,
   "id": "0b5ec6cb",
   "metadata": {},
   "outputs": [],
   "source": []
  }
 ],
 "metadata": {
  "kernelspec": {
   "display_name": "Python 3 (ipykernel)",
   "language": "python",
   "name": "python3"
  },
  "language_info": {
   "codemirror_mode": {
    "name": "ipython",
    "version": 3
   },
   "file_extension": ".py",
   "mimetype": "text/x-python",
   "name": "python",
   "nbconvert_exporter": "python",
   "pygments_lexer": "ipython3",
   "version": "3.9.7"
  }
 },
 "nbformat": 4,
 "nbformat_minor": 5
}
