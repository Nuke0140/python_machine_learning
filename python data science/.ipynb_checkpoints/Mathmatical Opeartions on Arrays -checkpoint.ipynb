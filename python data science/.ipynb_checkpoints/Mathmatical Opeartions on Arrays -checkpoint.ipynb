{
 "cells": [
  {
   "cell_type": "markdown",
   "id": "67f3f5aa",
   "metadata": {},
   "source": [
    "- Other mathematical operations for addition, subtraction, division and power (+, -, /, **) work the same way on arrays."
   ]
  },
  {
   "cell_type": "code",
   "execution_count": 1,
   "id": "9a597cc3",
   "metadata": {},
   "outputs": [
    {
     "name": "stdout",
     "output_type": "stream",
     "text": [
      "[6.2007876 5.577428  6.2007876 5.3477692 6.0039372 5.6102364 6.069554\n",
      " 5.5118112 5.6758532 6.0039372 5.6758532 5.6758532 5.74147   5.8398952\n",
      " 6.0039372 6.3320212 5.8398952 5.6758532 5.7086616 6.0039372 6.0039372\n",
      " 5.905512  5.5118112 5.905512  5.577428  5.8398952 5.9711288 5.905512\n",
      " 6.0039372 5.8398952 5.9711288 6.1679792 5.74147   5.8727036 6.0039372\n",
      " 6.3320212 5.9711288 6.0039372 5.8070868 6.069554  6.1679792 6.1679792\n",
      " 5.9711288 6.069554  6.2664044]\n"
     ]
    }
   ],
   "source": [
    "import numpy as np\n",
    "\n",
    "heights_arr = np.array([189, 170, 189, 163, 183, 171, 185, 168, 173, 183, 173, 173, 175, 178, 183, 193, 178, 173, 174, 183, 183, 180, 168, 180, 170, 178, 182, 180, 183, 178, 182, 188, 175, 179, 183, 193, 182, 183, 177, 185, 188, 188, 182, 185, 191])\n",
    "ages_arr = np.array([57, 61, 57, 57, 58, 57, 61, 54, 68, 51, 49, 64, 50, 48, 65, 52, 56, 46, 54, 49, 51, 47, 55, 55, 54, 42, 51, 56, 55, 51, 54, 51, 60, 62, 43, 55, 56, 61, 52, 69, 64, 46, 54, 47, 70]).reshape((-1,1))\n",
    "\n",
    "heights_arr = heights_arr.reshape((45,1))\n",
    "height_age_arr = np.hstack((heights_arr, ages_arr))\n",
    "\n",
    "print(height_age_arr[:,0]*0.0328084)"
   ]
  },
  {
   "cell_type": "code",
   "execution_count": 2,
   "id": "80e514f2",
   "metadata": {},
   "outputs": [
    {
     "name": "stdout",
     "output_type": "stream",
     "text": [
      "[8100 2475]\n"
     ]
    }
   ],
   "source": [
    "import numpy as np\n",
    "\n",
    "heights_arr = np.array([189, 170, 189, 163, 183, 171, 185, 168, 173, 183, 173, 173, 175, 178, 183, 193, 178, 173, 174, 183, 183, 180, 168, 180, 170, 178, 182, 180, 183, 178, 182, 188, 175, 179, 183, 193, 182, 183, 177, 185, 188, 188, 182, 185, 191])\n",
    "ages_arr = np.array([57, 61, 57, 57, 58, 57, 61, 54, 68, 51, 49, 64, 50, 48, 65, 52, 56, 46, 54, 49, 51, 47, 55, 55, 54, 42, 51, 56, 55, 51, 54, 51, 60, 62, 43, 55, 56, 61, 52, 69, 64, 46, 54, 47, 70]).reshape((-1,1))\n",
    "\n",
    "heights_arr = heights_arr.reshape((45,1))\n",
    "height_age_arr = np.hstack((heights_arr, ages_arr))\n",
    "\n",
    "print(height_age_arr.sum(axis=0))"
   ]
  },
  {
   "cell_type": "markdown",
   "id": "f19b67c3",
   "metadata": {},
   "source": [
    "- Other operations, such as .min(), .max(), .mean(), work in a similar way to .sum().\n",
    "- To find out how many rows satisfy the condition, use .sum() on the resultant 1d boolean array, e.g., (height_age_arr[:, 1] == 51).sum(), to see that there were exactly five presidents who started the presidency at age 51. True is treated as 1 and False as 0 in the sum."
   ]
  },
  {
   "cell_type": "code",
   "execution_count": 3,
   "id": "66c16cb6",
   "metadata": {},
   "outputs": [
    {
     "name": "stdout",
     "output_type": "stream",
     "text": [
      "(23, 2)\n"
     ]
    }
   ],
   "source": [
    "import numpy as np\n",
    "\n",
    "heights_arr = np.array([189, 170, 189, 163, 183, 171, 185, 168, 173, 183, 173, 173, 175, 178, 183, 193, 178, 173, 174, 183, 183, 180, 168, 180, 170, 178, 182, 180, 183, 178, 182, 188, 175, 179, 183, 193, 182, 183, 177, 185, 188, 188, 182, 185, 191])\n",
    "ages_arr = np.array([57, 61, 57, 57, 58, 57, 61, 54, 68, 51, 49, 64, 50, 48, 65, 52, 56, 46, 54, 49, 51, 47, 55, 55, 54, 42, 51, 56, 55, 51, 54, 51, 60, 62, 43, 55, 56, 61, 52, 69, 64, 46, 54, 47, 70]).reshape((-1,1))\n",
    "\n",
    "heights_arr = heights_arr.reshape((45,1))\n",
    "height_age_arr = np.hstack((heights_arr, ages_arr))\n",
    "\n",
    "mask = height_age_arr[:, 0] >= 182\n",
    "tall_presidents = height_age_arr[mask, ]\n",
    "tall_presidents.shape\n",
    "\n",
    "print(tall_presidents.shape)"
   ]
  },
  {
   "cell_type": "markdown",
   "id": "ef6278cc",
   "metadata": {},
   "source": [
    "- Masking is used to extract, modify, count, or otherwise manipulate values in an array based on some criterion. In our example, the criteria was height of 182cm or taller."
   ]
  },
  {
   "cell_type": "code",
   "execution_count": 4,
   "id": "14457998",
   "metadata": {},
   "outputs": [
    {
     "name": "stdout",
     "output_type": "stream",
     "text": [
      "[[183  49]\n",
      " [183  43]\n",
      " [188  46]\n",
      " [185  47]]\n"
     ]
    }
   ],
   "source": [
    "import numpy as np\n",
    "\n",
    "heights_arr = np.array([189, 170, 189, 163, 183, 171, 185, 168, 173, 183, 173, 173, 175, 178, 183, 193, 178, 173, 174, 183, 183, 180, 168, 180, 170, 178, 182, 180, 183, 178, 182, 188, 175, 179, 183, 193, 182, 183, 177, 185, 188, 188, 182, 185, 191])\n",
    "ages_arr = np.array([57, 61, 57, 57, 58, 57, 61, 54, 68, 51, 49, 64, 50, 48, 65, 52, 56, 46, 54, 49, 51, 47, 55, 55, 54, 42, 51, 56, 55, 51, 54, 51, 60, 62, 43, 55, 56, 61, 52, 69, 64, 46, 54, 47, 70]).reshape((-1,1))\n",
    "\n",
    "heights_arr = heights_arr.reshape((45,1))\n",
    "height_age_arr = np.hstack((heights_arr, ages_arr))\n",
    "\n",
    "mask = (height_age_arr[:, 0]>=182) & (height_age_arr[:,1]<=50)\n",
    "\n",
    "print(height_age_arr[mask,])"
   ]
  },
  {
   "cell_type": "markdown",
   "id": "93b913b2",
   "metadata": {},
   "source": [
    "- Data manipulation in Python is nearly synonymous with Numpy array manipulation. Operations shown here are the building blocks of many other examples used throughout this course. It is important to master them!\n",
    "---\n",
    "- The two primary components of Pandas are the Series and DataFrame objects. A Series is essentially a column. And a DataFrame is a multi-dimensional table made up of a collection of Series; it can consist of heterogeneous data types and even contain missing data.\n",
    "\n"
   ]
  },
  {
   "cell_type": "code",
   "execution_count": 5,
   "id": "f4fe3222",
   "metadata": {},
   "outputs": [],
   "source": [
    "import pandas as pd \n",
    "df=pd.read_csv('homeprices.csv')"
   ]
  },
  {
   "cell_type": "code",
   "execution_count": 6,
   "id": "1e2928a3",
   "metadata": {},
   "outputs": [
    {
     "data": {
      "text/plain": [
       "(5, 2)"
      ]
     },
     "execution_count": 6,
     "metadata": {},
     "output_type": "execute_result"
    }
   ],
   "source": [
    "df.shape \n"
   ]
  },
  {
   "cell_type": "code",
   "execution_count": 7,
   "id": "7d96d53b",
   "metadata": {},
   "outputs": [
    {
     "data": {
      "text/plain": [
       "<bound method DataFrame.info of    area   price\n",
       "0  2600  550000\n",
       "1  3000  565000\n",
       "2  3200  610000\n",
       "3  3600  680000\n",
       "4  4000  725000>"
      ]
     },
     "execution_count": 7,
     "metadata": {},
     "output_type": "execute_result"
    }
   ],
   "source": [
    "df.info \n"
   ]
  },
  {
   "cell_type": "code",
   "execution_count": 8,
   "id": "9c21269a",
   "metadata": {},
   "outputs": [
    {
     "data": {
      "text/html": [
       "<div>\n",
       "<style scoped>\n",
       "    .dataframe tbody tr th:only-of-type {\n",
       "        vertical-align: middle;\n",
       "    }\n",
       "\n",
       "    .dataframe tbody tr th {\n",
       "        vertical-align: top;\n",
       "    }\n",
       "\n",
       "    .dataframe thead th {\n",
       "        text-align: right;\n",
       "    }\n",
       "</style>\n",
       "<table border=\"1\" class=\"dataframe\">\n",
       "  <thead>\n",
       "    <tr style=\"text-align: right;\">\n",
       "      <th></th>\n",
       "      <th>area</th>\n",
       "      <th>price</th>\n",
       "    </tr>\n",
       "  </thead>\n",
       "  <tbody>\n",
       "    <tr>\n",
       "      <th>0</th>\n",
       "      <td>2600</td>\n",
       "      <td>550000</td>\n",
       "    </tr>\n",
       "    <tr>\n",
       "      <th>1</th>\n",
       "      <td>3000</td>\n",
       "      <td>565000</td>\n",
       "    </tr>\n",
       "    <tr>\n",
       "      <th>2</th>\n",
       "      <td>3200</td>\n",
       "      <td>610000</td>\n",
       "    </tr>\n",
       "    <tr>\n",
       "      <th>3</th>\n",
       "      <td>3600</td>\n",
       "      <td>680000</td>\n",
       "    </tr>\n",
       "    <tr>\n",
       "      <th>4</th>\n",
       "      <td>4000</td>\n",
       "      <td>725000</td>\n",
       "    </tr>\n",
       "  </tbody>\n",
       "</table>\n",
       "</div>"
      ],
      "text/plain": [
       "   area   price\n",
       "0  2600  550000\n",
       "1  3000  565000\n",
       "2  3200  610000\n",
       "3  3600  680000\n",
       "4  4000  725000"
      ]
     },
     "execution_count": 8,
     "metadata": {},
     "output_type": "execute_result"
    }
   ],
   "source": [
    "df.head()"
   ]
  },
  {
   "cell_type": "code",
   "execution_count": null,
   "id": "a91b24cb",
   "metadata": {},
   "outputs": [],
   "source": []
  },
  {
   "cell_type": "code",
   "execution_count": null,
   "id": "e772e69d",
   "metadata": {},
   "outputs": [],
   "source": []
  }
 ],
 "metadata": {
  "kernelspec": {
   "display_name": "Python 3 (ipykernel)",
   "language": "python",
   "name": "python3"
  },
  "language_info": {
   "codemirror_mode": {
    "name": "ipython",
    "version": 3
   },
   "file_extension": ".py",
   "mimetype": "text/x-python",
   "name": "python",
   "nbconvert_exporter": "python",
   "pygments_lexer": "ipython3",
   "version": "3.9.7"
  }
 },
 "nbformat": 4,
 "nbformat_minor": 5
}
